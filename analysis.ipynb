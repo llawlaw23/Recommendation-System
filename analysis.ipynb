{
  "cells": [
    {
      "cell_type": "markdown",
      "id": "view-in-github",
      "metadata": {
        "id": "view-in-github"
      },
      "source": [
        "<a href=\"https://colab.research.google.com/github/llawlaw23/Recommendation-System/blob/main/analysis.ipynb\" target=\"_parent\"><img src=\"https://colab.research.google.com/assets/colab-badge.svg\" alt=\"Open In Colab\"/></a>"
      ]
    },
    {
      "cell_type": "markdown",
      "id": "689858c3",
      "metadata": {
        "id": "689858c3"
      },
      "source": []
    },
    {
      "cell_type": "code",
      "execution_count": null,
      "id": "a87c7254",
      "metadata": {
        "id": "a87c7254"
      },
      "outputs": [],
      "source": [
        "import pandas as pd\n",
        "import gc\n",
        "import re"
      ]
    },
    {
      "cell_type": "code",
      "execution_count": null,
      "id": "2f7f4c9b",
      "metadata": {
        "id": "2f7f4c9b"
      },
      "outputs": [],
      "source": [
        "props1 = pd.read_csv(\"Datasets/item_properties_part1.1.csv\")\n",
        "props2 = pd.read_csv(\"Datasets/item_properties_part2.csv\")\n",
        "props = pd.concat([props1, props2])"
      ]
    },
    {
      "cell_type": "markdown",
      "id": "b7a177cb",
      "metadata": {
        "id": "b7a177cb"
      },
      "source": [
        "### Data Understanding & Preprocessing\n",
        "\n",
        "#### 1. Data Overview\n",
        "- Brief description of the dataset ( size, number of features, number of columns and rows, and observations)\n",
        "- Types of variables (numerical, categorical, datetime, etc.)\n",
        "- Initial observations about the data (e.g., imbalance, missing data, outliers)\n",
        "\n",
        "#### 2. Data Quality Checks\n",
        "- Check for missing values and filling or dropping them.\n",
        "- dropping columns.\n",
        "- checking for outliers."
      ]
    },
    {
      "cell_type": "markdown",
      "id": "jxI-UkGBlm7X",
      "metadata": {
        "id": "jxI-UkGBlm7X"
      },
      "source": [
        "Mapping itemid to categoryid from Properties Dataset\n",
        "\n",
        "In our dataset, the category of each item is stored within the properties table, specifically in rows where the property column has the value \"categoryid\". To extract a clean mapping of itemid → categoryid, we perform the following steps:\n",
        "\n",
        "Filter the dataset to keep only rows where property == \"categoryid\".\n",
        "\n",
        "Rename the value column to categoryid for clarity.\n",
        "\n",
        "Convert the category IDs to integers to facilitate merging with other tables.\n"
      ]
    },
    {
      "cell_type": "code",
      "execution_count": null,
      "id": "f4d6e0cb",
      "metadata": {
        "id": "f4d6e0cb",
        "outputId": "6cf068d6-0fcc-4065-b6a9-fb636e25775b"
      },
      "outputs": [
        {
          "data": {
            "application/vnd.microsoft.datawrangler.viewer.v0+json": {
              "columns": [
                {
                  "name": "index",
                  "rawType": "int64",
                  "type": "integer"
                },
                {
                  "name": "timestamp",
                  "rawType": "int64",
                  "type": "integer"
                },
                {
                  "name": "itemid",
                  "rawType": "int64",
                  "type": "integer"
                },
                {
                  "name": "property",
                  "rawType": "object",
                  "type": "string"
                },
                {
                  "name": "value",
                  "rawType": "object",
                  "type": "string"
                }
              ],
              "ref": "f57ac688-1d22-4199-8c8b-7a166045cf84",
              "rows": [
                [
                  "0",
                  "1435460400000",
                  "460429",
                  "categoryid",
                  "1338"
                ],
                [
                  "1",
                  "1441508400000",
                  "206783",
                  "888",
                  "1116713 960601 n277.200"
                ],
                [
                  "2",
                  "1439089200000",
                  "395014",
                  "400",
                  "n552.000 639502 n720.000 424566"
                ],
                [
                  "3",
                  "1431226800000",
                  "59481",
                  "790",
                  "n15360.000"
                ],
                [
                  "4",
                  "1431831600000",
                  "156781",
                  "917",
                  "828513"
                ]
              ],
              "shape": {
                "columns": 4,
                "rows": 5
              }
            },
            "text/html": [
              "<div>\n",
              "<style scoped>\n",
              "    .dataframe tbody tr th:only-of-type {\n",
              "        vertical-align: middle;\n",
              "    }\n",
              "\n",
              "    .dataframe tbody tr th {\n",
              "        vertical-align: top;\n",
              "    }\n",
              "\n",
              "    .dataframe thead th {\n",
              "        text-align: right;\n",
              "    }\n",
              "</style>\n",
              "<table border=\"1\" class=\"dataframe\">\n",
              "  <thead>\n",
              "    <tr style=\"text-align: right;\">\n",
              "      <th></th>\n",
              "      <th>timestamp</th>\n",
              "      <th>itemid</th>\n",
              "      <th>property</th>\n",
              "      <th>value</th>\n",
              "    </tr>\n",
              "  </thead>\n",
              "  <tbody>\n",
              "    <tr>\n",
              "      <th>0</th>\n",
              "      <td>1435460400000</td>\n",
              "      <td>460429</td>\n",
              "      <td>categoryid</td>\n",
              "      <td>1338</td>\n",
              "    </tr>\n",
              "    <tr>\n",
              "      <th>1</th>\n",
              "      <td>1441508400000</td>\n",
              "      <td>206783</td>\n",
              "      <td>888</td>\n",
              "      <td>1116713 960601 n277.200</td>\n",
              "    </tr>\n",
              "    <tr>\n",
              "      <th>2</th>\n",
              "      <td>1439089200000</td>\n",
              "      <td>395014</td>\n",
              "      <td>400</td>\n",
              "      <td>n552.000 639502 n720.000 424566</td>\n",
              "    </tr>\n",
              "    <tr>\n",
              "      <th>3</th>\n",
              "      <td>1431226800000</td>\n",
              "      <td>59481</td>\n",
              "      <td>790</td>\n",
              "      <td>n15360.000</td>\n",
              "    </tr>\n",
              "    <tr>\n",
              "      <th>4</th>\n",
              "      <td>1431831600000</td>\n",
              "      <td>156781</td>\n",
              "      <td>917</td>\n",
              "      <td>828513</td>\n",
              "    </tr>\n",
              "  </tbody>\n",
              "</table>\n",
              "</div>"
            ],
            "text/plain": [
              "       timestamp  itemid    property                            value\n",
              "0  1435460400000  460429  categoryid                             1338\n",
              "1  1441508400000  206783         888          1116713 960601 n277.200\n",
              "2  1439089200000  395014         400  n552.000 639502 n720.000 424566\n",
              "3  1431226800000   59481         790                       n15360.000\n",
              "4  1431831600000  156781         917                           828513"
            ]
          },
          "execution_count": 14,
          "metadata": {},
          "output_type": "execute_result"
        }
      ],
      "source": [
        "props.head()"
      ]
    },
    {
      "cell_type": "code",
      "execution_count": null,
      "id": "MtWnMX2ceT77",
      "metadata": {
        "id": "MtWnMX2ceT77"
      },
      "outputs": [],
      "source": [
        "main = props[props[\"property\"].isin([\"categoryid\", \"available\"])]"
      ]
    },
    {
      "cell_type": "code",
      "execution_count": null,
      "id": "eb17654b",
      "metadata": {
        "id": "eb17654b"
      },
      "outputs": [],
      "source": [
        "main = main.pivot_table(\n",
        "    index = \"itemid\",\n",
        "    columns = \"property\",\n",
        "    values = \"value\",\n",
        "    aggfunc = \"first\"\n",
        "    ).reset_index()"
      ]
    },
    {
      "cell_type": "code",
      "execution_count": null,
      "id": "21ab99d5",
      "metadata": {
        "id": "21ab99d5"
      },
      "outputs": [],
      "source": [
        "rest = props[~props[\"property\"].isin([\"categoryid\", \"available\"])].copy()"
      ]
    },
    {
      "cell_type": "code",
      "execution_count": null,
      "id": "2d8e26ed",
      "metadata": {
        "id": "2d8e26ed"
      },
      "outputs": [],
      "source": [
        "df_items = rest.merge(main, on = \"itemid\", how = \"left\")"
      ]
    },
    {
      "cell_type": "code",
      "execution_count": null,
      "id": "f93fb003",
      "metadata": {
        "id": "f93fb003",
        "outputId": "9ea69851-bcfc-47cf-de98-137e361bd020"
      },
      "outputs": [
        {
          "data": {
            "application/vnd.microsoft.datawrangler.viewer.v0+json": {
              "columns": [
                {
                  "name": "index",
                  "rawType": "int64",
                  "type": "integer"
                },
                {
                  "name": "timestamp",
                  "rawType": "int64",
                  "type": "integer"
                },
                {
                  "name": "itemid",
                  "rawType": "int64",
                  "type": "integer"
                },
                {
                  "name": "property",
                  "rawType": "object",
                  "type": "string"
                },
                {
                  "name": "value",
                  "rawType": "object",
                  "type": "string"
                },
                {
                  "name": "available",
                  "rawType": "object",
                  "type": "string"
                },
                {
                  "name": "categoryid",
                  "rawType": "object",
                  "type": "string"
                }
              ],
              "ref": "0af54460-d139-48e1-be42-05b90116fc13",
              "rows": [
                [
                  "0",
                  "1441508400000",
                  "206783",
                  "888",
                  "1116713 960601 n277.200",
                  "0",
                  "942"
                ],
                [
                  "1",
                  "1439089200000",
                  "395014",
                  "400",
                  "n552.000 639502 n720.000 424566",
                  "0",
                  "1135"
                ],
                [
                  "2",
                  "1431226800000",
                  "59481",
                  "790",
                  "n15360.000",
                  "1",
                  "498"
                ],
                [
                  "3",
                  "1431831600000",
                  "156781",
                  "917",
                  "828513",
                  "0",
                  "891"
                ],
                [
                  "4",
                  "1434250800000",
                  "89534",
                  "213",
                  "1121373",
                  "0",
                  "1577"
                ]
              ],
              "shape": {
                "columns": 6,
                "rows": 5
              }
            },
            "text/html": [
              "<div>\n",
              "<style scoped>\n",
              "    .dataframe tbody tr th:only-of-type {\n",
              "        vertical-align: middle;\n",
              "    }\n",
              "\n",
              "    .dataframe tbody tr th {\n",
              "        vertical-align: top;\n",
              "    }\n",
              "\n",
              "    .dataframe thead th {\n",
              "        text-align: right;\n",
              "    }\n",
              "</style>\n",
              "<table border=\"1\" class=\"dataframe\">\n",
              "  <thead>\n",
              "    <tr style=\"text-align: right;\">\n",
              "      <th></th>\n",
              "      <th>timestamp</th>\n",
              "      <th>itemid</th>\n",
              "      <th>property</th>\n",
              "      <th>value</th>\n",
              "      <th>available</th>\n",
              "      <th>categoryid</th>\n",
              "    </tr>\n",
              "  </thead>\n",
              "  <tbody>\n",
              "    <tr>\n",
              "      <th>0</th>\n",
              "      <td>1441508400000</td>\n",
              "      <td>206783</td>\n",
              "      <td>888</td>\n",
              "      <td>1116713 960601 n277.200</td>\n",
              "      <td>0</td>\n",
              "      <td>942</td>\n",
              "    </tr>\n",
              "    <tr>\n",
              "      <th>1</th>\n",
              "      <td>1439089200000</td>\n",
              "      <td>395014</td>\n",
              "      <td>400</td>\n",
              "      <td>n552.000 639502 n720.000 424566</td>\n",
              "      <td>0</td>\n",
              "      <td>1135</td>\n",
              "    </tr>\n",
              "    <tr>\n",
              "      <th>2</th>\n",
              "      <td>1431226800000</td>\n",
              "      <td>59481</td>\n",
              "      <td>790</td>\n",
              "      <td>n15360.000</td>\n",
              "      <td>1</td>\n",
              "      <td>498</td>\n",
              "    </tr>\n",
              "    <tr>\n",
              "      <th>3</th>\n",
              "      <td>1431831600000</td>\n",
              "      <td>156781</td>\n",
              "      <td>917</td>\n",
              "      <td>828513</td>\n",
              "      <td>0</td>\n",
              "      <td>891</td>\n",
              "    </tr>\n",
              "    <tr>\n",
              "      <th>4</th>\n",
              "      <td>1434250800000</td>\n",
              "      <td>89534</td>\n",
              "      <td>213</td>\n",
              "      <td>1121373</td>\n",
              "      <td>0</td>\n",
              "      <td>1577</td>\n",
              "    </tr>\n",
              "  </tbody>\n",
              "</table>\n",
              "</div>"
            ],
            "text/plain": [
              "       timestamp  itemid property                            value available  \\\n",
              "0  1441508400000  206783      888          1116713 960601 n277.200         0   \n",
              "1  1439089200000  395014      400  n552.000 639502 n720.000 424566         0   \n",
              "2  1431226800000   59481      790                       n15360.000         1   \n",
              "3  1431831600000  156781      917                           828513         0   \n",
              "4  1434250800000   89534      213                          1121373         0   \n",
              "\n",
              "  categoryid  \n",
              "0        942  \n",
              "1       1135  \n",
              "2        498  \n",
              "3        891  \n",
              "4       1577  "
            ]
          },
          "execution_count": 19,
          "metadata": {},
          "output_type": "execute_result"
        }
      ],
      "source": [
        "df_items.head()"
      ]
    },
    {
      "cell_type": "code",
      "execution_count": null,
      "id": "0fbd000f",
      "metadata": {
        "id": "0fbd000f"
      },
      "outputs": [],
      "source": [
        "# clean the value column and keep values with n attached to them and add them if they are multiple\n",
        "def sum_n_values(text):\n",
        "    nums = re.findall(r\"n([\\d\\.]+)\", str(text))\n",
        "    nums = [float(x) for x in nums]\n",
        "    return sum(nums) if nums else None\n",
        "\n",
        "df_items[\"value_n\"] = df_items[\"value\"].apply(sum_n_values)"
      ]
    },
    {
      "cell_type": "code",
      "execution_count": null,
      "id": "c08f638a",
      "metadata": {
        "id": "c08f638a"
      },
      "outputs": [],
      "source": [
        "df_items = df_items.drop(columns = [\"value\"])"
      ]
    },
    {
      "cell_type": "code",
      "execution_count": null,
      "id": "fd6364e8",
      "metadata": {
        "id": "fd6364e8",
        "outputId": "db9effef-65a8-4bb3-f8a8-38f8d421f4cc"
      },
      "outputs": [
        {
          "data": {
            "application/vnd.microsoft.datawrangler.viewer.v0+json": {
              "columns": [
                {
                  "name": "index",
                  "rawType": "int64",
                  "type": "integer"
                },
                {
                  "name": "timestamp",
                  "rawType": "int64",
                  "type": "integer"
                },
                {
                  "name": "itemid",
                  "rawType": "int64",
                  "type": "integer"
                },
                {
                  "name": "property",
                  "rawType": "object",
                  "type": "string"
                },
                {
                  "name": "available",
                  "rawType": "object",
                  "type": "string"
                },
                {
                  "name": "categoryid",
                  "rawType": "object",
                  "type": "string"
                },
                {
                  "name": "value_n",
                  "rawType": "float64",
                  "type": "float"
                }
              ],
              "ref": "ab9c7b35-2156-471f-8183-7c9d2ad5dc97",
              "rows": [
                [
                  "0",
                  "1441508400000",
                  "206783",
                  "888",
                  "0",
                  "942",
                  "277.2"
                ],
                [
                  "1",
                  "1439089200000",
                  "395014",
                  "400",
                  "0",
                  "1135",
                  "1272.0"
                ],
                [
                  "2",
                  "1431226800000",
                  "59481",
                  "790",
                  "1",
                  "498",
                  "15360.0"
                ],
                [
                  "3",
                  "1431831600000",
                  "156781",
                  "917",
                  "0",
                  "891",
                  null
                ],
                [
                  "4",
                  "1434250800000",
                  "89534",
                  "213",
                  "0",
                  "1577",
                  null
                ]
              ],
              "shape": {
                "columns": 6,
                "rows": 5
              }
            },
            "text/html": [
              "<div>\n",
              "<style scoped>\n",
              "    .dataframe tbody tr th:only-of-type {\n",
              "        vertical-align: middle;\n",
              "    }\n",
              "\n",
              "    .dataframe tbody tr th {\n",
              "        vertical-align: top;\n",
              "    }\n",
              "\n",
              "    .dataframe thead th {\n",
              "        text-align: right;\n",
              "    }\n",
              "</style>\n",
              "<table border=\"1\" class=\"dataframe\">\n",
              "  <thead>\n",
              "    <tr style=\"text-align: right;\">\n",
              "      <th></th>\n",
              "      <th>timestamp</th>\n",
              "      <th>itemid</th>\n",
              "      <th>property</th>\n",
              "      <th>available</th>\n",
              "      <th>categoryid</th>\n",
              "      <th>value_n</th>\n",
              "    </tr>\n",
              "  </thead>\n",
              "  <tbody>\n",
              "    <tr>\n",
              "      <th>0</th>\n",
              "      <td>1441508400000</td>\n",
              "      <td>206783</td>\n",
              "      <td>888</td>\n",
              "      <td>0</td>\n",
              "      <td>942</td>\n",
              "      <td>277.2</td>\n",
              "    </tr>\n",
              "    <tr>\n",
              "      <th>1</th>\n",
              "      <td>1439089200000</td>\n",
              "      <td>395014</td>\n",
              "      <td>400</td>\n",
              "      <td>0</td>\n",
              "      <td>1135</td>\n",
              "      <td>1272.0</td>\n",
              "    </tr>\n",
              "    <tr>\n",
              "      <th>2</th>\n",
              "      <td>1431226800000</td>\n",
              "      <td>59481</td>\n",
              "      <td>790</td>\n",
              "      <td>1</td>\n",
              "      <td>498</td>\n",
              "      <td>15360.0</td>\n",
              "    </tr>\n",
              "    <tr>\n",
              "      <th>3</th>\n",
              "      <td>1431831600000</td>\n",
              "      <td>156781</td>\n",
              "      <td>917</td>\n",
              "      <td>0</td>\n",
              "      <td>891</td>\n",
              "      <td>NaN</td>\n",
              "    </tr>\n",
              "    <tr>\n",
              "      <th>4</th>\n",
              "      <td>1434250800000</td>\n",
              "      <td>89534</td>\n",
              "      <td>213</td>\n",
              "      <td>0</td>\n",
              "      <td>1577</td>\n",
              "      <td>NaN</td>\n",
              "    </tr>\n",
              "  </tbody>\n",
              "</table>\n",
              "</div>"
            ],
            "text/plain": [
              "       timestamp  itemid property available categoryid  value_n\n",
              "0  1441508400000  206783      888         0        942    277.2\n",
              "1  1439089200000  395014      400         0       1135   1272.0\n",
              "2  1431226800000   59481      790         1        498  15360.0\n",
              "3  1431831600000  156781      917         0        891      NaN\n",
              "4  1434250800000   89534      213         0       1577      NaN"
            ]
          },
          "execution_count": 22,
          "metadata": {},
          "output_type": "execute_result"
        }
      ],
      "source": [
        "df_items.head()"
      ]
    },
    {
      "cell_type": "code",
      "execution_count": null,
      "id": "09163054",
      "metadata": {
        "id": "09163054",
        "outputId": "bc588682-75b1-4b2b-d551-64795a64fc46"
      },
      "outputs": [
        {
          "data": {
            "text/plain": [
              "(17984049, 6)"
            ]
          },
          "execution_count": 23,
          "metadata": {},
          "output_type": "execute_result"
        }
      ],
      "source": [
        "df_items.shape"
      ]
    },
    {
      "cell_type": "code",
      "execution_count": null,
      "id": "500a936f",
      "metadata": {
        "id": "500a936f"
      },
      "outputs": [],
      "source": [
        "df_items = df_items.dropna()"
      ]
    },
    {
      "cell_type": "code",
      "execution_count": null,
      "id": "6ae8c27f",
      "metadata": {
        "id": "6ae8c27f",
        "outputId": "5d9117bd-797d-4dc1-96a3-9159676a7b29"
      },
      "outputs": [
        {
          "data": {
            "text/plain": [
              "(5174013, 6)"
            ]
          },
          "execution_count": 25,
          "metadata": {},
          "output_type": "execute_result"
        }
      ],
      "source": [
        "df_items.shape"
      ]
    },
    {
      "cell_type": "code",
      "execution_count": null,
      "id": "a8cc1888",
      "metadata": {
        "id": "a8cc1888",
        "outputId": "8173846b-44f2-4376-a2ab-22ee6c48e562"
      },
      "outputs": [
        {
          "data": {
            "application/vnd.microsoft.datawrangler.viewer.v0+json": {
              "columns": [
                {
                  "name": "index",
                  "rawType": "int64",
                  "type": "integer"
                },
                {
                  "name": "timestamp",
                  "rawType": "int64",
                  "type": "integer"
                },
                {
                  "name": "itemid",
                  "rawType": "int64",
                  "type": "integer"
                },
                {
                  "name": "property",
                  "rawType": "object",
                  "type": "string"
                },
                {
                  "name": "available",
                  "rawType": "object",
                  "type": "string"
                },
                {
                  "name": "categoryid",
                  "rawType": "object",
                  "type": "string"
                },
                {
                  "name": "value_n",
                  "rawType": "float64",
                  "type": "float"
                }
              ],
              "ref": "8ddb2a50-2d08-4262-8d90-349f8e9c05fd",
              "rows": [
                [
                  "0",
                  "1441508400000",
                  "206783",
                  "888",
                  "0",
                  "942",
                  "277.2"
                ],
                [
                  "1",
                  "1439089200000",
                  "395014",
                  "400",
                  "0",
                  "1135",
                  "1272.0"
                ],
                [
                  "2",
                  "1431226800000",
                  "59481",
                  "790",
                  "1",
                  "498",
                  "15360.0"
                ],
                [
                  "7",
                  "1434250800000",
                  "98113",
                  "451",
                  "0",
                  "48",
                  "48.0"
                ],
                [
                  "8",
                  "1439089200000",
                  "450113",
                  "888",
                  "0",
                  "227",
                  "504.0"
                ],
                [
                  "9",
                  "1435460400000",
                  "244127",
                  "400",
                  "0",
                  "589",
                  "1272.0"
                ],
                [
                  "12",
                  "1434250800000",
                  "169055",
                  "790",
                  "1",
                  "1298",
                  "21000.0"
                ],
                [
                  "13",
                  "1435460400000",
                  "178601",
                  "790",
                  "0",
                  "1378",
                  "5400.0"
                ],
                [
                  "15",
                  "1437274800000",
                  "49337",
                  "0",
                  "0",
                  "1613",
                  "36.0"
                ],
                [
                  "17",
                  "1439694000000",
                  "48696",
                  "566",
                  "1",
                  "959",
                  "480.0"
                ]
              ],
              "shape": {
                "columns": 6,
                "rows": 10
              }
            },
            "text/html": [
              "<div>\n",
              "<style scoped>\n",
              "    .dataframe tbody tr th:only-of-type {\n",
              "        vertical-align: middle;\n",
              "    }\n",
              "\n",
              "    .dataframe tbody tr th {\n",
              "        vertical-align: top;\n",
              "    }\n",
              "\n",
              "    .dataframe thead th {\n",
              "        text-align: right;\n",
              "    }\n",
              "</style>\n",
              "<table border=\"1\" class=\"dataframe\">\n",
              "  <thead>\n",
              "    <tr style=\"text-align: right;\">\n",
              "      <th></th>\n",
              "      <th>timestamp</th>\n",
              "      <th>itemid</th>\n",
              "      <th>property</th>\n",
              "      <th>available</th>\n",
              "      <th>categoryid</th>\n",
              "      <th>value_n</th>\n",
              "    </tr>\n",
              "  </thead>\n",
              "  <tbody>\n",
              "    <tr>\n",
              "      <th>0</th>\n",
              "      <td>1441508400000</td>\n",
              "      <td>206783</td>\n",
              "      <td>888</td>\n",
              "      <td>0</td>\n",
              "      <td>942</td>\n",
              "      <td>277.2</td>\n",
              "    </tr>\n",
              "    <tr>\n",
              "      <th>1</th>\n",
              "      <td>1439089200000</td>\n",
              "      <td>395014</td>\n",
              "      <td>400</td>\n",
              "      <td>0</td>\n",
              "      <td>1135</td>\n",
              "      <td>1272.0</td>\n",
              "    </tr>\n",
              "    <tr>\n",
              "      <th>2</th>\n",
              "      <td>1431226800000</td>\n",
              "      <td>59481</td>\n",
              "      <td>790</td>\n",
              "      <td>1</td>\n",
              "      <td>498</td>\n",
              "      <td>15360.0</td>\n",
              "    </tr>\n",
              "    <tr>\n",
              "      <th>7</th>\n",
              "      <td>1434250800000</td>\n",
              "      <td>98113</td>\n",
              "      <td>451</td>\n",
              "      <td>0</td>\n",
              "      <td>48</td>\n",
              "      <td>48.0</td>\n",
              "    </tr>\n",
              "    <tr>\n",
              "      <th>8</th>\n",
              "      <td>1439089200000</td>\n",
              "      <td>450113</td>\n",
              "      <td>888</td>\n",
              "      <td>0</td>\n",
              "      <td>227</td>\n",
              "      <td>504.0</td>\n",
              "    </tr>\n",
              "    <tr>\n",
              "      <th>9</th>\n",
              "      <td>1435460400000</td>\n",
              "      <td>244127</td>\n",
              "      <td>400</td>\n",
              "      <td>0</td>\n",
              "      <td>589</td>\n",
              "      <td>1272.0</td>\n",
              "    </tr>\n",
              "    <tr>\n",
              "      <th>12</th>\n",
              "      <td>1434250800000</td>\n",
              "      <td>169055</td>\n",
              "      <td>790</td>\n",
              "      <td>1</td>\n",
              "      <td>1298</td>\n",
              "      <td>21000.0</td>\n",
              "    </tr>\n",
              "    <tr>\n",
              "      <th>13</th>\n",
              "      <td>1435460400000</td>\n",
              "      <td>178601</td>\n",
              "      <td>790</td>\n",
              "      <td>0</td>\n",
              "      <td>1378</td>\n",
              "      <td>5400.0</td>\n",
              "    </tr>\n",
              "    <tr>\n",
              "      <th>15</th>\n",
              "      <td>1437274800000</td>\n",
              "      <td>49337</td>\n",
              "      <td>0</td>\n",
              "      <td>0</td>\n",
              "      <td>1613</td>\n",
              "      <td>36.0</td>\n",
              "    </tr>\n",
              "    <tr>\n",
              "      <th>17</th>\n",
              "      <td>1439694000000</td>\n",
              "      <td>48696</td>\n",
              "      <td>566</td>\n",
              "      <td>1</td>\n",
              "      <td>959</td>\n",
              "      <td>480.0</td>\n",
              "    </tr>\n",
              "  </tbody>\n",
              "</table>\n",
              "</div>"
            ],
            "text/plain": [
              "        timestamp  itemid property available categoryid  value_n\n",
              "0   1441508400000  206783      888         0        942    277.2\n",
              "1   1439089200000  395014      400         0       1135   1272.0\n",
              "2   1431226800000   59481      790         1        498  15360.0\n",
              "7   1434250800000   98113      451         0         48     48.0\n",
              "8   1439089200000  450113      888         0        227    504.0\n",
              "9   1435460400000  244127      400         0        589   1272.0\n",
              "12  1434250800000  169055      790         1       1298  21000.0\n",
              "13  1435460400000  178601      790         0       1378   5400.0\n",
              "15  1437274800000   49337        0         0       1613     36.0\n",
              "17  1439694000000   48696      566         1        959    480.0"
            ]
          },
          "execution_count": 26,
          "metadata": {},
          "output_type": "execute_result"
        }
      ],
      "source": [
        "df_items.head(10)"
      ]
    },
    {
      "cell_type": "code",
      "execution_count": null,
      "id": "096v3Fx-eY7m",
      "metadata": {
        "id": "096v3Fx-eY7m"
      },
      "outputs": [],
      "source": [
        "cols_to_int = [\"categoryid\", \"available\", \"property\"]\n",
        "df_items[cols_to_int] = df_items[cols_to_int].astype(\"Int64\")"
      ]
    },
    {
      "cell_type": "code",
      "execution_count": null,
      "id": "ng7uPY1LALYx",
      "metadata": {
        "id": "ng7uPY1LALYx"
      },
      "outputs": [],
      "source": [
        "itemid_value = df_items.groupby(\"itemid\")[\"value_n\"].count()"
      ]
    },
    {
      "cell_type": "code",
      "execution_count": null,
      "id": "czCR65QnASK3",
      "metadata": {
        "id": "czCR65QnASK3"
      },
      "outputs": [],
      "source": [
        "Q1 = itemid_value.quantile(0.25)\n",
        "Q3 = itemid_value.quantile(0.75)\n",
        "IQR = Q3 - Q1"
      ]
    },
    {
      "cell_type": "code",
      "execution_count": null,
      "id": "YVvAkX9gAVxE",
      "metadata": {
        "id": "YVvAkX9gAVxE"
      },
      "outputs": [],
      "source": [
        "lower_bound = Q1 - 1.5 * IQR\n",
        "upper_bound = Q3 + 1.5 * IQR"
      ]
    },
    {
      "cell_type": "code",
      "execution_count": null,
      "id": "p2k5ucXlAX-e",
      "metadata": {
        "id": "p2k5ucXlAX-e"
      },
      "outputs": [],
      "source": [
        "outlier_itemid_value = itemid_value[(itemid_value < lower_bound) | (itemid_value > upper_bound)].index"
      ]
    },
    {
      "cell_type": "code",
      "execution_count": null,
      "id": "g7pCoOCbAZlU",
      "metadata": {
        "id": "g7pCoOCbAZlU"
      },
      "outputs": [],
      "source": [
        "is_outlier = df_items[\"itemid\"].isin(outlier_itemid_value)"
      ]
    },
    {
      "cell_type": "code",
      "execution_count": null,
      "id": "N_HP5QH7AcHF",
      "metadata": {
        "id": "N_HP5QH7AcHF"
      },
      "outputs": [],
      "source": [
        "df_items = df_items[~is_outlier]"
      ]
    },
    {
      "cell_type": "code",
      "execution_count": null,
      "id": "ba723a40",
      "metadata": {
        "id": "ba723a40",
        "outputId": "f0a63d0f-4786-4c6e-da7e-f7cd22945a55"
      },
      "outputs": [
        {
          "data": {
            "text/plain": [
              "(4361433, 6)"
            ]
          },
          "execution_count": 47,
          "metadata": {},
          "output_type": "execute_result"
        }
      ],
      "source": [
        "df_items.shape"
      ]
    },
    {
      "cell_type": "code",
      "execution_count": null,
      "id": "53326b9e",
      "metadata": {
        "id": "53326b9e",
        "outputId": "9659e56a-fdb1-4574-a005-037b87b32b79"
      },
      "outputs": [
        {
          "name": "stdout",
          "output_type": "stream",
          "text": [
            "Index([], dtype='object')\n"
          ]
        }
      ],
      "source": [
        "print(df_items.columns[df_items.columns.duplicated()])"
      ]
    },
    {
      "cell_type": "code",
      "execution_count": null,
      "id": "ICkU0eHmCArK",
      "metadata": {
        "id": "ICkU0eHmCArK"
      },
      "outputs": [],
      "source": [
        "df_items[\"timestamp\"] = pd.to_datetime(df_items[\"timestamp\"], unit = \"ms\")"
      ]
    },
    {
      "cell_type": "code",
      "execution_count": null,
      "id": "Ok9iHb7reeuE",
      "metadata": {
        "id": "Ok9iHb7reeuE",
        "outputId": "563a2bc0-6a53-4925-ee43-e9ad4a8113ef"
      },
      "outputs": [
        {
          "data": {
            "text/plain": [
              "636"
            ]
          },
          "execution_count": 50,
          "metadata": {},
          "output_type": "execute_result"
        }
      ],
      "source": [
        "# saved the clean csv as an new file in the cleaned folder and delete the previous one\n",
        "df_items.to_csv(\"df_items.csv\", index = False)\n",
        "del df_items; gc.collect()"
      ]
    },
    {
      "cell_type": "code",
      "execution_count": null,
      "id": "8d8274fe",
      "metadata": {
        "id": "8d8274fe"
      },
      "outputs": [],
      "source": [
        "events = pd.read_csv(\"Datasets/events.csv\")\n",
        "cats = pd.read_csv(\"Datasets/category_tree.csv\")"
      ]
    },
    {
      "cell_type": "code",
      "execution_count": null,
      "id": "0035f946",
      "metadata": {
        "id": "0035f946"
      },
      "outputs": [],
      "source": [
        "events[\"timestamp\"] = pd.to_datetime(events[\"timestamp\"], unit = \"ms\")"
      ]
    },
    {
      "cell_type": "code",
      "execution_count": null,
      "id": "e0362a69",
      "metadata": {
        "colab": {
          "base_uri": "https://localhost:8080/"
        },
        "id": "e0362a69",
        "outputId": "3014061e-d85a-468f-debb-ffc360202c9d"
      },
      "outputs": [
        {
          "data": {
            "text/plain": [
              "(2756101, 5)"
            ]
          },
          "execution_count": 93,
          "metadata": {},
          "output_type": "execute_result"
        }
      ],
      "source": [
        "events.shape"
      ]
    },
    {
      "cell_type": "code",
      "execution_count": null,
      "id": "5be904fb",
      "metadata": {
        "colab": {
          "base_uri": "https://localhost:8080/",
          "height": 241
        },
        "id": "5be904fb",
        "outputId": "7d4cf931-a4ba-4188-e7aa-4a8031b57e45"
      },
      "outputs": [
        {
          "data": {
            "text/html": [
              "<div>\n",
              "<style scoped>\n",
              "    .dataframe tbody tr th:only-of-type {\n",
              "        vertical-align: middle;\n",
              "    }\n",
              "\n",
              "    .dataframe tbody tr th {\n",
              "        vertical-align: top;\n",
              "    }\n",
              "\n",
              "    .dataframe thead th {\n",
              "        text-align: right;\n",
              "    }\n",
              "</style>\n",
              "<table border=\"1\" class=\"dataframe\">\n",
              "  <thead>\n",
              "    <tr style=\"text-align: right;\">\n",
              "      <th></th>\n",
              "      <th>0</th>\n",
              "    </tr>\n",
              "  </thead>\n",
              "  <tbody>\n",
              "    <tr>\n",
              "      <th>timestamp</th>\n",
              "      <td>0</td>\n",
              "    </tr>\n",
              "    <tr>\n",
              "      <th>visitorid</th>\n",
              "      <td>0</td>\n",
              "    </tr>\n",
              "    <tr>\n",
              "      <th>event</th>\n",
              "      <td>0</td>\n",
              "    </tr>\n",
              "    <tr>\n",
              "      <th>itemid</th>\n",
              "      <td>0</td>\n",
              "    </tr>\n",
              "    <tr>\n",
              "      <th>transactionid</th>\n",
              "      <td>2733644</td>\n",
              "    </tr>\n",
              "  </tbody>\n",
              "</table>\n",
              "</div><br><label><b>dtype:</b> int64</label>"
            ],
            "text/plain": [
              "timestamp              0\n",
              "visitorid              0\n",
              "event                  0\n",
              "itemid                 0\n",
              "transactionid    2733644\n",
              "dtype: int64"
            ]
          },
          "execution_count": 94,
          "metadata": {},
          "output_type": "execute_result"
        }
      ],
      "source": [
        "events.isnull().sum()"
      ]
    },
    {
      "cell_type": "code",
      "execution_count": null,
      "id": "543ddd4c",
      "metadata": {
        "id": "543ddd4c"
      },
      "outputs": [],
      "source": [
        "events = events.drop(columns = [\"transactionid\"])"
      ]
    },
    {
      "cell_type": "code",
      "execution_count": null,
      "id": "15b5b4a8",
      "metadata": {
        "colab": {
          "base_uri": "https://localhost:8080/",
          "height": 206
        },
        "id": "15b5b4a8",
        "outputId": "ddd995ec-f063-4527-bff7-afd9f701d719"
      },
      "outputs": [
        {
          "data": {
            "application/vnd.google.colaboratory.intrinsic+json": {
              "type": "dataframe",
              "variable_name": "events"
            },
            "text/html": [
              "\n",
              "  <div id=\"df-735b202c-f260-4709-b343-fdffb3517c50\" class=\"colab-df-container\">\n",
              "    <div>\n",
              "<style scoped>\n",
              "    .dataframe tbody tr th:only-of-type {\n",
              "        vertical-align: middle;\n",
              "    }\n",
              "\n",
              "    .dataframe tbody tr th {\n",
              "        vertical-align: top;\n",
              "    }\n",
              "\n",
              "    .dataframe thead th {\n",
              "        text-align: right;\n",
              "    }\n",
              "</style>\n",
              "<table border=\"1\" class=\"dataframe\">\n",
              "  <thead>\n",
              "    <tr style=\"text-align: right;\">\n",
              "      <th></th>\n",
              "      <th>timestamp</th>\n",
              "      <th>visitorid</th>\n",
              "      <th>event</th>\n",
              "      <th>itemid</th>\n",
              "    </tr>\n",
              "  </thead>\n",
              "  <tbody>\n",
              "    <tr>\n",
              "      <th>0</th>\n",
              "      <td>2015-06-02 05:02:12.117</td>\n",
              "      <td>257597</td>\n",
              "      <td>view</td>\n",
              "      <td>355908</td>\n",
              "    </tr>\n",
              "    <tr>\n",
              "      <th>1</th>\n",
              "      <td>2015-06-02 05:50:14.164</td>\n",
              "      <td>992329</td>\n",
              "      <td>view</td>\n",
              "      <td>248676</td>\n",
              "    </tr>\n",
              "    <tr>\n",
              "      <th>2</th>\n",
              "      <td>2015-06-02 05:13:19.827</td>\n",
              "      <td>111016</td>\n",
              "      <td>view</td>\n",
              "      <td>318965</td>\n",
              "    </tr>\n",
              "    <tr>\n",
              "      <th>3</th>\n",
              "      <td>2015-06-02 05:12:35.914</td>\n",
              "      <td>483717</td>\n",
              "      <td>view</td>\n",
              "      <td>253185</td>\n",
              "    </tr>\n",
              "    <tr>\n",
              "      <th>4</th>\n",
              "      <td>2015-06-02 05:02:17.106</td>\n",
              "      <td>951259</td>\n",
              "      <td>view</td>\n",
              "      <td>367447</td>\n",
              "    </tr>\n",
              "  </tbody>\n",
              "</table>\n",
              "</div>\n",
              "    <div class=\"colab-df-buttons\">\n",
              "\n",
              "  <div class=\"colab-df-container\">\n",
              "    <button class=\"colab-df-convert\" onclick=\"convertToInteractive('df-735b202c-f260-4709-b343-fdffb3517c50')\"\n",
              "            title=\"Convert this dataframe to an interactive table.\"\n",
              "            style=\"display:none;\">\n",
              "\n",
              "  <svg xmlns=\"http://www.w3.org/2000/svg\" height=\"24px\" viewBox=\"0 -960 960 960\">\n",
              "    <path d=\"M120-120v-720h720v720H120Zm60-500h600v-160H180v160Zm220 220h160v-160H400v160Zm0 220h160v-160H400v160ZM180-400h160v-160H180v160Zm440 0h160v-160H620v160ZM180-180h160v-160H180v160Zm440 0h160v-160H620v160Z\"/>\n",
              "  </svg>\n",
              "    </button>\n",
              "\n",
              "  <style>\n",
              "    .colab-df-container {\n",
              "      display:flex;\n",
              "      gap: 12px;\n",
              "    }\n",
              "\n",
              "    .colab-df-convert {\n",
              "      background-color: #E8F0FE;\n",
              "      border: none;\n",
              "      border-radius: 50%;\n",
              "      cursor: pointer;\n",
              "      display: none;\n",
              "      fill: #1967D2;\n",
              "      height: 32px;\n",
              "      padding: 0 0 0 0;\n",
              "      width: 32px;\n",
              "    }\n",
              "\n",
              "    .colab-df-convert:hover {\n",
              "      background-color: #E2EBFA;\n",
              "      box-shadow: 0px 1px 2px rgba(60, 64, 67, 0.3), 0px 1px 3px 1px rgba(60, 64, 67, 0.15);\n",
              "      fill: #174EA6;\n",
              "    }\n",
              "\n",
              "    .colab-df-buttons div {\n",
              "      margin-bottom: 4px;\n",
              "    }\n",
              "\n",
              "    [theme=dark] .colab-df-convert {\n",
              "      background-color: #3B4455;\n",
              "      fill: #D2E3FC;\n",
              "    }\n",
              "\n",
              "    [theme=dark] .colab-df-convert:hover {\n",
              "      background-color: #434B5C;\n",
              "      box-shadow: 0px 1px 3px 1px rgba(0, 0, 0, 0.15);\n",
              "      filter: drop-shadow(0px 1px 2px rgba(0, 0, 0, 0.3));\n",
              "      fill: #FFFFFF;\n",
              "    }\n",
              "  </style>\n",
              "\n",
              "    <script>\n",
              "      const buttonEl =\n",
              "        document.querySelector('#df-735b202c-f260-4709-b343-fdffb3517c50 button.colab-df-convert');\n",
              "      buttonEl.style.display =\n",
              "        google.colab.kernel.accessAllowed ? 'block' : 'none';\n",
              "\n",
              "      async function convertToInteractive(key) {\n",
              "        const element = document.querySelector('#df-735b202c-f260-4709-b343-fdffb3517c50');\n",
              "        const dataTable =\n",
              "          await google.colab.kernel.invokeFunction('convertToInteractive',\n",
              "                                                    [key], {});\n",
              "        if (!dataTable) return;\n",
              "\n",
              "        const docLinkHtml = 'Like what you see? Visit the ' +\n",
              "          '<a target=\"_blank\" href=https://colab.research.google.com/notebooks/data_table.ipynb>data table notebook</a>'\n",
              "          + ' to learn more about interactive tables.';\n",
              "        element.innerHTML = '';\n",
              "        dataTable['output_type'] = 'display_data';\n",
              "        await google.colab.output.renderOutput(dataTable, element);\n",
              "        const docLink = document.createElement('div');\n",
              "        docLink.innerHTML = docLinkHtml;\n",
              "        element.appendChild(docLink);\n",
              "      }\n",
              "    </script>\n",
              "  </div>\n",
              "\n",
              "\n",
              "    <div id=\"df-675f9eaf-3bf4-48e4-bc8a-9877de76c5b3\">\n",
              "      <button class=\"colab-df-quickchart\" onclick=\"quickchart('df-675f9eaf-3bf4-48e4-bc8a-9877de76c5b3')\"\n",
              "                title=\"Suggest charts\"\n",
              "                style=\"display:none;\">\n",
              "\n",
              "<svg xmlns=\"http://www.w3.org/2000/svg\" height=\"24px\"viewBox=\"0 0 24 24\"\n",
              "     width=\"24px\">\n",
              "    <g>\n",
              "        <path d=\"M19 3H5c-1.1 0-2 .9-2 2v14c0 1.1.9 2 2 2h14c1.1 0 2-.9 2-2V5c0-1.1-.9-2-2-2zM9 17H7v-7h2v7zm4 0h-2V7h2v10zm4 0h-2v-4h2v4z\"/>\n",
              "    </g>\n",
              "</svg>\n",
              "      </button>\n",
              "\n",
              "<style>\n",
              "  .colab-df-quickchart {\n",
              "      --bg-color: #E8F0FE;\n",
              "      --fill-color: #1967D2;\n",
              "      --hover-bg-color: #E2EBFA;\n",
              "      --hover-fill-color: #174EA6;\n",
              "      --disabled-fill-color: #AAA;\n",
              "      --disabled-bg-color: #DDD;\n",
              "  }\n",
              "\n",
              "  [theme=dark] .colab-df-quickchart {\n",
              "      --bg-color: #3B4455;\n",
              "      --fill-color: #D2E3FC;\n",
              "      --hover-bg-color: #434B5C;\n",
              "      --hover-fill-color: #FFFFFF;\n",
              "      --disabled-bg-color: #3B4455;\n",
              "      --disabled-fill-color: #666;\n",
              "  }\n",
              "\n",
              "  .colab-df-quickchart {\n",
              "    background-color: var(--bg-color);\n",
              "    border: none;\n",
              "    border-radius: 50%;\n",
              "    cursor: pointer;\n",
              "    display: none;\n",
              "    fill: var(--fill-color);\n",
              "    height: 32px;\n",
              "    padding: 0;\n",
              "    width: 32px;\n",
              "  }\n",
              "\n",
              "  .colab-df-quickchart:hover {\n",
              "    background-color: var(--hover-bg-color);\n",
              "    box-shadow: 0 1px 2px rgba(60, 64, 67, 0.3), 0 1px 3px 1px rgba(60, 64, 67, 0.15);\n",
              "    fill: var(--button-hover-fill-color);\n",
              "  }\n",
              "\n",
              "  .colab-df-quickchart-complete:disabled,\n",
              "  .colab-df-quickchart-complete:disabled:hover {\n",
              "    background-color: var(--disabled-bg-color);\n",
              "    fill: var(--disabled-fill-color);\n",
              "    box-shadow: none;\n",
              "  }\n",
              "\n",
              "  .colab-df-spinner {\n",
              "    border: 2px solid var(--fill-color);\n",
              "    border-color: transparent;\n",
              "    border-bottom-color: var(--fill-color);\n",
              "    animation:\n",
              "      spin 1s steps(1) infinite;\n",
              "  }\n",
              "\n",
              "  @keyframes spin {\n",
              "    0% {\n",
              "      border-color: transparent;\n",
              "      border-bottom-color: var(--fill-color);\n",
              "      border-left-color: var(--fill-color);\n",
              "    }\n",
              "    20% {\n",
              "      border-color: transparent;\n",
              "      border-left-color: var(--fill-color);\n",
              "      border-top-color: var(--fill-color);\n",
              "    }\n",
              "    30% {\n",
              "      border-color: transparent;\n",
              "      border-left-color: var(--fill-color);\n",
              "      border-top-color: var(--fill-color);\n",
              "      border-right-color: var(--fill-color);\n",
              "    }\n",
              "    40% {\n",
              "      border-color: transparent;\n",
              "      border-right-color: var(--fill-color);\n",
              "      border-top-color: var(--fill-color);\n",
              "    }\n",
              "    60% {\n",
              "      border-color: transparent;\n",
              "      border-right-color: var(--fill-color);\n",
              "    }\n",
              "    80% {\n",
              "      border-color: transparent;\n",
              "      border-right-color: var(--fill-color);\n",
              "      border-bottom-color: var(--fill-color);\n",
              "    }\n",
              "    90% {\n",
              "      border-color: transparent;\n",
              "      border-bottom-color: var(--fill-color);\n",
              "    }\n",
              "  }\n",
              "</style>\n",
              "\n",
              "      <script>\n",
              "        async function quickchart(key) {\n",
              "          const quickchartButtonEl =\n",
              "            document.querySelector('#' + key + ' button');\n",
              "          quickchartButtonEl.disabled = true;  // To prevent multiple clicks.\n",
              "          quickchartButtonEl.classList.add('colab-df-spinner');\n",
              "          try {\n",
              "            const charts = await google.colab.kernel.invokeFunction(\n",
              "                'suggestCharts', [key], {});\n",
              "          } catch (error) {\n",
              "            console.error('Error during call to suggestCharts:', error);\n",
              "          }\n",
              "          quickchartButtonEl.classList.remove('colab-df-spinner');\n",
              "          quickchartButtonEl.classList.add('colab-df-quickchart-complete');\n",
              "        }\n",
              "        (() => {\n",
              "          let quickchartButtonEl =\n",
              "            document.querySelector('#df-675f9eaf-3bf4-48e4-bc8a-9877de76c5b3 button');\n",
              "          quickchartButtonEl.style.display =\n",
              "            google.colab.kernel.accessAllowed ? 'block' : 'none';\n",
              "        })();\n",
              "      </script>\n",
              "    </div>\n",
              "\n",
              "    </div>\n",
              "  </div>\n"
            ],
            "text/plain": [
              "                timestamp  visitorid event  itemid\n",
              "0 2015-06-02 05:02:12.117     257597  view  355908\n",
              "1 2015-06-02 05:50:14.164     992329  view  248676\n",
              "2 2015-06-02 05:13:19.827     111016  view  318965\n",
              "3 2015-06-02 05:12:35.914     483717  view  253185\n",
              "4 2015-06-02 05:02:17.106     951259  view  367447"
            ]
          },
          "execution_count": 96,
          "metadata": {},
          "output_type": "execute_result"
        }
      ],
      "source": [
        "events.head()"
      ]
    },
    {
      "cell_type": "code",
      "execution_count": null,
      "id": "GwpF1BA89Kox",
      "metadata": {
        "id": "GwpF1BA89Kox"
      },
      "outputs": [],
      "source": [
        "# map view = 1 add to chart = 3 and purchase  = 5, replacing it in the old column. dataype to int\n",
        "event_weights = {\"view\": 1, \"addtocart\": 2, \"transaction\": 3}\n",
        "events[\"event\"] = events[\"event\"].map(event_weights)"
      ]
    },
    {
      "cell_type": "code",
      "execution_count": null,
      "id": "InsVxZcm-TyO",
      "metadata": {
        "id": "InsVxZcm-TyO"
      },
      "outputs": [],
      "source": [
        "# change datatype of event to int\n",
        "events[\"event\"] = events[\"event\"].fillna(0).astype(int)"
      ]
    },
    {
      "cell_type": "code",
      "execution_count": null,
      "id": "fn5zq32u9sUO",
      "metadata": {
        "colab": {
          "base_uri": "https://localhost:8080/",
          "height": 676
        },
        "id": "fn5zq32u9sUO",
        "outputId": "09486570-1111-4c31-eb11-ea586cb97a5a"
      },
      "outputs": [
        {
          "data": {
            "application/vnd.google.colaboratory.intrinsic+json": {
              "type": "dataframe",
              "variable_name": "events"
            },
            "text/html": [
              "\n",
              "  <div id=\"df-fb45a8cd-581a-4135-831c-f3782295ce3d\" class=\"colab-df-container\">\n",
              "    <div>\n",
              "<style scoped>\n",
              "    .dataframe tbody tr th:only-of-type {\n",
              "        vertical-align: middle;\n",
              "    }\n",
              "\n",
              "    .dataframe tbody tr th {\n",
              "        vertical-align: top;\n",
              "    }\n",
              "\n",
              "    .dataframe thead th {\n",
              "        text-align: right;\n",
              "    }\n",
              "</style>\n",
              "<table border=\"1\" class=\"dataframe\">\n",
              "  <thead>\n",
              "    <tr style=\"text-align: right;\">\n",
              "      <th></th>\n",
              "      <th>timestamp</th>\n",
              "      <th>visitorid</th>\n",
              "      <th>event</th>\n",
              "      <th>itemid</th>\n",
              "    </tr>\n",
              "  </thead>\n",
              "  <tbody>\n",
              "    <tr>\n",
              "      <th>0</th>\n",
              "      <td>2015-06-02 05:02:12.117</td>\n",
              "      <td>257597</td>\n",
              "      <td>1</td>\n",
              "      <td>355908</td>\n",
              "    </tr>\n",
              "    <tr>\n",
              "      <th>1</th>\n",
              "      <td>2015-06-02 05:50:14.164</td>\n",
              "      <td>992329</td>\n",
              "      <td>1</td>\n",
              "      <td>248676</td>\n",
              "    </tr>\n",
              "    <tr>\n",
              "      <th>2</th>\n",
              "      <td>2015-06-02 05:13:19.827</td>\n",
              "      <td>111016</td>\n",
              "      <td>1</td>\n",
              "      <td>318965</td>\n",
              "    </tr>\n",
              "    <tr>\n",
              "      <th>3</th>\n",
              "      <td>2015-06-02 05:12:35.914</td>\n",
              "      <td>483717</td>\n",
              "      <td>1</td>\n",
              "      <td>253185</td>\n",
              "    </tr>\n",
              "    <tr>\n",
              "      <th>4</th>\n",
              "      <td>2015-06-02 05:02:17.106</td>\n",
              "      <td>951259</td>\n",
              "      <td>1</td>\n",
              "      <td>367447</td>\n",
              "    </tr>\n",
              "    <tr>\n",
              "      <th>5</th>\n",
              "      <td>2015-06-02 05:48:06.234</td>\n",
              "      <td>972639</td>\n",
              "      <td>1</td>\n",
              "      <td>22556</td>\n",
              "    </tr>\n",
              "    <tr>\n",
              "      <th>6</th>\n",
              "      <td>2015-06-02 05:12:03.240</td>\n",
              "      <td>810725</td>\n",
              "      <td>1</td>\n",
              "      <td>443030</td>\n",
              "    </tr>\n",
              "    <tr>\n",
              "      <th>7</th>\n",
              "      <td>2015-06-02 05:34:51.897</td>\n",
              "      <td>794181</td>\n",
              "      <td>1</td>\n",
              "      <td>439202</td>\n",
              "    </tr>\n",
              "    <tr>\n",
              "      <th>8</th>\n",
              "      <td>2015-06-02 04:54:59.221</td>\n",
              "      <td>824915</td>\n",
              "      <td>1</td>\n",
              "      <td>428805</td>\n",
              "    </tr>\n",
              "    <tr>\n",
              "      <th>9</th>\n",
              "      <td>2015-06-02 05:00:04.592</td>\n",
              "      <td>339335</td>\n",
              "      <td>1</td>\n",
              "      <td>82389</td>\n",
              "    </tr>\n",
              "    <tr>\n",
              "      <th>10</th>\n",
              "      <td>2015-06-02 05:16:02.373</td>\n",
              "      <td>176446</td>\n",
              "      <td>1</td>\n",
              "      <td>10572</td>\n",
              "    </tr>\n",
              "    <tr>\n",
              "      <th>11</th>\n",
              "      <td>2015-06-02 05:08:21.252</td>\n",
              "      <td>929206</td>\n",
              "      <td>1</td>\n",
              "      <td>410676</td>\n",
              "    </tr>\n",
              "    <tr>\n",
              "      <th>12</th>\n",
              "      <td>2015-06-02 05:50:29.496</td>\n",
              "      <td>15795</td>\n",
              "      <td>1</td>\n",
              "      <td>44872</td>\n",
              "    </tr>\n",
              "    <tr>\n",
              "      <th>13</th>\n",
              "      <td>2015-06-02 05:41:37.356</td>\n",
              "      <td>598426</td>\n",
              "      <td>1</td>\n",
              "      <td>156489</td>\n",
              "    </tr>\n",
              "    <tr>\n",
              "      <th>14</th>\n",
              "      <td>2015-06-02 05:47:58.165</td>\n",
              "      <td>223343</td>\n",
              "      <td>1</td>\n",
              "      <td>402625</td>\n",
              "    </tr>\n",
              "    <tr>\n",
              "      <th>15</th>\n",
              "      <td>2015-06-02 05:22:11.378</td>\n",
              "      <td>57036</td>\n",
              "      <td>1</td>\n",
              "      <td>334662</td>\n",
              "    </tr>\n",
              "    <tr>\n",
              "      <th>16</th>\n",
              "      <td>2015-06-02 05:33:59.808</td>\n",
              "      <td>1377281</td>\n",
              "      <td>1</td>\n",
              "      <td>251467</td>\n",
              "    </tr>\n",
              "    <tr>\n",
              "      <th>17</th>\n",
              "      <td>2015-06-02 05:33:56.124</td>\n",
              "      <td>287857</td>\n",
              "      <td>3</td>\n",
              "      <td>5206</td>\n",
              "    </tr>\n",
              "    <tr>\n",
              "      <th>18</th>\n",
              "      <td>2015-06-02 05:50:44.282</td>\n",
              "      <td>1370216</td>\n",
              "      <td>1</td>\n",
              "      <td>176721</td>\n",
              "    </tr>\n",
              "    <tr>\n",
              "      <th>19</th>\n",
              "      <td>2015-06-02 04:57:58.505</td>\n",
              "      <td>158090</td>\n",
              "      <td>3</td>\n",
              "      <td>10572</td>\n",
              "    </tr>\n",
              "  </tbody>\n",
              "</table>\n",
              "</div>\n",
              "    <div class=\"colab-df-buttons\">\n",
              "\n",
              "  <div class=\"colab-df-container\">\n",
              "    <button class=\"colab-df-convert\" onclick=\"convertToInteractive('df-fb45a8cd-581a-4135-831c-f3782295ce3d')\"\n",
              "            title=\"Convert this dataframe to an interactive table.\"\n",
              "            style=\"display:none;\">\n",
              "\n",
              "  <svg xmlns=\"http://www.w3.org/2000/svg\" height=\"24px\" viewBox=\"0 -960 960 960\">\n",
              "    <path d=\"M120-120v-720h720v720H120Zm60-500h600v-160H180v160Zm220 220h160v-160H400v160Zm0 220h160v-160H400v160ZM180-400h160v-160H180v160Zm440 0h160v-160H620v160ZM180-180h160v-160H180v160Zm440 0h160v-160H620v160Z\"/>\n",
              "  </svg>\n",
              "    </button>\n",
              "\n",
              "  <style>\n",
              "    .colab-df-container {\n",
              "      display:flex;\n",
              "      gap: 12px;\n",
              "    }\n",
              "\n",
              "    .colab-df-convert {\n",
              "      background-color: #E8F0FE;\n",
              "      border: none;\n",
              "      border-radius: 50%;\n",
              "      cursor: pointer;\n",
              "      display: none;\n",
              "      fill: #1967D2;\n",
              "      height: 32px;\n",
              "      padding: 0 0 0 0;\n",
              "      width: 32px;\n",
              "    }\n",
              "\n",
              "    .colab-df-convert:hover {\n",
              "      background-color: #E2EBFA;\n",
              "      box-shadow: 0px 1px 2px rgba(60, 64, 67, 0.3), 0px 1px 3px 1px rgba(60, 64, 67, 0.15);\n",
              "      fill: #174EA6;\n",
              "    }\n",
              "\n",
              "    .colab-df-buttons div {\n",
              "      margin-bottom: 4px;\n",
              "    }\n",
              "\n",
              "    [theme=dark] .colab-df-convert {\n",
              "      background-color: #3B4455;\n",
              "      fill: #D2E3FC;\n",
              "    }\n",
              "\n",
              "    [theme=dark] .colab-df-convert:hover {\n",
              "      background-color: #434B5C;\n",
              "      box-shadow: 0px 1px 3px 1px rgba(0, 0, 0, 0.15);\n",
              "      filter: drop-shadow(0px 1px 2px rgba(0, 0, 0, 0.3));\n",
              "      fill: #FFFFFF;\n",
              "    }\n",
              "  </style>\n",
              "\n",
              "    <script>\n",
              "      const buttonEl =\n",
              "        document.querySelector('#df-fb45a8cd-581a-4135-831c-f3782295ce3d button.colab-df-convert');\n",
              "      buttonEl.style.display =\n",
              "        google.colab.kernel.accessAllowed ? 'block' : 'none';\n",
              "\n",
              "      async function convertToInteractive(key) {\n",
              "        const element = document.querySelector('#df-fb45a8cd-581a-4135-831c-f3782295ce3d');\n",
              "        const dataTable =\n",
              "          await google.colab.kernel.invokeFunction('convertToInteractive',\n",
              "                                                    [key], {});\n",
              "        if (!dataTable) return;\n",
              "\n",
              "        const docLinkHtml = 'Like what you see? Visit the ' +\n",
              "          '<a target=\"_blank\" href=https://colab.research.google.com/notebooks/data_table.ipynb>data table notebook</a>'\n",
              "          + ' to learn more about interactive tables.';\n",
              "        element.innerHTML = '';\n",
              "        dataTable['output_type'] = 'display_data';\n",
              "        await google.colab.output.renderOutput(dataTable, element);\n",
              "        const docLink = document.createElement('div');\n",
              "        docLink.innerHTML = docLinkHtml;\n",
              "        element.appendChild(docLink);\n",
              "      }\n",
              "    </script>\n",
              "  </div>\n",
              "\n",
              "\n",
              "    <div id=\"df-17c1c286-ce57-4af7-b14d-6521e235f145\">\n",
              "      <button class=\"colab-df-quickchart\" onclick=\"quickchart('df-17c1c286-ce57-4af7-b14d-6521e235f145')\"\n",
              "                title=\"Suggest charts\"\n",
              "                style=\"display:none;\">\n",
              "\n",
              "<svg xmlns=\"http://www.w3.org/2000/svg\" height=\"24px\"viewBox=\"0 0 24 24\"\n",
              "     width=\"24px\">\n",
              "    <g>\n",
              "        <path d=\"M19 3H5c-1.1 0-2 .9-2 2v14c0 1.1.9 2 2 2h14c1.1 0 2-.9 2-2V5c0-1.1-.9-2-2-2zM9 17H7v-7h2v7zm4 0h-2V7h2v10zm4 0h-2v-4h2v4z\"/>\n",
              "    </g>\n",
              "</svg>\n",
              "      </button>\n",
              "\n",
              "<style>\n",
              "  .colab-df-quickchart {\n",
              "      --bg-color: #E8F0FE;\n",
              "      --fill-color: #1967D2;\n",
              "      --hover-bg-color: #E2EBFA;\n",
              "      --hover-fill-color: #174EA6;\n",
              "      --disabled-fill-color: #AAA;\n",
              "      --disabled-bg-color: #DDD;\n",
              "  }\n",
              "\n",
              "  [theme=dark] .colab-df-quickchart {\n",
              "      --bg-color: #3B4455;\n",
              "      --fill-color: #D2E3FC;\n",
              "      --hover-bg-color: #434B5C;\n",
              "      --hover-fill-color: #FFFFFF;\n",
              "      --disabled-bg-color: #3B4455;\n",
              "      --disabled-fill-color: #666;\n",
              "  }\n",
              "\n",
              "  .colab-df-quickchart {\n",
              "    background-color: var(--bg-color);\n",
              "    border: none;\n",
              "    border-radius: 50%;\n",
              "    cursor: pointer;\n",
              "    display: none;\n",
              "    fill: var(--fill-color);\n",
              "    height: 32px;\n",
              "    padding: 0;\n",
              "    width: 32px;\n",
              "  }\n",
              "\n",
              "  .colab-df-quickchart:hover {\n",
              "    background-color: var(--hover-bg-color);\n",
              "    box-shadow: 0 1px 2px rgba(60, 64, 67, 0.3), 0 1px 3px 1px rgba(60, 64, 67, 0.15);\n",
              "    fill: var(--button-hover-fill-color);\n",
              "  }\n",
              "\n",
              "  .colab-df-quickchart-complete:disabled,\n",
              "  .colab-df-quickchart-complete:disabled:hover {\n",
              "    background-color: var(--disabled-bg-color);\n",
              "    fill: var(--disabled-fill-color);\n",
              "    box-shadow: none;\n",
              "  }\n",
              "\n",
              "  .colab-df-spinner {\n",
              "    border: 2px solid var(--fill-color);\n",
              "    border-color: transparent;\n",
              "    border-bottom-color: var(--fill-color);\n",
              "    animation:\n",
              "      spin 1s steps(1) infinite;\n",
              "  }\n",
              "\n",
              "  @keyframes spin {\n",
              "    0% {\n",
              "      border-color: transparent;\n",
              "      border-bottom-color: var(--fill-color);\n",
              "      border-left-color: var(--fill-color);\n",
              "    }\n",
              "    20% {\n",
              "      border-color: transparent;\n",
              "      border-left-color: var(--fill-color);\n",
              "      border-top-color: var(--fill-color);\n",
              "    }\n",
              "    30% {\n",
              "      border-color: transparent;\n",
              "      border-left-color: var(--fill-color);\n",
              "      border-top-color: var(--fill-color);\n",
              "      border-right-color: var(--fill-color);\n",
              "    }\n",
              "    40% {\n",
              "      border-color: transparent;\n",
              "      border-right-color: var(--fill-color);\n",
              "      border-top-color: var(--fill-color);\n",
              "    }\n",
              "    60% {\n",
              "      border-color: transparent;\n",
              "      border-right-color: var(--fill-color);\n",
              "    }\n",
              "    80% {\n",
              "      border-color: transparent;\n",
              "      border-right-color: var(--fill-color);\n",
              "      border-bottom-color: var(--fill-color);\n",
              "    }\n",
              "    90% {\n",
              "      border-color: transparent;\n",
              "      border-bottom-color: var(--fill-color);\n",
              "    }\n",
              "  }\n",
              "</style>\n",
              "\n",
              "      <script>\n",
              "        async function quickchart(key) {\n",
              "          const quickchartButtonEl =\n",
              "            document.querySelector('#' + key + ' button');\n",
              "          quickchartButtonEl.disabled = true;  // To prevent multiple clicks.\n",
              "          quickchartButtonEl.classList.add('colab-df-spinner');\n",
              "          try {\n",
              "            const charts = await google.colab.kernel.invokeFunction(\n",
              "                'suggestCharts', [key], {});\n",
              "          } catch (error) {\n",
              "            console.error('Error during call to suggestCharts:', error);\n",
              "          }\n",
              "          quickchartButtonEl.classList.remove('colab-df-spinner');\n",
              "          quickchartButtonEl.classList.add('colab-df-quickchart-complete');\n",
              "        }\n",
              "        (() => {\n",
              "          let quickchartButtonEl =\n",
              "            document.querySelector('#df-17c1c286-ce57-4af7-b14d-6521e235f145 button');\n",
              "          quickchartButtonEl.style.display =\n",
              "            google.colab.kernel.accessAllowed ? 'block' : 'none';\n",
              "        })();\n",
              "      </script>\n",
              "    </div>\n",
              "\n",
              "    </div>\n",
              "  </div>\n"
            ],
            "text/plain": [
              "                 timestamp  visitorid  event  itemid\n",
              "0  2015-06-02 05:02:12.117     257597      1  355908\n",
              "1  2015-06-02 05:50:14.164     992329      1  248676\n",
              "2  2015-06-02 05:13:19.827     111016      1  318965\n",
              "3  2015-06-02 05:12:35.914     483717      1  253185\n",
              "4  2015-06-02 05:02:17.106     951259      1  367447\n",
              "5  2015-06-02 05:48:06.234     972639      1   22556\n",
              "6  2015-06-02 05:12:03.240     810725      1  443030\n",
              "7  2015-06-02 05:34:51.897     794181      1  439202\n",
              "8  2015-06-02 04:54:59.221     824915      1  428805\n",
              "9  2015-06-02 05:00:04.592     339335      1   82389\n",
              "10 2015-06-02 05:16:02.373     176446      1   10572\n",
              "11 2015-06-02 05:08:21.252     929206      1  410676\n",
              "12 2015-06-02 05:50:29.496      15795      1   44872\n",
              "13 2015-06-02 05:41:37.356     598426      1  156489\n",
              "14 2015-06-02 05:47:58.165     223343      1  402625\n",
              "15 2015-06-02 05:22:11.378      57036      1  334662\n",
              "16 2015-06-02 05:33:59.808    1377281      1  251467\n",
              "17 2015-06-02 05:33:56.124     287857      3    5206\n",
              "18 2015-06-02 05:50:44.282    1370216      1  176721\n",
              "19 2015-06-02 04:57:58.505     158090      3   10572"
            ]
          },
          "execution_count": 99,
          "metadata": {},
          "output_type": "execute_result"
        }
      ],
      "source": [
        "events.head(20)"
      ]
    },
    {
      "cell_type": "code",
      "execution_count": null,
      "id": "irwnGTAA_J1z",
      "metadata": {
        "colab": {
          "base_uri": "https://localhost:8080/"
        },
        "id": "irwnGTAA_J1z",
        "outputId": "f6fcf28a-db94-4872-f9f5-fb4c8b2a4773"
      },
      "outputs": [
        {
          "data": {
            "text/plain": [
              "0"
            ]
          },
          "execution_count": 100,
          "metadata": {},
          "output_type": "execute_result"
        }
      ],
      "source": [
        "# min in visitorid\n",
        "events[\"visitorid\"].min()"
      ]
    },
    {
      "cell_type": "markdown",
      "id": "FPov1sBFd79D",
      "metadata": {
        "id": "FPov1sBFd79D"
      },
      "source": [
        "checking for outliers and clearing them"
      ]
    },
    {
      "cell_type": "code",
      "execution_count": null,
      "id": "13bba4d2",
      "metadata": {
        "id": "13bba4d2"
      },
      "outputs": [],
      "source": [
        "visitor_event = events.groupby(\"visitorid\")[\"event\"].count()"
      ]
    },
    {
      "cell_type": "code",
      "execution_count": null,
      "id": "bbncWBXM8juN",
      "metadata": {
        "id": "bbncWBXM8juN"
      },
      "outputs": [],
      "source": [
        "# print in descending order\n",
        "visitor_event = visitor_event.sort_values(ascending = False)"
      ]
    },
    {
      "cell_type": "code",
      "execution_count": null,
      "id": "On5P3wfvTjkN",
      "metadata": {
        "colab": {
          "base_uri": "https://localhost:8080/",
          "height": 742
        },
        "id": "On5P3wfvTjkN",
        "outputId": "4cea3c36-083f-4154-dee1-d1cd3401aa09"
      },
      "outputs": [
        {
          "data": {
            "text/html": [
              "<div>\n",
              "<style scoped>\n",
              "    .dataframe tbody tr th:only-of-type {\n",
              "        vertical-align: middle;\n",
              "    }\n",
              "\n",
              "    .dataframe tbody tr th {\n",
              "        vertical-align: top;\n",
              "    }\n",
              "\n",
              "    .dataframe thead th {\n",
              "        text-align: right;\n",
              "    }\n",
              "</style>\n",
              "<table border=\"1\" class=\"dataframe\">\n",
              "  <thead>\n",
              "    <tr style=\"text-align: right;\">\n",
              "      <th></th>\n",
              "      <th>event</th>\n",
              "    </tr>\n",
              "    <tr>\n",
              "      <th>visitorid</th>\n",
              "      <th></th>\n",
              "    </tr>\n",
              "  </thead>\n",
              "  <tbody>\n",
              "    <tr>\n",
              "      <th>1150086</th>\n",
              "      <td>7757</td>\n",
              "    </tr>\n",
              "    <tr>\n",
              "      <th>530559</th>\n",
              "      <td>4328</td>\n",
              "    </tr>\n",
              "    <tr>\n",
              "      <th>152963</th>\n",
              "      <td>3024</td>\n",
              "    </tr>\n",
              "    <tr>\n",
              "      <th>895999</th>\n",
              "      <td>2474</td>\n",
              "    </tr>\n",
              "    <tr>\n",
              "      <th>163561</th>\n",
              "      <td>2410</td>\n",
              "    </tr>\n",
              "    <tr>\n",
              "      <th>371606</th>\n",
              "      <td>2345</td>\n",
              "    </tr>\n",
              "    <tr>\n",
              "      <th>286616</th>\n",
              "      <td>2252</td>\n",
              "    </tr>\n",
              "    <tr>\n",
              "      <th>684514</th>\n",
              "      <td>2246</td>\n",
              "    </tr>\n",
              "    <tr>\n",
              "      <th>892013</th>\n",
              "      <td>2024</td>\n",
              "    </tr>\n",
              "    <tr>\n",
              "      <th>861299</th>\n",
              "      <td>1991</td>\n",
              "    </tr>\n",
              "    <tr>\n",
              "      <th>836635</th>\n",
              "      <td>1934</td>\n",
              "    </tr>\n",
              "    <tr>\n",
              "      <th>76757</th>\n",
              "      <td>1883</td>\n",
              "    </tr>\n",
              "    <tr>\n",
              "      <th>638482</th>\n",
              "      <td>1829</td>\n",
              "    </tr>\n",
              "    <tr>\n",
              "      <th>1297062</th>\n",
              "      <td>1822</td>\n",
              "    </tr>\n",
              "    <tr>\n",
              "      <th>316850</th>\n",
              "      <td>1752</td>\n",
              "    </tr>\n",
              "    <tr>\n",
              "      <th>247235</th>\n",
              "      <td>1698</td>\n",
              "    </tr>\n",
              "    <tr>\n",
              "      <th>1161163</th>\n",
              "      <td>1663</td>\n",
              "    </tr>\n",
              "    <tr>\n",
              "      <th>994820</th>\n",
              "      <td>1661</td>\n",
              "    </tr>\n",
              "    <tr>\n",
              "      <th>79627</th>\n",
              "      <td>1623</td>\n",
              "    </tr>\n",
              "    <tr>\n",
              "      <th>518659</th>\n",
              "      <td>1614</td>\n",
              "    </tr>\n",
              "  </tbody>\n",
              "</table>\n",
              "</div><br><label><b>dtype:</b> int64</label>"
            ],
            "text/plain": [
              "visitorid\n",
              "1150086    7757\n",
              "530559     4328\n",
              "152963     3024\n",
              "895999     2474\n",
              "163561     2410\n",
              "371606     2345\n",
              "286616     2252\n",
              "684514     2246\n",
              "892013     2024\n",
              "861299     1991\n",
              "836635     1934\n",
              "76757      1883\n",
              "638482     1829\n",
              "1297062    1822\n",
              "316850     1752\n",
              "247235     1698\n",
              "1161163    1663\n",
              "994820     1661\n",
              "79627      1623\n",
              "518659     1614\n",
              "Name: event, dtype: int64"
            ]
          },
          "execution_count": 108,
          "metadata": {},
          "output_type": "execute_result"
        }
      ],
      "source": [
        "visitor_event.head(20)"
      ]
    },
    {
      "cell_type": "code",
      "execution_count": null,
      "id": "84e8939a",
      "metadata": {
        "id": "84e8939a"
      },
      "outputs": [],
      "source": [
        "Q1 = visitor_event.quantile(0.25)\n",
        "Q3 = visitor_event.quantile(0.75)\n",
        "IQR = Q3 - Q1"
      ]
    },
    {
      "cell_type": "code",
      "execution_count": null,
      "id": "50da5b86",
      "metadata": {
        "id": "50da5b86"
      },
      "outputs": [],
      "source": [
        "lower_bound = Q1 - 1.5 * IQR\n",
        "upper_bound = Q3 + 1.5 * IQR"
      ]
    },
    {
      "cell_type": "code",
      "execution_count": null,
      "id": "4uHq3cok80a6",
      "metadata": {
        "colab": {
          "base_uri": "https://localhost:8080/"
        },
        "id": "4uHq3cok80a6",
        "outputId": "2d60206a-0905-46b6-8e46-8644ff3cf65f"
      },
      "outputs": [
        {
          "data": {
            "text/plain": [
              "np.float64(3.5)"
            ]
          },
          "execution_count": 111,
          "metadata": {},
          "output_type": "execute_result"
        }
      ],
      "source": [
        "upper_bound"
      ]
    },
    {
      "cell_type": "code",
      "execution_count": null,
      "id": "lgO3FWcs8wGa",
      "metadata": {
        "colab": {
          "base_uri": "https://localhost:8080/"
        },
        "id": "lgO3FWcs8wGa",
        "outputId": "3056effc-fdbc-4096-f817-f6bff4a6cabe"
      },
      "outputs": [
        {
          "data": {
            "text/plain": [
              "np.float64(-0.5)"
            ]
          },
          "execution_count": 112,
          "metadata": {},
          "output_type": "execute_result"
        }
      ],
      "source": [
        "lower_bound"
      ]
    },
    {
      "cell_type": "code",
      "execution_count": null,
      "id": "54d9fcfd",
      "metadata": {
        "id": "54d9fcfd"
      },
      "outputs": [],
      "source": [
        "outlier_visitor_ids = visitor_event[(visitor_event < lower_bound) | (visitor_event > upper_bound)].index"
      ]
    },
    {
      "cell_type": "code",
      "execution_count": null,
      "id": "6de201c8",
      "metadata": {
        "id": "6de201c8"
      },
      "outputs": [],
      "source": [
        "is_outlier = events[\"visitorid\"].isin(outlier_visitor_ids)"
      ]
    },
    {
      "cell_type": "code",
      "execution_count": null,
      "id": "8V8CnIxoU9IA",
      "metadata": {
        "colab": {
          "base_uri": "https://localhost:8080/"
        },
        "id": "8V8CnIxoU9IA",
        "outputId": "64082431-37e8-4b9a-fa35-e1040b810b5b"
      },
      "outputs": [
        {
          "name": "stdout",
          "output_type": "stream",
          "text": [
            "0          False\n",
            "1           True\n",
            "2          False\n",
            "3          False\n",
            "4          False\n",
            "           ...  \n",
            "2756096    False\n",
            "2756097    False\n",
            "2756098    False\n",
            "2756099    False\n",
            "2756100    False\n",
            "Name: visitorid, Length: 2756101, dtype: bool\n"
          ]
        }
      ],
      "source": [
        "print (is_outlier)"
      ]
    },
    {
      "cell_type": "code",
      "execution_count": null,
      "id": "a544b145",
      "metadata": {
        "id": "a544b145"
      },
      "outputs": [],
      "source": [
        "events_F = events[~is_outlier]"
      ]
    },
    {
      "cell_type": "code",
      "execution_count": null,
      "id": "3a43f5f3",
      "metadata": {
        "colab": {
          "base_uri": "https://localhost:8080/",
          "height": 206
        },
        "id": "3a43f5f3",
        "outputId": "b5685807-7c7f-49c6-a46e-2040858e48dc"
      },
      "outputs": [
        {
          "data": {
            "application/vnd.google.colaboratory.intrinsic+json": {
              "type": "dataframe",
              "variable_name": "events_F"
            },
            "text/html": [
              "\n",
              "  <div id=\"df-c33404a7-33bf-4808-b046-d75ef194c915\" class=\"colab-df-container\">\n",
              "    <div>\n",
              "<style scoped>\n",
              "    .dataframe tbody tr th:only-of-type {\n",
              "        vertical-align: middle;\n",
              "    }\n",
              "\n",
              "    .dataframe tbody tr th {\n",
              "        vertical-align: top;\n",
              "    }\n",
              "\n",
              "    .dataframe thead th {\n",
              "        text-align: right;\n",
              "    }\n",
              "</style>\n",
              "<table border=\"1\" class=\"dataframe\">\n",
              "  <thead>\n",
              "    <tr style=\"text-align: right;\">\n",
              "      <th></th>\n",
              "      <th>timestamp</th>\n",
              "      <th>visitorid</th>\n",
              "      <th>event</th>\n",
              "      <th>itemid</th>\n",
              "    </tr>\n",
              "  </thead>\n",
              "  <tbody>\n",
              "    <tr>\n",
              "      <th>0</th>\n",
              "      <td>2015-06-02 05:02:12.117</td>\n",
              "      <td>257597</td>\n",
              "      <td>1</td>\n",
              "      <td>355908</td>\n",
              "    </tr>\n",
              "    <tr>\n",
              "      <th>2</th>\n",
              "      <td>2015-06-02 05:13:19.827</td>\n",
              "      <td>111016</td>\n",
              "      <td>1</td>\n",
              "      <td>318965</td>\n",
              "    </tr>\n",
              "    <tr>\n",
              "      <th>3</th>\n",
              "      <td>2015-06-02 05:12:35.914</td>\n",
              "      <td>483717</td>\n",
              "      <td>1</td>\n",
              "      <td>253185</td>\n",
              "    </tr>\n",
              "    <tr>\n",
              "      <th>4</th>\n",
              "      <td>2015-06-02 05:02:17.106</td>\n",
              "      <td>951259</td>\n",
              "      <td>1</td>\n",
              "      <td>367447</td>\n",
              "    </tr>\n",
              "    <tr>\n",
              "      <th>5</th>\n",
              "      <td>2015-06-02 05:48:06.234</td>\n",
              "      <td>972639</td>\n",
              "      <td>1</td>\n",
              "      <td>22556</td>\n",
              "    </tr>\n",
              "  </tbody>\n",
              "</table>\n",
              "</div>\n",
              "    <div class=\"colab-df-buttons\">\n",
              "\n",
              "  <div class=\"colab-df-container\">\n",
              "    <button class=\"colab-df-convert\" onclick=\"convertToInteractive('df-c33404a7-33bf-4808-b046-d75ef194c915')\"\n",
              "            title=\"Convert this dataframe to an interactive table.\"\n",
              "            style=\"display:none;\">\n",
              "\n",
              "  <svg xmlns=\"http://www.w3.org/2000/svg\" height=\"24px\" viewBox=\"0 -960 960 960\">\n",
              "    <path d=\"M120-120v-720h720v720H120Zm60-500h600v-160H180v160Zm220 220h160v-160H400v160Zm0 220h160v-160H400v160ZM180-400h160v-160H180v160Zm440 0h160v-160H620v160ZM180-180h160v-160H180v160Zm440 0h160v-160H620v160Z\"/>\n",
              "  </svg>\n",
              "    </button>\n",
              "\n",
              "  <style>\n",
              "    .colab-df-container {\n",
              "      display:flex;\n",
              "      gap: 12px;\n",
              "    }\n",
              "\n",
              "    .colab-df-convert {\n",
              "      background-color: #E8F0FE;\n",
              "      border: none;\n",
              "      border-radius: 50%;\n",
              "      cursor: pointer;\n",
              "      display: none;\n",
              "      fill: #1967D2;\n",
              "      height: 32px;\n",
              "      padding: 0 0 0 0;\n",
              "      width: 32px;\n",
              "    }\n",
              "\n",
              "    .colab-df-convert:hover {\n",
              "      background-color: #E2EBFA;\n",
              "      box-shadow: 0px 1px 2px rgba(60, 64, 67, 0.3), 0px 1px 3px 1px rgba(60, 64, 67, 0.15);\n",
              "      fill: #174EA6;\n",
              "    }\n",
              "\n",
              "    .colab-df-buttons div {\n",
              "      margin-bottom: 4px;\n",
              "    }\n",
              "\n",
              "    [theme=dark] .colab-df-convert {\n",
              "      background-color: #3B4455;\n",
              "      fill: #D2E3FC;\n",
              "    }\n",
              "\n",
              "    [theme=dark] .colab-df-convert:hover {\n",
              "      background-color: #434B5C;\n",
              "      box-shadow: 0px 1px 3px 1px rgba(0, 0, 0, 0.15);\n",
              "      filter: drop-shadow(0px 1px 2px rgba(0, 0, 0, 0.3));\n",
              "      fill: #FFFFFF;\n",
              "    }\n",
              "  </style>\n",
              "\n",
              "    <script>\n",
              "      const buttonEl =\n",
              "        document.querySelector('#df-c33404a7-33bf-4808-b046-d75ef194c915 button.colab-df-convert');\n",
              "      buttonEl.style.display =\n",
              "        google.colab.kernel.accessAllowed ? 'block' : 'none';\n",
              "\n",
              "      async function convertToInteractive(key) {\n",
              "        const element = document.querySelector('#df-c33404a7-33bf-4808-b046-d75ef194c915');\n",
              "        const dataTable =\n",
              "          await google.colab.kernel.invokeFunction('convertToInteractive',\n",
              "                                                    [key], {});\n",
              "        if (!dataTable) return;\n",
              "\n",
              "        const docLinkHtml = 'Like what you see? Visit the ' +\n",
              "          '<a target=\"_blank\" href=https://colab.research.google.com/notebooks/data_table.ipynb>data table notebook</a>'\n",
              "          + ' to learn more about interactive tables.';\n",
              "        element.innerHTML = '';\n",
              "        dataTable['output_type'] = 'display_data';\n",
              "        await google.colab.output.renderOutput(dataTable, element);\n",
              "        const docLink = document.createElement('div');\n",
              "        docLink.innerHTML = docLinkHtml;\n",
              "        element.appendChild(docLink);\n",
              "      }\n",
              "    </script>\n",
              "  </div>\n",
              "\n",
              "\n",
              "    <div id=\"df-656d465a-123e-433b-9d1b-28ae5bdb6168\">\n",
              "      <button class=\"colab-df-quickchart\" onclick=\"quickchart('df-656d465a-123e-433b-9d1b-28ae5bdb6168')\"\n",
              "                title=\"Suggest charts\"\n",
              "                style=\"display:none;\">\n",
              "\n",
              "<svg xmlns=\"http://www.w3.org/2000/svg\" height=\"24px\"viewBox=\"0 0 24 24\"\n",
              "     width=\"24px\">\n",
              "    <g>\n",
              "        <path d=\"M19 3H5c-1.1 0-2 .9-2 2v14c0 1.1.9 2 2 2h14c1.1 0 2-.9 2-2V5c0-1.1-.9-2-2-2zM9 17H7v-7h2v7zm4 0h-2V7h2v10zm4 0h-2v-4h2v4z\"/>\n",
              "    </g>\n",
              "</svg>\n",
              "      </button>\n",
              "\n",
              "<style>\n",
              "  .colab-df-quickchart {\n",
              "      --bg-color: #E8F0FE;\n",
              "      --fill-color: #1967D2;\n",
              "      --hover-bg-color: #E2EBFA;\n",
              "      --hover-fill-color: #174EA6;\n",
              "      --disabled-fill-color: #AAA;\n",
              "      --disabled-bg-color: #DDD;\n",
              "  }\n",
              "\n",
              "  [theme=dark] .colab-df-quickchart {\n",
              "      --bg-color: #3B4455;\n",
              "      --fill-color: #D2E3FC;\n",
              "      --hover-bg-color: #434B5C;\n",
              "      --hover-fill-color: #FFFFFF;\n",
              "      --disabled-bg-color: #3B4455;\n",
              "      --disabled-fill-color: #666;\n",
              "  }\n",
              "\n",
              "  .colab-df-quickchart {\n",
              "    background-color: var(--bg-color);\n",
              "    border: none;\n",
              "    border-radius: 50%;\n",
              "    cursor: pointer;\n",
              "    display: none;\n",
              "    fill: var(--fill-color);\n",
              "    height: 32px;\n",
              "    padding: 0;\n",
              "    width: 32px;\n",
              "  }\n",
              "\n",
              "  .colab-df-quickchart:hover {\n",
              "    background-color: var(--hover-bg-color);\n",
              "    box-shadow: 0 1px 2px rgba(60, 64, 67, 0.3), 0 1px 3px 1px rgba(60, 64, 67, 0.15);\n",
              "    fill: var(--button-hover-fill-color);\n",
              "  }\n",
              "\n",
              "  .colab-df-quickchart-complete:disabled,\n",
              "  .colab-df-quickchart-complete:disabled:hover {\n",
              "    background-color: var(--disabled-bg-color);\n",
              "    fill: var(--disabled-fill-color);\n",
              "    box-shadow: none;\n",
              "  }\n",
              "\n",
              "  .colab-df-spinner {\n",
              "    border: 2px solid var(--fill-color);\n",
              "    border-color: transparent;\n",
              "    border-bottom-color: var(--fill-color);\n",
              "    animation:\n",
              "      spin 1s steps(1) infinite;\n",
              "  }\n",
              "\n",
              "  @keyframes spin {\n",
              "    0% {\n",
              "      border-color: transparent;\n",
              "      border-bottom-color: var(--fill-color);\n",
              "      border-left-color: var(--fill-color);\n",
              "    }\n",
              "    20% {\n",
              "      border-color: transparent;\n",
              "      border-left-color: var(--fill-color);\n",
              "      border-top-color: var(--fill-color);\n",
              "    }\n",
              "    30% {\n",
              "      border-color: transparent;\n",
              "      border-left-color: var(--fill-color);\n",
              "      border-top-color: var(--fill-color);\n",
              "      border-right-color: var(--fill-color);\n",
              "    }\n",
              "    40% {\n",
              "      border-color: transparent;\n",
              "      border-right-color: var(--fill-color);\n",
              "      border-top-color: var(--fill-color);\n",
              "    }\n",
              "    60% {\n",
              "      border-color: transparent;\n",
              "      border-right-color: var(--fill-color);\n",
              "    }\n",
              "    80% {\n",
              "      border-color: transparent;\n",
              "      border-right-color: var(--fill-color);\n",
              "      border-bottom-color: var(--fill-color);\n",
              "    }\n",
              "    90% {\n",
              "      border-color: transparent;\n",
              "      border-bottom-color: var(--fill-color);\n",
              "    }\n",
              "  }\n",
              "</style>\n",
              "\n",
              "      <script>\n",
              "        async function quickchart(key) {\n",
              "          const quickchartButtonEl =\n",
              "            document.querySelector('#' + key + ' button');\n",
              "          quickchartButtonEl.disabled = true;  // To prevent multiple clicks.\n",
              "          quickchartButtonEl.classList.add('colab-df-spinner');\n",
              "          try {\n",
              "            const charts = await google.colab.kernel.invokeFunction(\n",
              "                'suggestCharts', [key], {});\n",
              "          } catch (error) {\n",
              "            console.error('Error during call to suggestCharts:', error);\n",
              "          }\n",
              "          quickchartButtonEl.classList.remove('colab-df-spinner');\n",
              "          quickchartButtonEl.classList.add('colab-df-quickchart-complete');\n",
              "        }\n",
              "        (() => {\n",
              "          let quickchartButtonEl =\n",
              "            document.querySelector('#df-656d465a-123e-433b-9d1b-28ae5bdb6168 button');\n",
              "          quickchartButtonEl.style.display =\n",
              "            google.colab.kernel.accessAllowed ? 'block' : 'none';\n",
              "        })();\n",
              "      </script>\n",
              "    </div>\n",
              "\n",
              "    </div>\n",
              "  </div>\n"
            ],
            "text/plain": [
              "                timestamp  visitorid  event  itemid\n",
              "0 2015-06-02 05:02:12.117     257597      1  355908\n",
              "2 2015-06-02 05:13:19.827     111016      1  318965\n",
              "3 2015-06-02 05:12:35.914     483717      1  253185\n",
              "4 2015-06-02 05:02:17.106     951259      1  367447\n",
              "5 2015-06-02 05:48:06.234     972639      1   22556"
            ]
          },
          "execution_count": 117,
          "metadata": {},
          "output_type": "execute_result"
        }
      ],
      "source": [
        "events_F.head()"
      ]
    },
    {
      "cell_type": "code",
      "execution_count": null,
      "id": "RPcmw9YxVYP5",
      "metadata": {
        "colab": {
          "base_uri": "https://localhost:8080/"
        },
        "id": "RPcmw9YxVYP5",
        "outputId": "3ac5e6f0-f683-474a-d711-3c2ef62df916"
      },
      "outputs": [
        {
          "data": {
            "text/plain": [
              "(1652380, 4)"
            ]
          },
          "execution_count": 118,
          "metadata": {},
          "output_type": "execute_result"
        }
      ],
      "source": [
        "events_F.shape"
      ]
    },
    {
      "cell_type": "code",
      "execution_count": null,
      "id": "05426194",
      "metadata": {
        "colab": {
          "base_uri": "https://localhost:8080/",
          "height": 146
        },
        "id": "05426194",
        "outputId": "6c193f89-c7d9-4b00-eedc-cc03fadc4345"
      },
      "outputs": [
        {
          "data": {
            "text/html": [
              "<div>\n",
              "<style scoped>\n",
              "    .dataframe tbody tr th:only-of-type {\n",
              "        vertical-align: middle;\n",
              "    }\n",
              "\n",
              "    .dataframe tbody tr th {\n",
              "        vertical-align: top;\n",
              "    }\n",
              "\n",
              "    .dataframe thead th {\n",
              "        text-align: right;\n",
              "    }\n",
              "</style>\n",
              "<table border=\"1\" class=\"dataframe\">\n",
              "  <thead>\n",
              "    <tr style=\"text-align: right;\">\n",
              "      <th></th>\n",
              "      <th>0</th>\n",
              "    </tr>\n",
              "  </thead>\n",
              "  <tbody>\n",
              "    <tr>\n",
              "      <th>categoryid</th>\n",
              "      <td>0</td>\n",
              "    </tr>\n",
              "    <tr>\n",
              "      <th>parentid</th>\n",
              "      <td>25</td>\n",
              "    </tr>\n",
              "  </tbody>\n",
              "</table>\n",
              "</div><br><label><b>dtype:</b> int64</label>"
            ],
            "text/plain": [
              "categoryid     0\n",
              "parentid      25\n",
              "dtype: int64"
            ]
          },
          "execution_count": 125,
          "metadata": {},
          "output_type": "execute_result"
        }
      ],
      "source": [
        "cats.isnull().sum()"
      ]
    },
    {
      "cell_type": "code",
      "execution_count": null,
      "id": "56d3be01",
      "metadata": {
        "id": "56d3be01"
      },
      "outputs": [],
      "source": [
        "cats = cats.dropna()"
      ]
    },
    {
      "cell_type": "code",
      "execution_count": null,
      "id": "6d277547",
      "metadata": {
        "id": "6d277547"
      },
      "outputs": [],
      "source": [
        "# saved the clean csv as an new file in the cleaned folder and delete the previous one\n",
        "events_F.to_csv(\"events_cleaned.csv\", index = False)\n",
        "del events_F; gc.collect()"
      ]
    },
    {
      "cell_type": "code",
      "execution_count": null,
      "id": "f8572f44",
      "metadata": {
        "id": "f8572f44"
      },
      "outputs": [],
      "source": [
        "# saved the clean csv as an new file in the cleaned folder and delete the previous one\n",
        "cats.to_csv(\"cats_cleaned.csv\", index = False)\n",
        "del cats; gc.collect()"
      ]
    },
    {
      "cell_type": "code",
      "execution_count": 1,
      "id": "aAqM1cScuUbf",
      "metadata": {
        "id": "aAqM1cScuUbf"
      },
      "outputs": [],
      "source": [
        "import pandas as pd"
      ]
    },
    {
      "cell_type": "code",
      "execution_count": 2,
      "id": "f60c840d",
      "metadata": {
        "id": "f60c840d"
      },
      "outputs": [],
      "source": [
        "# Loading cleaned csv files\n",
        "events_cleaned = pd.read_csv(\"cleaned/events_cleaned.csv\")\n",
        "\n",
        "cats_cleaned = pd.read_csv(\"cleaned/cats_cleaned.csv\")\n",
        "\n",
        "df_items = pd.read_csv(\"df_items.csv\")"
      ]
    },
    {
      "cell_type": "code",
      "execution_count": 3,
      "id": "AuikyW4DCI4y",
      "metadata": {
        "colab": {
          "base_uri": "https://localhost:8080/"
        },
        "id": "AuikyW4DCI4y",
        "outputId": "7ae8619b-33ea-4bdf-d55e-345c258afe3e"
      },
      "outputs": [
        {
          "name": "stdout",
          "output_type": "stream",
          "text": [
            "(1652380, 4)\n",
            "(1644, 2)\n",
            "(4361433, 6)\n"
          ]
        }
      ],
      "source": [
        "print(events_cleaned.shape)\n",
        "print(cats_cleaned.shape)\n",
        "print(df_items.shape)"
      ]
    },
    {
      "cell_type": "code",
      "execution_count": 25,
      "id": "EDyAHXtOcKri",
      "metadata": {
        "colab": {
          "base_uri": "https://localhost:8080/",
          "height": 206
        },
        "id": "EDyAHXtOcKri",
        "outputId": "fba76550-c2d5-4a48-ce8a-3fe30c9a1f98"
      },
      "outputs": [
        {
          "data": {
            "application/vnd.google.colaboratory.intrinsic+json": {
              "type": "dataframe",
              "variable_name": "df_items"
            },
            "text/html": [
              "\n",
              "  <div id=\"df-87a175db-068b-4c0d-a65c-09af6f474317\" class=\"colab-df-container\">\n",
              "    <div>\n",
              "<style scoped>\n",
              "    .dataframe tbody tr th:only-of-type {\n",
              "        vertical-align: middle;\n",
              "    }\n",
              "\n",
              "    .dataframe tbody tr th {\n",
              "        vertical-align: top;\n",
              "    }\n",
              "\n",
              "    .dataframe thead th {\n",
              "        text-align: right;\n",
              "    }\n",
              "</style>\n",
              "<table border=\"1\" class=\"dataframe\">\n",
              "  <thead>\n",
              "    <tr style=\"text-align: right;\">\n",
              "      <th></th>\n",
              "      <th>timestamp</th>\n",
              "      <th>itemid</th>\n",
              "      <th>property</th>\n",
              "      <th>available</th>\n",
              "      <th>categoryid</th>\n",
              "      <th>value_n</th>\n",
              "    </tr>\n",
              "  </thead>\n",
              "  <tbody>\n",
              "    <tr>\n",
              "      <th>0</th>\n",
              "      <td>2015-09-06 03:00:00</td>\n",
              "      <td>206783.0</td>\n",
              "      <td>888.0</td>\n",
              "      <td>0.0</td>\n",
              "      <td>942.0</td>\n",
              "      <td>277.2</td>\n",
              "    </tr>\n",
              "    <tr>\n",
              "      <th>1</th>\n",
              "      <td>2015-08-09 03:00:00</td>\n",
              "      <td>395014.0</td>\n",
              "      <td>400.0</td>\n",
              "      <td>0.0</td>\n",
              "      <td>1135.0</td>\n",
              "      <td>1272.0</td>\n",
              "    </tr>\n",
              "    <tr>\n",
              "      <th>2</th>\n",
              "      <td>2015-05-10 03:00:00</td>\n",
              "      <td>59481.0</td>\n",
              "      <td>790.0</td>\n",
              "      <td>1.0</td>\n",
              "      <td>498.0</td>\n",
              "      <td>15360.0</td>\n",
              "    </tr>\n",
              "    <tr>\n",
              "      <th>3</th>\n",
              "      <td>2015-06-14 03:00:00</td>\n",
              "      <td>98113.0</td>\n",
              "      <td>451.0</td>\n",
              "      <td>0.0</td>\n",
              "      <td>48.0</td>\n",
              "      <td>48.0</td>\n",
              "    </tr>\n",
              "    <tr>\n",
              "      <th>4</th>\n",
              "      <td>2015-08-09 03:00:00</td>\n",
              "      <td>450113.0</td>\n",
              "      <td>888.0</td>\n",
              "      <td>0.0</td>\n",
              "      <td>227.0</td>\n",
              "      <td>504.0</td>\n",
              "    </tr>\n",
              "  </tbody>\n",
              "</table>\n",
              "</div>\n",
              "    <div class=\"colab-df-buttons\">\n",
              "\n",
              "  <div class=\"colab-df-container\">\n",
              "    <button class=\"colab-df-convert\" onclick=\"convertToInteractive('df-87a175db-068b-4c0d-a65c-09af6f474317')\"\n",
              "            title=\"Convert this dataframe to an interactive table.\"\n",
              "            style=\"display:none;\">\n",
              "\n",
              "  <svg xmlns=\"http://www.w3.org/2000/svg\" height=\"24px\" viewBox=\"0 -960 960 960\">\n",
              "    <path d=\"M120-120v-720h720v720H120Zm60-500h600v-160H180v160Zm220 220h160v-160H400v160Zm0 220h160v-160H400v160ZM180-400h160v-160H180v160Zm440 0h160v-160H620v160ZM180-180h160v-160H180v160Zm440 0h160v-160H620v160Z\"/>\n",
              "  </svg>\n",
              "    </button>\n",
              "\n",
              "  <style>\n",
              "    .colab-df-container {\n",
              "      display:flex;\n",
              "      gap: 12px;\n",
              "    }\n",
              "\n",
              "    .colab-df-convert {\n",
              "      background-color: #E8F0FE;\n",
              "      border: none;\n",
              "      border-radius: 50%;\n",
              "      cursor: pointer;\n",
              "      display: none;\n",
              "      fill: #1967D2;\n",
              "      height: 32px;\n",
              "      padding: 0 0 0 0;\n",
              "      width: 32px;\n",
              "    }\n",
              "\n",
              "    .colab-df-convert:hover {\n",
              "      background-color: #E2EBFA;\n",
              "      box-shadow: 0px 1px 2px rgba(60, 64, 67, 0.3), 0px 1px 3px 1px rgba(60, 64, 67, 0.15);\n",
              "      fill: #174EA6;\n",
              "    }\n",
              "\n",
              "    .colab-df-buttons div {\n",
              "      margin-bottom: 4px;\n",
              "    }\n",
              "\n",
              "    [theme=dark] .colab-df-convert {\n",
              "      background-color: #3B4455;\n",
              "      fill: #D2E3FC;\n",
              "    }\n",
              "\n",
              "    [theme=dark] .colab-df-convert:hover {\n",
              "      background-color: #434B5C;\n",
              "      box-shadow: 0px 1px 3px 1px rgba(0, 0, 0, 0.15);\n",
              "      filter: drop-shadow(0px 1px 2px rgba(0, 0, 0, 0.3));\n",
              "      fill: #FFFFFF;\n",
              "    }\n",
              "  </style>\n",
              "\n",
              "    <script>\n",
              "      const buttonEl =\n",
              "        document.querySelector('#df-87a175db-068b-4c0d-a65c-09af6f474317 button.colab-df-convert');\n",
              "      buttonEl.style.display =\n",
              "        google.colab.kernel.accessAllowed ? 'block' : 'none';\n",
              "\n",
              "      async function convertToInteractive(key) {\n",
              "        const element = document.querySelector('#df-87a175db-068b-4c0d-a65c-09af6f474317');\n",
              "        const dataTable =\n",
              "          await google.colab.kernel.invokeFunction('convertToInteractive',\n",
              "                                                    [key], {});\n",
              "        if (!dataTable) return;\n",
              "\n",
              "        const docLinkHtml = 'Like what you see? Visit the ' +\n",
              "          '<a target=\"_blank\" href=https://colab.research.google.com/notebooks/data_table.ipynb>data table notebook</a>'\n",
              "          + ' to learn more about interactive tables.';\n",
              "        element.innerHTML = '';\n",
              "        dataTable['output_type'] = 'display_data';\n",
              "        await google.colab.output.renderOutput(dataTable, element);\n",
              "        const docLink = document.createElement('div');\n",
              "        docLink.innerHTML = docLinkHtml;\n",
              "        element.appendChild(docLink);\n",
              "      }\n",
              "    </script>\n",
              "  </div>\n",
              "\n",
              "\n",
              "    <div id=\"df-759b3bae-1d4b-4ba9-9db7-583d18c0ca35\">\n",
              "      <button class=\"colab-df-quickchart\" onclick=\"quickchart('df-759b3bae-1d4b-4ba9-9db7-583d18c0ca35')\"\n",
              "                title=\"Suggest charts\"\n",
              "                style=\"display:none;\">\n",
              "\n",
              "<svg xmlns=\"http://www.w3.org/2000/svg\" height=\"24px\"viewBox=\"0 0 24 24\"\n",
              "     width=\"24px\">\n",
              "    <g>\n",
              "        <path d=\"M19 3H5c-1.1 0-2 .9-2 2v14c0 1.1.9 2 2 2h14c1.1 0 2-.9 2-2V5c0-1.1-.9-2-2-2zM9 17H7v-7h2v7zm4 0h-2V7h2v10zm4 0h-2v-4h2v4z\"/>\n",
              "    </g>\n",
              "</svg>\n",
              "      </button>\n",
              "\n",
              "<style>\n",
              "  .colab-df-quickchart {\n",
              "      --bg-color: #E8F0FE;\n",
              "      --fill-color: #1967D2;\n",
              "      --hover-bg-color: #E2EBFA;\n",
              "      --hover-fill-color: #174EA6;\n",
              "      --disabled-fill-color: #AAA;\n",
              "      --disabled-bg-color: #DDD;\n",
              "  }\n",
              "\n",
              "  [theme=dark] .colab-df-quickchart {\n",
              "      --bg-color: #3B4455;\n",
              "      --fill-color: #D2E3FC;\n",
              "      --hover-bg-color: #434B5C;\n",
              "      --hover-fill-color: #FFFFFF;\n",
              "      --disabled-bg-color: #3B4455;\n",
              "      --disabled-fill-color: #666;\n",
              "  }\n",
              "\n",
              "  .colab-df-quickchart {\n",
              "    background-color: var(--bg-color);\n",
              "    border: none;\n",
              "    border-radius: 50%;\n",
              "    cursor: pointer;\n",
              "    display: none;\n",
              "    fill: var(--fill-color);\n",
              "    height: 32px;\n",
              "    padding: 0;\n",
              "    width: 32px;\n",
              "  }\n",
              "\n",
              "  .colab-df-quickchart:hover {\n",
              "    background-color: var(--hover-bg-color);\n",
              "    box-shadow: 0 1px 2px rgba(60, 64, 67, 0.3), 0 1px 3px 1px rgba(60, 64, 67, 0.15);\n",
              "    fill: var(--button-hover-fill-color);\n",
              "  }\n",
              "\n",
              "  .colab-df-quickchart-complete:disabled,\n",
              "  .colab-df-quickchart-complete:disabled:hover {\n",
              "    background-color: var(--disabled-bg-color);\n",
              "    fill: var(--disabled-fill-color);\n",
              "    box-shadow: none;\n",
              "  }\n",
              "\n",
              "  .colab-df-spinner {\n",
              "    border: 2px solid var(--fill-color);\n",
              "    border-color: transparent;\n",
              "    border-bottom-color: var(--fill-color);\n",
              "    animation:\n",
              "      spin 1s steps(1) infinite;\n",
              "  }\n",
              "\n",
              "  @keyframes spin {\n",
              "    0% {\n",
              "      border-color: transparent;\n",
              "      border-bottom-color: var(--fill-color);\n",
              "      border-left-color: var(--fill-color);\n",
              "    }\n",
              "    20% {\n",
              "      border-color: transparent;\n",
              "      border-left-color: var(--fill-color);\n",
              "      border-top-color: var(--fill-color);\n",
              "    }\n",
              "    30% {\n",
              "      border-color: transparent;\n",
              "      border-left-color: var(--fill-color);\n",
              "      border-top-color: var(--fill-color);\n",
              "      border-right-color: var(--fill-color);\n",
              "    }\n",
              "    40% {\n",
              "      border-color: transparent;\n",
              "      border-right-color: var(--fill-color);\n",
              "      border-top-color: var(--fill-color);\n",
              "    }\n",
              "    60% {\n",
              "      border-color: transparent;\n",
              "      border-right-color: var(--fill-color);\n",
              "    }\n",
              "    80% {\n",
              "      border-color: transparent;\n",
              "      border-right-color: var(--fill-color);\n",
              "      border-bottom-color: var(--fill-color);\n",
              "    }\n",
              "    90% {\n",
              "      border-color: transparent;\n",
              "      border-bottom-color: var(--fill-color);\n",
              "    }\n",
              "  }\n",
              "</style>\n",
              "\n",
              "      <script>\n",
              "        async function quickchart(key) {\n",
              "          const quickchartButtonEl =\n",
              "            document.querySelector('#' + key + ' button');\n",
              "          quickchartButtonEl.disabled = true;  // To prevent multiple clicks.\n",
              "          quickchartButtonEl.classList.add('colab-df-spinner');\n",
              "          try {\n",
              "            const charts = await google.colab.kernel.invokeFunction(\n",
              "                'suggestCharts', [key], {});\n",
              "          } catch (error) {\n",
              "            console.error('Error during call to suggestCharts:', error);\n",
              "          }\n",
              "          quickchartButtonEl.classList.remove('colab-df-spinner');\n",
              "          quickchartButtonEl.classList.add('colab-df-quickchart-complete');\n",
              "        }\n",
              "        (() => {\n",
              "          let quickchartButtonEl =\n",
              "            document.querySelector('#df-759b3bae-1d4b-4ba9-9db7-583d18c0ca35 button');\n",
              "          quickchartButtonEl.style.display =\n",
              "            google.colab.kernel.accessAllowed ? 'block' : 'none';\n",
              "        })();\n",
              "      </script>\n",
              "    </div>\n",
              "\n",
              "    </div>\n",
              "  </div>\n"
            ],
            "text/plain": [
              "             timestamp    itemid  property  available  categoryid  value_n\n",
              "0  2015-09-06 03:00:00  206783.0     888.0        0.0       942.0    277.2\n",
              "1  2015-08-09 03:00:00  395014.0     400.0        0.0      1135.0   1272.0\n",
              "2  2015-05-10 03:00:00   59481.0     790.0        1.0       498.0  15360.0\n",
              "3  2015-06-14 03:00:00   98113.0     451.0        0.0        48.0     48.0\n",
              "4  2015-08-09 03:00:00  450113.0     888.0        0.0       227.0    504.0"
            ]
          },
          "execution_count": 25,
          "metadata": {},
          "output_type": "execute_result"
        }
      ],
      "source": [
        "df_items.head()"
      ]
    },
    {
      "cell_type": "code",
      "execution_count": 3,
      "id": "f1e21903",
      "metadata": {
        "id": "f1e21903"
      },
      "outputs": [],
      "source": [
        "df_items = df_items[[\"timestamp\",\"itemid\",\"property\",\"value_n\",\"categoryid\",\"available\"]]"
      ]
    },
    {
      "cell_type": "code",
      "execution_count": null,
      "id": "8XVNc78daPP0",
      "metadata": {
        "colab": {
          "base_uri": "https://localhost:8080/",
          "height": 206
        },
        "id": "8XVNc78daPP0",
        "outputId": "cc103419-d08a-49c0-aa1a-cecdc4b23b82"
      },
      "outputs": [],
      "source": [
        "tem_counts_groupby = events_cleaned.groupby(\"event\").count()"
      ]
    },
    {
      "cell_type": "code",
      "execution_count": 33,
      "id": "6cf87d10",
      "metadata": {},
      "outputs": [
        {
          "data": {
            "application/vnd.microsoft.datawrangler.viewer.v0+json": {
              "columns": [
                {
                  "name": "event",
                  "rawType": "int64",
                  "type": "integer"
                },
                {
                  "name": "timestamp",
                  "rawType": "int64",
                  "type": "integer"
                },
                {
                  "name": "visitorid",
                  "rawType": "int64",
                  "type": "integer"
                },
                {
                  "name": "itemid",
                  "rawType": "int64",
                  "type": "integer"
                }
              ],
              "ref": "1ad8137e-2d2e-41ad-affd-3cbd4a76d8c9",
              "rows": [
                [
                  "1",
                  "1633682",
                  "1633682",
                  "1633682"
                ],
                [
                  "3",
                  "16097",
                  "16097",
                  "16097"
                ],
                [
                  "5",
                  "2601",
                  "2601",
                  "2601"
                ]
              ],
              "shape": {
                "columns": 3,
                "rows": 3
              }
            },
            "text/html": [
              "<div>\n",
              "<style scoped>\n",
              "    .dataframe tbody tr th:only-of-type {\n",
              "        vertical-align: middle;\n",
              "    }\n",
              "\n",
              "    .dataframe tbody tr th {\n",
              "        vertical-align: top;\n",
              "    }\n",
              "\n",
              "    .dataframe thead th {\n",
              "        text-align: right;\n",
              "    }\n",
              "</style>\n",
              "<table border=\"1\" class=\"dataframe\">\n",
              "  <thead>\n",
              "    <tr style=\"text-align: right;\">\n",
              "      <th></th>\n",
              "      <th>timestamp</th>\n",
              "      <th>visitorid</th>\n",
              "      <th>itemid</th>\n",
              "    </tr>\n",
              "    <tr>\n",
              "      <th>event</th>\n",
              "      <th></th>\n",
              "      <th></th>\n",
              "      <th></th>\n",
              "    </tr>\n",
              "  </thead>\n",
              "  <tbody>\n",
              "    <tr>\n",
              "      <th>1</th>\n",
              "      <td>1633682</td>\n",
              "      <td>1633682</td>\n",
              "      <td>1633682</td>\n",
              "    </tr>\n",
              "    <tr>\n",
              "      <th>3</th>\n",
              "      <td>16097</td>\n",
              "      <td>16097</td>\n",
              "      <td>16097</td>\n",
              "    </tr>\n",
              "    <tr>\n",
              "      <th>5</th>\n",
              "      <td>2601</td>\n",
              "      <td>2601</td>\n",
              "      <td>2601</td>\n",
              "    </tr>\n",
              "  </tbody>\n",
              "</table>\n",
              "</div>"
            ],
            "text/plain": [
              "       timestamp  visitorid   itemid\n",
              "event                               \n",
              "1        1633682    1633682  1633682\n",
              "3          16097      16097    16097\n",
              "5           2601       2601     2601"
            ]
          },
          "execution_count": 33,
          "metadata": {},
          "output_type": "execute_result"
        }
      ],
      "source": [
        "tem_counts_groupby"
      ]
    },
    {
      "cell_type": "markdown",
      "id": "yvCjjIX93wdc",
      "metadata": {
        "id": "yvCjjIX93wdc"
      },
      "source": [
        "neural network for your recommendation system"
      ]
    },
    {
      "cell_type": "code",
      "execution_count": null,
      "id": "9ad2f4e3",
      "metadata": {
        "id": "9ad2f4e3"
      },
      "outputs": [],
      "source": [
        "import numpy as np\n",
        "from tensorflow.keras.models import Model\n",
        "from tensorflow.keras.layers import Input, Embedding, Flatten, Dense, Concatenate, Dropout\n",
        "from tensorflow.keras.optimizers import Adam"
      ]
    },
    {
      "cell_type": "code",
      "execution_count": 4,
      "id": "YBw5Q8oDyiUp",
      "metadata": {
        "id": "YBw5Q8oDyiUp"
      },
      "outputs": [],
      "source": [
        "# Map users and items to integer indices\n",
        "visitor_ids = events_cleaned[\"visitorid\"].unique()\n",
        "item_ids = df_items[\"itemid\"].unique()"
      ]
    },
    {
      "cell_type": "code",
      "execution_count": 5,
      "id": "G985tL0TUdxl",
      "metadata": {
        "id": "G985tL0TUdxl"
      },
      "outputs": [],
      "source": [
        "visitor_map = {v: i for i, v in enumerate(visitor_ids)}\n",
        "item_map = {i: j for j, i in enumerate(item_ids)}"
      ]
    },
    {
      "cell_type": "code",
      "execution_count": 6,
      "id": "U7-I-R1dXOZP",
      "metadata": {
        "id": "U7-I-R1dXOZP"
      },
      "outputs": [],
      "source": [
        "# Map to numeric indices\n",
        "events_cleaned[\"visitor_idx\"] = events_cleaned[\"visitorid\"].map(visitor_map)\n",
        "events_cleaned[\"item_idx\"] = events_cleaned[\"itemid\"].map(item_map)"
      ]
    },
    {
      "cell_type": "code",
      "execution_count": 7,
      "id": "32842af4",
      "metadata": {},
      "outputs": [],
      "source": [
        "# Drop rows with unknown user or item\n",
        "events_cleaned = events_cleaned.dropna(subset = [\"visitor_idx\", \"item_idx\"])"
      ]
    },
    {
      "cell_type": "code",
      "execution_count": 8,
      "id": "67b8606f",
      "metadata": {},
      "outputs": [],
      "source": [
        "# Convert to int\n",
        "events_cleaned[\"visitor_idx\"] = events_cleaned[\"visitor_idx\"].astype(int)\n",
        "events_cleaned[\"item_idx\"] = events_cleaned[\"item_idx\"].astype(int)"
      ]
    },
    {
      "cell_type": "markdown",
      "id": "0AdiP_ssUr9v",
      "metadata": {
        "id": "0AdiP_ssUr9v"
      },
      "source": [
        "Final cleaning before neural network model"
      ]
    },
    {
      "cell_type": "code",
      "execution_count": 9,
      "id": "INu2T7va7tjH",
      "metadata": {
        "id": "INu2T7va7tjH"
      },
      "outputs": [],
      "source": [
        "# Remove duplicate items\n",
        "df_items_unique = df_items.drop_duplicates(subset = \"itemid\")"
      ]
    },
    {
      "cell_type": "code",
      "execution_count": 10,
      "id": "PzgQj3Fj7yQP",
      "metadata": {
        "colab": {
          "base_uri": "https://localhost:8080/"
        },
        "id": "PzgQj3Fj7yQP",
        "outputId": "a48bc90f-bb8e-47ea-8427-204d4e6ede8d"
      },
      "outputs": [
        {
          "name": "stderr",
          "output_type": "stream",
          "text": [
            "C:\\Users\\Law\\AppData\\Local\\Temp\\ipykernel_19156\\2669239481.py:2: SettingWithCopyWarning: \n",
            "A value is trying to be set on a copy of a slice from a DataFrame.\n",
            "Try using .loc[row_indexer,col_indexer] = value instead\n",
            "\n",
            "See the caveats in the documentation: https://pandas.pydata.org/pandas-docs/stable/user_guide/indexing.html#returning-a-view-versus-a-copy\n",
            "  df_items_unique[\"categoryid\"] = df_items_unique[\"categoryid\"].fillna(-1).astype(int)\n",
            "C:\\Users\\Law\\AppData\\Local\\Temp\\ipykernel_19156\\2669239481.py:3: SettingWithCopyWarning: \n",
            "A value is trying to be set on a copy of a slice from a DataFrame.\n",
            "Try using .loc[row_indexer,col_indexer] = value instead\n",
            "\n",
            "See the caveats in the documentation: https://pandas.pydata.org/pandas-docs/stable/user_guide/indexing.html#returning-a-view-versus-a-copy\n",
            "  df_items_unique[\"available\"] = df_items_unique[\"available\"].fillna(0).astype(int)\n"
          ]
        }
      ],
      "source": [
        "# Fill missing values\n",
        "df_items_unique[\"categoryid\"] = df_items_unique[\"categoryid\"].fillna(-1).astype(int)\n",
        "df_items_unique[\"available\"] = df_items_unique[\"available\"].fillna(0).astype(int)"
      ]
    },
    {
      "cell_type": "code",
      "execution_count": 11,
      "id": "rT5-d7CZ72Lg",
      "metadata": {
        "id": "rT5-d7CZ72Lg"
      },
      "outputs": [],
      "source": [
        "# Create item feature array aligned with item_map\n",
        "item_feature_array = df_items_unique.set_index(\"itemid\")[[\"categoryid\", \"available\"]].reindex(item_ids).fillna(0).values"
      ]
    },
    {
      "cell_type": "code",
      "execution_count": 12,
      "id": "TquesNx4ZU8y",
      "metadata": {
        "id": "TquesNx4ZU8y"
      },
      "outputs": [],
      "source": [
        "num_users = len(visitor_map)\n",
        "num_items = len(item_map)\n",
        "embedding_size = 32"
      ]
    },
    {
      "cell_type": "code",
      "execution_count": 13,
      "id": "07c486be",
      "metadata": {},
      "outputs": [],
      "source": [
        "# Map item features to each row\n",
        "item_features_for_model = item_feature_array[events_cleaned[\"item_idx\"].values]"
      ]
    },
    {
      "cell_type": "code",
      "execution_count": 14,
      "id": "5i2lG1w5ZQgB",
      "metadata": {
        "id": "5i2lG1w5ZQgB"
      },
      "outputs": [],
      "source": [
        "# Use the event column directly as interaction target since i have map tthe items already\n",
        "y = events_cleaned[\"event\"].values.astype(np.float32)"
      ]
    },
    {
      "cell_type": "markdown",
      "id": "6c8fda3a",
      "metadata": {},
      "source": [
        "TRAIN/TEST SPLIT"
      ]
    },
    {
      "cell_type": "code",
      "execution_count": 15,
      "id": "2528247e",
      "metadata": {},
      "outputs": [],
      "source": [
        "from sklearn.model_selection import train_test_split"
      ]
    },
    {
      "cell_type": "code",
      "execution_count": 16,
      "id": "a0e5d1ab",
      "metadata": {},
      "outputs": [],
      "source": [
        "X = events_cleaned[[\"visitor_idx\", \"item_idx\"]].values\n",
        "\n",
        "X_train, X_test, y_train, y_test = train_test_split(\n",
        "    X, y, test_size = 0.2, random_state = 42\n",
        ")"
      ]
    },
    {
      "cell_type": "markdown",
      "id": "a0V24JOH78m3",
      "metadata": {
        "id": "a0V24JOH78m3"
      },
      "source": [
        "Tuning and designing neutral network"
      ]
    },
    {
      "cell_type": "code",
      "execution_count": 17,
      "id": "d38141d5",
      "metadata": {},
      "outputs": [],
      "source": [
        "num_users = len(visitor_map)\n",
        "num_items = len(item_map)\n",
        "embedding_size = 32"
      ]
    },
    {
      "cell_type": "code",
      "execution_count": 18,
      "id": "d54a0b15",
      "metadata": {
        "id": "d54a0b15"
      },
      "outputs": [],
      "source": [
        "# user and item inputs\n",
        "user_input = Input(shape = (1,), name = \"user_input\")\n",
        "item_input = Input(shape = (1,), name = \"item_input\")"
      ]
    },
    {
      "cell_type": "code",
      "execution_count": 19,
      "id": "d35d3314",
      "metadata": {
        "id": "d35d3314"
      },
      "outputs": [],
      "source": [
        "# Embeddings\n",
        "user_embedding = Embedding(input_dim = num_users, output_dim = embedding_size, name = \"user_embedding\")(user_input)\n",
        "item_embedding = Embedding(input_dim = num_items, output_dim = embedding_size, name = \"item_embedding\")(item_input)"
      ]
    },
    {
      "cell_type": "code",
      "execution_count": 20,
      "id": "QLODvEvl5hXH",
      "metadata": {
        "id": "QLODvEvl5hXH"
      },
      "outputs": [],
      "source": [
        "# Flatten embeddings\n",
        "user_vec = Flatten()(user_embedding)\n",
        "item_vec = Flatten()(item_embedding)"
      ]
    },
    {
      "cell_type": "code",
      "execution_count": 21,
      "id": "914EUgBE5m7K",
      "metadata": {
        "id": "914EUgBE5m7K"
      },
      "outputs": [],
      "source": [
        "# Adding item features\n",
        "# from categoryid and available columns\n",
        "df_items[\"categoryid\"] = df_items[\"categoryid\"].fillna(-1).astype(int)\n",
        "df_items[\"available\"] = df_items[\"available\"].fillna(0).astype(int)"
      ]
    },
    {
      "cell_type": "code",
      "execution_count": 23,
      "id": "oY6IG_FzbT7m",
      "metadata": {
        "id": "oY6IG_FzbT7m"
      },
      "outputs": [],
      "source": [
        "# Concatenate embeddings\n",
        "concat = Concatenate()([user_vec, item_vec])"
      ]
    },
    {
      "cell_type": "code",
      "execution_count": 24,
      "id": "czzhJStnbbys",
      "metadata": {
        "id": "czzhJStnbbys"
      },
      "outputs": [],
      "source": [
        "# Hidden layers\n",
        "x = Dense(128, activation=\"relu\")(concat)\n",
        "x = Dense(64, activation=\"relu\")(x)\n",
        "output = Dense(1, activation=\"linear\")(x)\n",
        "\n",
        "# Output layer: predict interaction score\n",
        "output = Dense(1, activation=\"linear\")(x)"
      ]
    },
    {
      "cell_type": "code",
      "execution_count": null,
      "id": "sokK4ocebfgd",
      "metadata": {
        "id": "sokK4ocebfgd"
      },
      "outputs": [
        {
          "name": "stdout",
          "output_type": "stream",
          "text": [
            "Model: \"model\"\n",
            "__________________________________________________________________________________________________\n",
            " Layer (type)                Output Shape                 Param #   Connected to                  \n",
            "==================================================================================================\n",
            " user_input (InputLayer)     [(None, 1)]                  0         []                            \n",
            "                                                                                                  \n",
            " item_input (InputLayer)     [(None, 1)]                  0         []                            \n"
          ]
        },
        {
          "name": "stdout",
          "output_type": "stream",
          "text": [
            "                                                                                                  \n",
            " user_embedding (Embedding)  (None, 1, 32)                4118924   ['user_input[0][0]']          \n",
            "                                                          8                                       \n",
            "                                                                                                  \n",
            " item_embedding (Embedding)  (None, 1, 32)                1288044   ['item_input[0][0]']          \n",
            "                                                          8                                       \n",
            "                                                                                                  \n",
            " flatten (Flatten)           (None, 32)                   0         ['user_embedding[0][0]']      \n",
            "                                                                                                  \n",
            " flatten_1 (Flatten)         (None, 32)                   0         ['item_embedding[0][0]']      \n",
            "                                                                                                  \n",
            " concatenate_1 (Concatenate  (None, 64)                   0         ['flatten[0][0]',             \n",
            " )                                                                   'flatten_1[0][0]']           \n",
            "                                                                                                  \n",
            " dense (Dense)               (None, 128)                  8320      ['concatenate_1[0][0]']       \n",
            "                                                                                                  \n",
            " dense_1 (Dense)             (None, 64)                   8256      ['dense[0][0]']               \n",
            "                                                                                                  \n",
            " dense_3 (Dense)             (None, 1)                    65        ['dense_1[0][0]']             \n",
            "                                                                                                  \n",
            "==================================================================================================\n",
            "Total params: 54086337 (206.32 MB)\n",
            "Trainable params: 54086337 (206.32 MB)\n",
            "Non-trainable params: 0 (0.00 Byte)\n",
            "__________________________________________________________________________________________________\n"
          ]
        }
      ],
      "source": [
        "# Build and compile model\n",
        "model = Model(inputs = [user_input, item_input], outputs = output)\n",
        "model.compile(optimizer = Adam(learning_rate = 0.001), loss = \"mse\", metrics = [\"mae\"])\n",
        "\n",
        "model.summary()"
      ]
    },
    {
      "cell_type": "markdown",
      "id": "48a2331e",
      "metadata": {},
      "source": [
        "TRAIN MODEL"
      ]
    },
    {
      "cell_type": "code",
      "execution_count": 27,
      "id": "3-FMv2oxbl0X",
      "metadata": {
        "colab": {
          "base_uri": "https://localhost:8080/"
        },
        "id": "3-FMv2oxbl0X",
        "outputId": "1f80ca60-0f7e-4910-dc24-f33c7d77b967"
      },
      "outputs": [
        {
          "name": "stdout",
          "output_type": "stream",
          "text": [
            "Epoch 1/10\n",
            "4223/4223 [==============================] - 3784s 896ms/step - loss: 0.0732 - mae: 0.0644 - val_loss: 0.0689 - val_mae: 0.0659\n",
            "Epoch 2/10\n",
            "4223/4223 [==============================] - 2235s 529ms/step - loss: 0.0605 - mae: 0.0644 - val_loss: 0.0689 - val_mae: 0.0554\n",
            "Epoch 3/10\n",
            "4223/4223 [==============================] - 2091s 495ms/step - loss: 0.0484 - mae: 0.0563 - val_loss: 0.0718 - val_mae: 0.0636\n",
            "Epoch 4/10\n",
            "4223/4223 [==============================] - 2705s 641ms/step - loss: 0.0407 - mae: 0.0454 - val_loss: 0.0773 - val_mae: 0.0530\n",
            "Epoch 5/10\n",
            "4223/4223 [==============================] - 2071s 490ms/step - loss: 0.0368 - mae: 0.0400 - val_loss: 0.0764 - val_mae: 0.0562\n",
            "Epoch 6/10\n",
            "4223/4223 [==============================] - 2002s 474ms/step - loss: 0.0340 - mae: 0.0374 - val_loss: 0.0786 - val_mae: 0.0513\n",
            "Epoch 7/10\n",
            "4223/4223 [==============================] - 2221s 526ms/step - loss: 0.0320 - mae: 0.0348 - val_loss: 0.0805 - val_mae: 0.0577\n",
            "Epoch 8/10\n",
            "4223/4223 [==============================] - 4433s 1s/step - loss: 0.0305 - mae: 0.0324 - val_loss: 0.0822 - val_mae: 0.0507\n",
            "Epoch 9/10\n",
            "4223/4223 [==============================] - 2458s 582ms/step - loss: 0.0292 - mae: 0.0304 - val_loss: 0.0827 - val_mae: 0.0487\n",
            "Epoch 10/10\n",
            "4223/4223 [==============================] - 2282s 540ms/step - loss: 0.0285 - mae: 0.0293 - val_loss: 0.0807 - val_mae: 0.0487\n"
          ]
        }
      ],
      "source": [
        "history = model.fit(\n",
        "    [X_train[:, 0], X_train[:, 1]],\n",
        "    y_train,\n",
        "    validation_data = ([X_test[:, 0], X_test[:, 1]], y_test),\n",
        "    epochs = 6,\n",
        "    batch_size = 256\n",
        ")"
      ]
    },
    {
      "cell_type": "code",
      "execution_count": null,
      "id": "49b7316e",
      "metadata": {},
      "outputs": [],
      "source": [
        "results = model.evaluate(X_test, y_test, verbose = 0)"
      ]
    },
    {
      "cell_type": "code",
      "execution_count": null,
      "id": "ab3e051a",
      "metadata": {},
      "outputs": [],
      "source": [
        "test_loss = results[0]\n",
        "test_accuracy = results[1]"
      ]
    },
    {
      "cell_type": "code",
      "execution_count": null,
      "id": "0ff2f423",
      "metadata": {},
      "outputs": [],
      "source": [
        "print(f\"Test Loss: {test_loss:.4f}\")\n",
        "print(f\"Test Accuracy: {test_accuracy:.4f}\")"
      ]
    },
    {
      "cell_type": "code",
      "execution_count": null,
      "id": "73c2e9c2",
      "metadata": {},
      "outputs": [],
      "source": [
        "print(f\"Final Training Accuracy: {train_accuracy:.4f}\")\n",
        "print(f\"Final Training Loss: {train_loss:.4f}\")\n",
        "print(f\"Final Validation Accuracy: {val_accuracy:.4f}\")\n",
        "print(f\"Final Validation Loss: {val_loss:.4f}\")"
      ]
    },
    {
      "cell_type": "markdown",
      "id": "2c724ede",
      "metadata": {},
      "source": [
        "TEST MODEL"
      ]
    },
    {
      "cell_type": "code",
      "execution_count": 36,
      "id": "547855ff",
      "metadata": {},
      "outputs": [],
      "source": [
        "from sklearn.metrics import mean_squared_error, mean_absolute_error, accuracy_score\n",
        "from collections import defaultdict"
      ]
    },
    {
      "cell_type": "code",
      "execution_count": 37,
      "id": "beb44eba",
      "metadata": {},
      "outputs": [
        {
          "name": "stdout",
          "output_type": "stream",
          "text": [
            "MSE: 0.0807, MAE: 0.0487\n"
          ]
        }
      ],
      "source": [
        "# Regression metrics\n",
        "mse = mean_squared_error(y_test, y_pred)\n",
        "mae = mean_absolute_error(y_test, y_pred)\n",
        "print(f\"MSE: {mse:.4f}, MAE: {mae:.4f}\")"
      ]
    },
    {
      "cell_type": "code",
      "execution_count": 38,
      "id": "bb5a666b",
      "metadata": {},
      "outputs": [],
      "source": [
        "def precision_at_k(y_true, y_pred, k=10):\n",
        "    top_k_idx = np.argsort(-y_pred)[:k]\n",
        "    relevant = y_true[top_k_idx]\n",
        "    return np.sum(relevant) / k"
      ]
    },
    {
      "cell_type": "code",
      "execution_count": 39,
      "id": "05dcaeaa",
      "metadata": {},
      "outputs": [],
      "source": [
        "def recall_at_k(y_true, y_pred, k=10):\n",
        "    top_k_idx = np.argsort(-y_pred)[:k]\n",
        "    relevant = y_true[top_k_idx]\n",
        "    return np.sum(relevant) / np.sum(y_true) if np.sum(y_true) > 0 else 0"
      ]
    },
    {
      "cell_type": "code",
      "execution_count": 40,
      "id": "18d48acc",
      "metadata": {},
      "outputs": [
        {
          "name": "stdout",
          "output_type": "stream",
          "text": [
            "8445/8445 [==============================] - 56s 7ms/step\n"
          ]
        }
      ],
      "source": [
        "y_pred = model.predict([X_test[:, 0], X_test[:, 1]])"
      ]
    },
    {
      "cell_type": "code",
      "execution_count": 41,
      "id": "7e0fd7c4",
      "metadata": {},
      "outputs": [],
      "source": [
        "user_scores = defaultdict(list)\n",
        "user_labels = defaultdict(list)\n",
        "\n",
        "for i in range(len(X_test)):\n",
        "    user = X_test[i, 0]\n",
        "    user_scores[user].append(y_pred[i])\n",
        "    user_labels[user].append(y_test[i])"
      ]
    },
    {
      "cell_type": "code",
      "execution_count": 44,
      "id": "b8238c2b",
      "metadata": {},
      "outputs": [
        {
          "name": "stdout",
          "output_type": "stream",
          "text": [
            "Precision@10: 0.1084\n",
            "Recall@10: 1.0000\n"
          ]
        }
      ],
      "source": [
        "k = 10\n",
        "precision_list = []\n",
        "recall_list = []\n",
        "\n",
        "for user in user_scores:\n",
        "    scores = np.array(user_scores[user]).flatten()\n",
        "    labels = np.array(user_labels[user])\n",
        "    precision_list.append(precision_at_k(labels, scores, k))\n",
        "    recall_list.append(recall_at_k(labels, scores, k))\n",
        "\n",
        "print(f\"Precision@{k}: {np.mean(precision_list):.4f}\")\n",
        "print(f\"Recall@{k}: {np.mean(recall_list):.4f}\")"
      ]
    },
    {
      "cell_type": "code",
      "execution_count": 32,
      "id": "3391c32d",
      "metadata": {},
      "outputs": [
        {
          "name": "stdout",
          "output_type": "stream",
          "text": [
            "Accuracy: 0.9783\n"
          ]
        }
      ],
      "source": [
        "# classification accuracy\n",
        "y_pred_class = np.clip(np.rint(y_pred), 1, 3)\n",
        "acc = accuracy_score(y_test, y_pred_class)\n",
        "print(f\"Accuracy: {acc:.4f}\")"
      ]
    },
    {
      "cell_type": "markdown",
      "id": "862c2144",
      "metadata": {
        "id": "862c2144"
      },
      "source": [
        "### Data Visualization and Analysing Business Question"
      ]
    },
    {
      "cell_type": "code",
      "execution_count": 7,
      "id": "78312aa5",
      "metadata": {
        "id": "78312aa5"
      },
      "outputs": [],
      "source": [
        "import matplotlib.pyplot as plt\n",
        "import seaborn as sns\n",
        "import plotly.express as px\n",
        "import plotly.graph_objects as go"
      ]
    },
    {
      "cell_type": "markdown",
      "id": "d23f2966",
      "metadata": {
        "id": "d23f2966"
      },
      "source": [
        "Q1\n",
        "- How many unique visitors in a month?"
      ]
    },
    {
      "cell_type": "code",
      "execution_count": 46,
      "id": "D_05x1XV2EOu",
      "metadata": {
        "id": "D_05x1XV2EOu"
      },
      "outputs": [],
      "source": [
        "events_cleaned[\"timestamp\"] = pd.to_datetime(events_cleaned[\"timestamp\"])"
      ]
    },
    {
      "cell_type": "code",
      "execution_count": null,
      "id": "dW69v7Dj2P1r",
      "metadata": {
        "colab": {
          "base_uri": "https://localhost:8080/",
          "height": 206
        },
        "id": "dW69v7Dj2P1r",
        "outputId": "76682a58-aa91-4131-89f3-c7364b60394f"
      },
      "outputs": [
        {
          "data": {
            "application/vnd.google.colaboratory.intrinsic+json": {
              "type": "dataframe",
              "variable_name": "events_cleaned"
            },
            "text/html": [
              "\n",
              "  <div id=\"df-1cfc0b82-3b04-4669-b273-ac8c392e7228\" class=\"colab-df-container\">\n",
              "    <div>\n",
              "<style scoped>\n",
              "    .dataframe tbody tr th:only-of-type {\n",
              "        vertical-align: middle;\n",
              "    }\n",
              "\n",
              "    .dataframe tbody tr th {\n",
              "        vertical-align: top;\n",
              "    }\n",
              "\n",
              "    .dataframe thead th {\n",
              "        text-align: right;\n",
              "    }\n",
              "</style>\n",
              "<table border=\"1\" class=\"dataframe\">\n",
              "  <thead>\n",
              "    <tr style=\"text-align: right;\">\n",
              "      <th></th>\n",
              "      <th>timestamp</th>\n",
              "      <th>visitorid</th>\n",
              "      <th>event</th>\n",
              "      <th>itemid</th>\n",
              "    </tr>\n",
              "  </thead>\n",
              "  <tbody>\n",
              "    <tr>\n",
              "      <th>0</th>\n",
              "      <td>2015-06-02 05:02:12.117</td>\n",
              "      <td>257597</td>\n",
              "      <td>1</td>\n",
              "      <td>355908</td>\n",
              "    </tr>\n",
              "    <tr>\n",
              "      <th>1</th>\n",
              "      <td>2015-06-02 05:13:19.827</td>\n",
              "      <td>111016</td>\n",
              "      <td>1</td>\n",
              "      <td>318965</td>\n",
              "    </tr>\n",
              "    <tr>\n",
              "      <th>2</th>\n",
              "      <td>2015-06-02 05:12:35.914</td>\n",
              "      <td>483717</td>\n",
              "      <td>1</td>\n",
              "      <td>253185</td>\n",
              "    </tr>\n",
              "    <tr>\n",
              "      <th>3</th>\n",
              "      <td>2015-06-02 05:02:17.106</td>\n",
              "      <td>951259</td>\n",
              "      <td>1</td>\n",
              "      <td>367447</td>\n",
              "    </tr>\n",
              "    <tr>\n",
              "      <th>4</th>\n",
              "      <td>2015-06-02 05:48:06.234</td>\n",
              "      <td>972639</td>\n",
              "      <td>1</td>\n",
              "      <td>22556</td>\n",
              "    </tr>\n",
              "  </tbody>\n",
              "</table>\n",
              "</div>\n",
              "    <div class=\"colab-df-buttons\">\n",
              "\n",
              "  <div class=\"colab-df-container\">\n",
              "    <button class=\"colab-df-convert\" onclick=\"convertToInteractive('df-1cfc0b82-3b04-4669-b273-ac8c392e7228')\"\n",
              "            title=\"Convert this dataframe to an interactive table.\"\n",
              "            style=\"display:none;\">\n",
              "\n",
              "  <svg xmlns=\"http://www.w3.org/2000/svg\" height=\"24px\" viewBox=\"0 -960 960 960\">\n",
              "    <path d=\"M120-120v-720h720v720H120Zm60-500h600v-160H180v160Zm220 220h160v-160H400v160Zm0 220h160v-160H400v160ZM180-400h160v-160H180v160Zm440 0h160v-160H620v160ZM180-180h160v-160H180v160Zm440 0h160v-160H620v160Z\"/>\n",
              "  </svg>\n",
              "    </button>\n",
              "\n",
              "  <style>\n",
              "    .colab-df-container {\n",
              "      display:flex;\n",
              "      gap: 12px;\n",
              "    }\n",
              "\n",
              "    .colab-df-convert {\n",
              "      background-color: #E8F0FE;\n",
              "      border: none;\n",
              "      border-radius: 50%;\n",
              "      cursor: pointer;\n",
              "      display: none;\n",
              "      fill: #1967D2;\n",
              "      height: 32px;\n",
              "      padding: 0 0 0 0;\n",
              "      width: 32px;\n",
              "    }\n",
              "\n",
              "    .colab-df-convert:hover {\n",
              "      background-color: #E2EBFA;\n",
              "      box-shadow: 0px 1px 2px rgba(60, 64, 67, 0.3), 0px 1px 3px 1px rgba(60, 64, 67, 0.15);\n",
              "      fill: #174EA6;\n",
              "    }\n",
              "\n",
              "    .colab-df-buttons div {\n",
              "      margin-bottom: 4px;\n",
              "    }\n",
              "\n",
              "    [theme=dark] .colab-df-convert {\n",
              "      background-color: #3B4455;\n",
              "      fill: #D2E3FC;\n",
              "    }\n",
              "\n",
              "    [theme=dark] .colab-df-convert:hover {\n",
              "      background-color: #434B5C;\n",
              "      box-shadow: 0px 1px 3px 1px rgba(0, 0, 0, 0.15);\n",
              "      filter: drop-shadow(0px 1px 2px rgba(0, 0, 0, 0.3));\n",
              "      fill: #FFFFFF;\n",
              "    }\n",
              "  </style>\n",
              "\n",
              "    <script>\n",
              "      const buttonEl =\n",
              "        document.querySelector('#df-1cfc0b82-3b04-4669-b273-ac8c392e7228 button.colab-df-convert');\n",
              "      buttonEl.style.display =\n",
              "        google.colab.kernel.accessAllowed ? 'block' : 'none';\n",
              "\n",
              "      async function convertToInteractive(key) {\n",
              "        const element = document.querySelector('#df-1cfc0b82-3b04-4669-b273-ac8c392e7228');\n",
              "        const dataTable =\n",
              "          await google.colab.kernel.invokeFunction('convertToInteractive',\n",
              "                                                    [key], {});\n",
              "        if (!dataTable) return;\n",
              "\n",
              "        const docLinkHtml = 'Like what you see? Visit the ' +\n",
              "          '<a target=\"_blank\" href=https://colab.research.google.com/notebooks/data_table.ipynb>data table notebook</a>'\n",
              "          + ' to learn more about interactive tables.';\n",
              "        element.innerHTML = '';\n",
              "        dataTable['output_type'] = 'display_data';\n",
              "        await google.colab.output.renderOutput(dataTable, element);\n",
              "        const docLink = document.createElement('div');\n",
              "        docLink.innerHTML = docLinkHtml;\n",
              "        element.appendChild(docLink);\n",
              "      }\n",
              "    </script>\n",
              "  </div>\n",
              "\n",
              "\n",
              "    <div id=\"df-937aca29-b171-4370-93de-5ea9e672e8b7\">\n",
              "      <button class=\"colab-df-quickchart\" onclick=\"quickchart('df-937aca29-b171-4370-93de-5ea9e672e8b7')\"\n",
              "                title=\"Suggest charts\"\n",
              "                style=\"display:none;\">\n",
              "\n",
              "<svg xmlns=\"http://www.w3.org/2000/svg\" height=\"24px\"viewBox=\"0 0 24 24\"\n",
              "     width=\"24px\">\n",
              "    <g>\n",
              "        <path d=\"M19 3H5c-1.1 0-2 .9-2 2v14c0 1.1.9 2 2 2h14c1.1 0 2-.9 2-2V5c0-1.1-.9-2-2-2zM9 17H7v-7h2v7zm4 0h-2V7h2v10zm4 0h-2v-4h2v4z\"/>\n",
              "    </g>\n",
              "</svg>\n",
              "      </button>\n",
              "\n",
              "<style>\n",
              "  .colab-df-quickchart {\n",
              "      --bg-color: #E8F0FE;\n",
              "      --fill-color: #1967D2;\n",
              "      --hover-bg-color: #E2EBFA;\n",
              "      --hover-fill-color: #174EA6;\n",
              "      --disabled-fill-color: #AAA;\n",
              "      --disabled-bg-color: #DDD;\n",
              "  }\n",
              "\n",
              "  [theme=dark] .colab-df-quickchart {\n",
              "      --bg-color: #3B4455;\n",
              "      --fill-color: #D2E3FC;\n",
              "      --hover-bg-color: #434B5C;\n",
              "      --hover-fill-color: #FFFFFF;\n",
              "      --disabled-bg-color: #3B4455;\n",
              "      --disabled-fill-color: #666;\n",
              "  }\n",
              "\n",
              "  .colab-df-quickchart {\n",
              "    background-color: var(--bg-color);\n",
              "    border: none;\n",
              "    border-radius: 50%;\n",
              "    cursor: pointer;\n",
              "    display: none;\n",
              "    fill: var(--fill-color);\n",
              "    height: 32px;\n",
              "    padding: 0;\n",
              "    width: 32px;\n",
              "  }\n",
              "\n",
              "  .colab-df-quickchart:hover {\n",
              "    background-color: var(--hover-bg-color);\n",
              "    box-shadow: 0 1px 2px rgba(60, 64, 67, 0.3), 0 1px 3px 1px rgba(60, 64, 67, 0.15);\n",
              "    fill: var(--button-hover-fill-color);\n",
              "  }\n",
              "\n",
              "  .colab-df-quickchart-complete:disabled,\n",
              "  .colab-df-quickchart-complete:disabled:hover {\n",
              "    background-color: var(--disabled-bg-color);\n",
              "    fill: var(--disabled-fill-color);\n",
              "    box-shadow: none;\n",
              "  }\n",
              "\n",
              "  .colab-df-spinner {\n",
              "    border: 2px solid var(--fill-color);\n",
              "    border-color: transparent;\n",
              "    border-bottom-color: var(--fill-color);\n",
              "    animation:\n",
              "      spin 1s steps(1) infinite;\n",
              "  }\n",
              "\n",
              "  @keyframes spin {\n",
              "    0% {\n",
              "      border-color: transparent;\n",
              "      border-bottom-color: var(--fill-color);\n",
              "      border-left-color: var(--fill-color);\n",
              "    }\n",
              "    20% {\n",
              "      border-color: transparent;\n",
              "      border-left-color: var(--fill-color);\n",
              "      border-top-color: var(--fill-color);\n",
              "    }\n",
              "    30% {\n",
              "      border-color: transparent;\n",
              "      border-left-color: var(--fill-color);\n",
              "      border-top-color: var(--fill-color);\n",
              "      border-right-color: var(--fill-color);\n",
              "    }\n",
              "    40% {\n",
              "      border-color: transparent;\n",
              "      border-right-color: var(--fill-color);\n",
              "      border-top-color: var(--fill-color);\n",
              "    }\n",
              "    60% {\n",
              "      border-color: transparent;\n",
              "      border-right-color: var(--fill-color);\n",
              "    }\n",
              "    80% {\n",
              "      border-color: transparent;\n",
              "      border-right-color: var(--fill-color);\n",
              "      border-bottom-color: var(--fill-color);\n",
              "    }\n",
              "    90% {\n",
              "      border-color: transparent;\n",
              "      border-bottom-color: var(--fill-color);\n",
              "    }\n",
              "  }\n",
              "</style>\n",
              "\n",
              "      <script>\n",
              "        async function quickchart(key) {\n",
              "          const quickchartButtonEl =\n",
              "            document.querySelector('#' + key + ' button');\n",
              "          quickchartButtonEl.disabled = true;  // To prevent multiple clicks.\n",
              "          quickchartButtonEl.classList.add('colab-df-spinner');\n",
              "          try {\n",
              "            const charts = await google.colab.kernel.invokeFunction(\n",
              "                'suggestCharts', [key], {});\n",
              "          } catch (error) {\n",
              "            console.error('Error during call to suggestCharts:', error);\n",
              "          }\n",
              "          quickchartButtonEl.classList.remove('colab-df-spinner');\n",
              "          quickchartButtonEl.classList.add('colab-df-quickchart-complete');\n",
              "        }\n",
              "        (() => {\n",
              "          let quickchartButtonEl =\n",
              "            document.querySelector('#df-937aca29-b171-4370-93de-5ea9e672e8b7 button');\n",
              "          quickchartButtonEl.style.display =\n",
              "            google.colab.kernel.accessAllowed ? 'block' : 'none';\n",
              "        })();\n",
              "      </script>\n",
              "    </div>\n",
              "\n",
              "    </div>\n",
              "  </div>\n"
            ],
            "text/plain": [
              "                timestamp  visitorid  event  itemid\n",
              "0 2015-06-02 05:02:12.117     257597      1  355908\n",
              "1 2015-06-02 05:13:19.827     111016      1  318965\n",
              "2 2015-06-02 05:12:35.914     483717      1  253185\n",
              "3 2015-06-02 05:02:17.106     951259      1  367447\n",
              "4 2015-06-02 05:48:06.234     972639      1   22556"
            ]
          },
          "execution_count": 7,
          "metadata": {},
          "output_type": "execute_result"
        }
      ],
      "source": [
        "events_cleaned.head()"
      ]
    },
    {
      "cell_type": "code",
      "execution_count": 47,
      "id": "JVy7BXV611wn",
      "metadata": {
        "id": "JVy7BXV611wn"
      },
      "outputs": [],
      "source": [
        "events_cleaned[\"year_month\"] = events_cleaned[\"timestamp\"].dt.to_period(\"M\")"
      ]
    },
    {
      "cell_type": "code",
      "execution_count": 48,
      "id": "456685c9",
      "metadata": {
        "id": "456685c9"
      },
      "outputs": [],
      "source": [
        "monthly_visitors = events_cleaned.groupby(\"year_month\")[\"visitorid\"].nunique().reset_index()"
      ]
    },
    {
      "cell_type": "code",
      "execution_count": null,
      "id": "7fad7bd6",
      "metadata": {
        "colab": {
          "base_uri": "https://localhost:8080/"
        },
        "id": "7fad7bd6",
        "outputId": "dd0e455b-6c3c-4d6b-acea-2f94a3b5f8ad"
      },
      "outputs": [
        {
          "name": "stdout",
          "output_type": "stream",
          "text": [
            "  year_month  visitorid\n",
            "0    2015-05     274302\n",
            "1    2015-06     276649\n",
            "2    2015-07     337179\n",
            "3    2015-08     279387\n",
            "4    2015-09     155952\n"
          ]
        }
      ],
      "source": [
        "\n",
        "print(monthly_visitors.head(10))"
      ]
    },
    {
      "cell_type": "code",
      "execution_count": 49,
      "id": "MDw-0kaz3f6P",
      "metadata": {
        "id": "MDw-0kaz3f6P"
      },
      "outputs": [],
      "source": [
        "monthly_visitors[\"year_month\"] = monthly_visitors[\"year_month\"].astype(str)"
      ]
    },
    {
      "cell_type": "code",
      "execution_count": 54,
      "id": "aUntAtks2emY",
      "metadata": {
        "colab": {
          "base_uri": "https://localhost:8080/",
          "height": 542
        },
        "id": "aUntAtks2emY",
        "outputId": "61967376-a99c-4d0c-d575-28dfbadf8f66"
      },
      "outputs": [
        {
          "data": {
            "application/vnd.plotly.v1+json": {
              "config": {
                "plotlyServerURL": "https://plot.ly"
              },
              "data": [
                {
                  "hovertemplate": "Month=%{x}<br>Unique Visitors=%{text}<extra></extra>",
                  "legendgroup": "2015-05",
                  "marker": {
                    "color": "#F5FAE1",
                    "pattern": {
                      "shape": ""
                    }
                  },
                  "name": "2015-05",
                  "orientation": "v",
                  "showlegend": true,
                  "text": {
                    "bdata": "AAAAAHA5C0E=",
                    "dtype": "f8"
                  },
                  "textposition": "auto",
                  "type": "bar",
                  "x": [
                    "2015-05"
                  ],
                  "xaxis": "x",
                  "y": {
                    "bdata": "LmcDAA==",
                    "dtype": "i4"
                  },
                  "yaxis": "y"
                },
                {
                  "hovertemplate": "Month=%{x}<br>Unique Visitors=%{text}<extra></extra>",
                  "legendgroup": "2015-06",
                  "marker": {
                    "color": "#EEE6CA",
                    "pattern": {
                      "shape": ""
                    }
                  },
                  "name": "2015-06",
                  "orientation": "v",
                  "showlegend": true,
                  "text": {
                    "bdata": "AAAAAACJC0E=",
                    "dtype": "f8"
                  },
                  "textposition": "auto",
                  "type": "bar",
                  "x": [
                    "2015-06"
                  ],
                  "xaxis": "x",
                  "y": {
                    "bdata": "IHEDAA==",
                    "dtype": "i4"
                  },
                  "yaxis": "y"
                },
                {
                  "hovertemplate": "Month=%{x}<br>Unique Visitors=%{text}<extra></extra>",
                  "legendgroup": "2015-07",
                  "marker": {
                    "color": "#E5BEB5",
                    "pattern": {
                      "shape": ""
                    }
                  },
                  "name": "2015-07",
                  "orientation": "v",
                  "showlegend": true,
                  "text": {
                    "bdata": "AAAAALzjEEE=",
                    "dtype": "f8"
                  },
                  "textposition": "auto",
                  "type": "bar",
                  "x": [
                    "2015-07"
                  ],
                  "xaxis": "x",
                  "y": {
                    "bdata": "7zgEAA==",
                    "dtype": "i4"
                  },
                  "yaxis": "y"
                },
                {
                  "hovertemplate": "Month=%{x}<br>Unique Visitors=%{text}<extra></extra>",
                  "legendgroup": "2015-08",
                  "marker": {
                    "color": "#896C6C",
                    "pattern": {
                      "shape": ""
                    }
                  },
                  "name": "2015-08",
                  "orientation": "v",
                  "showlegend": true,
                  "text": {
                    "bdata": "AAAAAEDVC0E=",
                    "dtype": "f8"
                  },
                  "textposition": "auto",
                  "type": "bar",
                  "x": [
                    "2015-08"
                  ],
                  "xaxis": "x",
                  "y": {
                    "bdata": "qHoDAA==",
                    "dtype": "i4"
                  },
                  "yaxis": "y"
                },
                {
                  "hovertemplate": "Month=%{x}<br>Unique Visitors=%{text}<extra></extra>",
                  "legendgroup": "2015-09",
                  "marker": {
                    "color": "#896C6C",
                    "pattern": {
                      "shape": ""
                    }
                  },
                  "name": "2015-09",
                  "orientation": "v",
                  "showlegend": true,
                  "text": {
                    "bdata": "AAAAAIA2/0A=",
                    "dtype": "f8"
                  },
                  "textposition": "auto",
                  "type": "bar",
                  "x": [
                    "2015-09"
                  ],
                  "xaxis": "x",
                  "y": {
                    "bdata": "aPMBAA==",
                    "dtype": "i4"
                  },
                  "yaxis": "y"
                }
              ],
              "layout": {
                "barmode": "relative",
                "height": 500,
                "legend": {
                  "title": {
                    "text": "Month"
                  },
                  "tracegroupgap": 0
                },
                "template": {
                  "data": {
                    "bar": [
                      {
                        "error_x": {
                          "color": "#2a3f5f"
                        },
                        "error_y": {
                          "color": "#2a3f5f"
                        },
                        "marker": {
                          "line": {
                            "color": "#E5ECF6",
                            "width": 0.5
                          },
                          "pattern": {
                            "fillmode": "overlay",
                            "size": 10,
                            "solidity": 0.2
                          }
                        },
                        "type": "bar"
                      }
                    ],
                    "barpolar": [
                      {
                        "marker": {
                          "line": {
                            "color": "#E5ECF6",
                            "width": 0.5
                          },
                          "pattern": {
                            "fillmode": "overlay",
                            "size": 10,
                            "solidity": 0.2
                          }
                        },
                        "type": "barpolar"
                      }
                    ],
                    "carpet": [
                      {
                        "aaxis": {
                          "endlinecolor": "#2a3f5f",
                          "gridcolor": "white",
                          "linecolor": "white",
                          "minorgridcolor": "white",
                          "startlinecolor": "#2a3f5f"
                        },
                        "baxis": {
                          "endlinecolor": "#2a3f5f",
                          "gridcolor": "white",
                          "linecolor": "white",
                          "minorgridcolor": "white",
                          "startlinecolor": "#2a3f5f"
                        },
                        "type": "carpet"
                      }
                    ],
                    "choropleth": [
                      {
                        "colorbar": {
                          "outlinewidth": 0,
                          "ticks": ""
                        },
                        "type": "choropleth"
                      }
                    ],
                    "contour": [
                      {
                        "colorbar": {
                          "outlinewidth": 0,
                          "ticks": ""
                        },
                        "colorscale": [
                          [
                            0,
                            "#0d0887"
                          ],
                          [
                            0.1111111111111111,
                            "#46039f"
                          ],
                          [
                            0.2222222222222222,
                            "#7201a8"
                          ],
                          [
                            0.3333333333333333,
                            "#9c179e"
                          ],
                          [
                            0.4444444444444444,
                            "#bd3786"
                          ],
                          [
                            0.5555555555555556,
                            "#d8576b"
                          ],
                          [
                            0.6666666666666666,
                            "#ed7953"
                          ],
                          [
                            0.7777777777777778,
                            "#fb9f3a"
                          ],
                          [
                            0.8888888888888888,
                            "#fdca26"
                          ],
                          [
                            1,
                            "#f0f921"
                          ]
                        ],
                        "type": "contour"
                      }
                    ],
                    "contourcarpet": [
                      {
                        "colorbar": {
                          "outlinewidth": 0,
                          "ticks": ""
                        },
                        "type": "contourcarpet"
                      }
                    ],
                    "heatmap": [
                      {
                        "colorbar": {
                          "outlinewidth": 0,
                          "ticks": ""
                        },
                        "colorscale": [
                          [
                            0,
                            "#0d0887"
                          ],
                          [
                            0.1111111111111111,
                            "#46039f"
                          ],
                          [
                            0.2222222222222222,
                            "#7201a8"
                          ],
                          [
                            0.3333333333333333,
                            "#9c179e"
                          ],
                          [
                            0.4444444444444444,
                            "#bd3786"
                          ],
                          [
                            0.5555555555555556,
                            "#d8576b"
                          ],
                          [
                            0.6666666666666666,
                            "#ed7953"
                          ],
                          [
                            0.7777777777777778,
                            "#fb9f3a"
                          ],
                          [
                            0.8888888888888888,
                            "#fdca26"
                          ],
                          [
                            1,
                            "#f0f921"
                          ]
                        ],
                        "type": "heatmap"
                      }
                    ],
                    "histogram": [
                      {
                        "marker": {
                          "pattern": {
                            "fillmode": "overlay",
                            "size": 10,
                            "solidity": 0.2
                          }
                        },
                        "type": "histogram"
                      }
                    ],
                    "histogram2d": [
                      {
                        "colorbar": {
                          "outlinewidth": 0,
                          "ticks": ""
                        },
                        "colorscale": [
                          [
                            0,
                            "#0d0887"
                          ],
                          [
                            0.1111111111111111,
                            "#46039f"
                          ],
                          [
                            0.2222222222222222,
                            "#7201a8"
                          ],
                          [
                            0.3333333333333333,
                            "#9c179e"
                          ],
                          [
                            0.4444444444444444,
                            "#bd3786"
                          ],
                          [
                            0.5555555555555556,
                            "#d8576b"
                          ],
                          [
                            0.6666666666666666,
                            "#ed7953"
                          ],
                          [
                            0.7777777777777778,
                            "#fb9f3a"
                          ],
                          [
                            0.8888888888888888,
                            "#fdca26"
                          ],
                          [
                            1,
                            "#f0f921"
                          ]
                        ],
                        "type": "histogram2d"
                      }
                    ],
                    "histogram2dcontour": [
                      {
                        "colorbar": {
                          "outlinewidth": 0,
                          "ticks": ""
                        },
                        "colorscale": [
                          [
                            0,
                            "#0d0887"
                          ],
                          [
                            0.1111111111111111,
                            "#46039f"
                          ],
                          [
                            0.2222222222222222,
                            "#7201a8"
                          ],
                          [
                            0.3333333333333333,
                            "#9c179e"
                          ],
                          [
                            0.4444444444444444,
                            "#bd3786"
                          ],
                          [
                            0.5555555555555556,
                            "#d8576b"
                          ],
                          [
                            0.6666666666666666,
                            "#ed7953"
                          ],
                          [
                            0.7777777777777778,
                            "#fb9f3a"
                          ],
                          [
                            0.8888888888888888,
                            "#fdca26"
                          ],
                          [
                            1,
                            "#f0f921"
                          ]
                        ],
                        "type": "histogram2dcontour"
                      }
                    ],
                    "mesh3d": [
                      {
                        "colorbar": {
                          "outlinewidth": 0,
                          "ticks": ""
                        },
                        "type": "mesh3d"
                      }
                    ],
                    "parcoords": [
                      {
                        "line": {
                          "colorbar": {
                            "outlinewidth": 0,
                            "ticks": ""
                          }
                        },
                        "type": "parcoords"
                      }
                    ],
                    "pie": [
                      {
                        "automargin": true,
                        "type": "pie"
                      }
                    ],
                    "scatter": [
                      {
                        "fillpattern": {
                          "fillmode": "overlay",
                          "size": 10,
                          "solidity": 0.2
                        },
                        "type": "scatter"
                      }
                    ],
                    "scatter3d": [
                      {
                        "line": {
                          "colorbar": {
                            "outlinewidth": 0,
                            "ticks": ""
                          }
                        },
                        "marker": {
                          "colorbar": {
                            "outlinewidth": 0,
                            "ticks": ""
                          }
                        },
                        "type": "scatter3d"
                      }
                    ],
                    "scattercarpet": [
                      {
                        "marker": {
                          "colorbar": {
                            "outlinewidth": 0,
                            "ticks": ""
                          }
                        },
                        "type": "scattercarpet"
                      }
                    ],
                    "scattergeo": [
                      {
                        "marker": {
                          "colorbar": {
                            "outlinewidth": 0,
                            "ticks": ""
                          }
                        },
                        "type": "scattergeo"
                      }
                    ],
                    "scattergl": [
                      {
                        "marker": {
                          "colorbar": {
                            "outlinewidth": 0,
                            "ticks": ""
                          }
                        },
                        "type": "scattergl"
                      }
                    ],
                    "scattermap": [
                      {
                        "marker": {
                          "colorbar": {
                            "outlinewidth": 0,
                            "ticks": ""
                          }
                        },
                        "type": "scattermap"
                      }
                    ],
                    "scattermapbox": [
                      {
                        "marker": {
                          "colorbar": {
                            "outlinewidth": 0,
                            "ticks": ""
                          }
                        },
                        "type": "scattermapbox"
                      }
                    ],
                    "scatterpolar": [
                      {
                        "marker": {
                          "colorbar": {
                            "outlinewidth": 0,
                            "ticks": ""
                          }
                        },
                        "type": "scatterpolar"
                      }
                    ],
                    "scatterpolargl": [
                      {
                        "marker": {
                          "colorbar": {
                            "outlinewidth": 0,
                            "ticks": ""
                          }
                        },
                        "type": "scatterpolargl"
                      }
                    ],
                    "scatterternary": [
                      {
                        "marker": {
                          "colorbar": {
                            "outlinewidth": 0,
                            "ticks": ""
                          }
                        },
                        "type": "scatterternary"
                      }
                    ],
                    "surface": [
                      {
                        "colorbar": {
                          "outlinewidth": 0,
                          "ticks": ""
                        },
                        "colorscale": [
                          [
                            0,
                            "#0d0887"
                          ],
                          [
                            0.1111111111111111,
                            "#46039f"
                          ],
                          [
                            0.2222222222222222,
                            "#7201a8"
                          ],
                          [
                            0.3333333333333333,
                            "#9c179e"
                          ],
                          [
                            0.4444444444444444,
                            "#bd3786"
                          ],
                          [
                            0.5555555555555556,
                            "#d8576b"
                          ],
                          [
                            0.6666666666666666,
                            "#ed7953"
                          ],
                          [
                            0.7777777777777778,
                            "#fb9f3a"
                          ],
                          [
                            0.8888888888888888,
                            "#fdca26"
                          ],
                          [
                            1,
                            "#f0f921"
                          ]
                        ],
                        "type": "surface"
                      }
                    ],
                    "table": [
                      {
                        "cells": {
                          "fill": {
                            "color": "#EBF0F8"
                          },
                          "line": {
                            "color": "white"
                          }
                        },
                        "header": {
                          "fill": {
                            "color": "#C8D4E3"
                          },
                          "line": {
                            "color": "white"
                          }
                        },
                        "type": "table"
                      }
                    ]
                  },
                  "layout": {
                    "annotationdefaults": {
                      "arrowcolor": "#2a3f5f",
                      "arrowhead": 0,
                      "arrowwidth": 1
                    },
                    "autotypenumbers": "strict",
                    "coloraxis": {
                      "colorbar": {
                        "outlinewidth": 0,
                        "ticks": ""
                      }
                    },
                    "colorscale": {
                      "diverging": [
                        [
                          0,
                          "#8e0152"
                        ],
                        [
                          0.1,
                          "#c51b7d"
                        ],
                        [
                          0.2,
                          "#de77ae"
                        ],
                        [
                          0.3,
                          "#f1b6da"
                        ],
                        [
                          0.4,
                          "#fde0ef"
                        ],
                        [
                          0.5,
                          "#f7f7f7"
                        ],
                        [
                          0.6,
                          "#e6f5d0"
                        ],
                        [
                          0.7,
                          "#b8e186"
                        ],
                        [
                          0.8,
                          "#7fbc41"
                        ],
                        [
                          0.9,
                          "#4d9221"
                        ],
                        [
                          1,
                          "#276419"
                        ]
                      ],
                      "sequential": [
                        [
                          0,
                          "#0d0887"
                        ],
                        [
                          0.1111111111111111,
                          "#46039f"
                        ],
                        [
                          0.2222222222222222,
                          "#7201a8"
                        ],
                        [
                          0.3333333333333333,
                          "#9c179e"
                        ],
                        [
                          0.4444444444444444,
                          "#bd3786"
                        ],
                        [
                          0.5555555555555556,
                          "#d8576b"
                        ],
                        [
                          0.6666666666666666,
                          "#ed7953"
                        ],
                        [
                          0.7777777777777778,
                          "#fb9f3a"
                        ],
                        [
                          0.8888888888888888,
                          "#fdca26"
                        ],
                        [
                          1,
                          "#f0f921"
                        ]
                      ],
                      "sequentialminus": [
                        [
                          0,
                          "#0d0887"
                        ],
                        [
                          0.1111111111111111,
                          "#46039f"
                        ],
                        [
                          0.2222222222222222,
                          "#7201a8"
                        ],
                        [
                          0.3333333333333333,
                          "#9c179e"
                        ],
                        [
                          0.4444444444444444,
                          "#bd3786"
                        ],
                        [
                          0.5555555555555556,
                          "#d8576b"
                        ],
                        [
                          0.6666666666666666,
                          "#ed7953"
                        ],
                        [
                          0.7777777777777778,
                          "#fb9f3a"
                        ],
                        [
                          0.8888888888888888,
                          "#fdca26"
                        ],
                        [
                          1,
                          "#f0f921"
                        ]
                      ]
                    },
                    "colorway": [
                      "#636efa",
                      "#EF553B",
                      "#00cc96",
                      "#ab63fa",
                      "#FFA15A",
                      "#19d3f3",
                      "#FF6692",
                      "#B6E880",
                      "#FF97FF",
                      "#FECB52"
                    ],
                    "font": {
                      "color": "#2a3f5f"
                    },
                    "geo": {
                      "bgcolor": "white",
                      "lakecolor": "white",
                      "landcolor": "#E5ECF6",
                      "showlakes": true,
                      "showland": true,
                      "subunitcolor": "white"
                    },
                    "hoverlabel": {
                      "align": "left"
                    },
                    "hovermode": "closest",
                    "mapbox": {
                      "style": "light"
                    },
                    "paper_bgcolor": "white",
                    "plot_bgcolor": "#E5ECF6",
                    "polar": {
                      "angularaxis": {
                        "gridcolor": "white",
                        "linecolor": "white",
                        "ticks": ""
                      },
                      "bgcolor": "#E5ECF6",
                      "radialaxis": {
                        "gridcolor": "white",
                        "linecolor": "white",
                        "ticks": ""
                      }
                    },
                    "scene": {
                      "xaxis": {
                        "backgroundcolor": "#E5ECF6",
                        "gridcolor": "white",
                        "gridwidth": 2,
                        "linecolor": "white",
                        "showbackground": true,
                        "ticks": "",
                        "zerolinecolor": "white"
                      },
                      "yaxis": {
                        "backgroundcolor": "#E5ECF6",
                        "gridcolor": "white",
                        "gridwidth": 2,
                        "linecolor": "white",
                        "showbackground": true,
                        "ticks": "",
                        "zerolinecolor": "white"
                      },
                      "zaxis": {
                        "backgroundcolor": "#E5ECF6",
                        "gridcolor": "white",
                        "gridwidth": 2,
                        "linecolor": "white",
                        "showbackground": true,
                        "ticks": "",
                        "zerolinecolor": "white"
                      }
                    },
                    "shapedefaults": {
                      "line": {
                        "color": "#2a3f5f"
                      }
                    },
                    "ternary": {
                      "aaxis": {
                        "gridcolor": "white",
                        "linecolor": "white",
                        "ticks": ""
                      },
                      "baxis": {
                        "gridcolor": "white",
                        "linecolor": "white",
                        "ticks": ""
                      },
                      "bgcolor": "#E5ECF6",
                      "caxis": {
                        "gridcolor": "white",
                        "linecolor": "white",
                        "ticks": ""
                      }
                    },
                    "title": {
                      "x": 0.05
                    },
                    "xaxis": {
                      "automargin": true,
                      "gridcolor": "white",
                      "linecolor": "white",
                      "ticks": "",
                      "title": {
                        "standoff": 15
                      },
                      "zerolinecolor": "white",
                      "zerolinewidth": 2
                    },
                    "yaxis": {
                      "automargin": true,
                      "gridcolor": "white",
                      "linecolor": "white",
                      "ticks": "",
                      "title": {
                        "standoff": 15
                      },
                      "zerolinecolor": "white",
                      "zerolinewidth": 2
                    }
                  }
                },
                "title": {
                  "text": "Unique Visitors per Month"
                },
                "width": 700,
                "xaxis": {
                  "anchor": "y",
                  "categoryarray": [
                    "2015-05",
                    "2015-06",
                    "2015-07",
                    "2015-08",
                    "2015-09"
                  ],
                  "categoryorder": "array",
                  "domain": [
                    0,
                    1
                  ],
                  "title": {
                    "text": "Month"
                  }
                },
                "yaxis": {
                  "anchor": "x",
                  "domain": [
                    0,
                    1
                  ],
                  "showticklabels": false,
                  "title": {
                    "text": "Unique Visitors"
                  }
                }
              }
            }
          },
          "metadata": {},
          "output_type": "display_data"
        }
      ],
      "source": [
        "color_map = {\n",
        "    \"2015-05\": \"#F5FAE1\",\n",
        "    \"2015-06\": \"#EEE6CA\",\n",
        "    \"2015-07\": \"#E5BEB5\",\n",
        "    \"2015-08\": \"#896C6C\",\n",
        "    \"2015-09\": \"#896C6C\"\n",
        "}\n",
        "\n",
        "fig = px.bar(\n",
        "    monthly_visitors,\n",
        "    x = \"year_month\",\n",
        "    y = \"visitorid\",\n",
        "    color = \"year_month\",\n",
        "    color_discrete_map = color_map,\n",
        "    title = \"Unique Visitors per Month\",\n",
        "    labels = {\"year_month\": \"Month\", \"visitorid\": \"Unique Visitors\"},\n",
        "    text = \"visitorid\"\n",
        ")\n",
        "fig.update_layout(\n",
        "    legend_title_text = \"Month\",\n",
        "    xaxis_title = \"Month\",\n",
        "    yaxis = dict(\n",
        "        showticklabels = False\n",
        "    ),\n",
        "    width = 700,\n",
        "    height = 500\n",
        ")\n",
        "\n",
        "fig.show()"
      ]
    },
    {
      "cell_type": "markdown",
      "id": "eba7d012",
      "metadata": {
        "id": "eba7d012"
      },
      "source": [
        "Q2\n",
        "- Top most viewed and added to cart items between July and August?"
      ]
    },
    {
      "cell_type": "code",
      "execution_count": 22,
      "id": "ac41759b",
      "metadata": {},
      "outputs": [],
      "source": [
        "events_cleaned[\"timestamp\"] = pd.to_datetime(events_cleaned[\"timestamp\"])"
      ]
    },
    {
      "cell_type": "code",
      "execution_count": 23,
      "id": "7b32349c",
      "metadata": {},
      "outputs": [],
      "source": [
        "df_filtered = events_cleaned[\n",
        "    (events_cleaned[\"timestamp\"] >= \"2015-07-01\") &\n",
        "    (events_cleaned[\"timestamp\"] <= \"2015-08-31\")\n",
        "]"
      ]
    },
    {
      "cell_type": "code",
      "execution_count": 24,
      "id": "8f6568c2",
      "metadata": {},
      "outputs": [
        {
          "name": "stderr",
          "output_type": "stream",
          "text": [
            "C:\\Users\\Law\\AppData\\Local\\Temp\\ipykernel_18428\\599921581.py:1: SettingWithCopyWarning:\n",
            "\n",
            "\n",
            "A value is trying to be set on a copy of a slice from a DataFrame.\n",
            "Try using .loc[row_indexer,col_indexer] = value instead\n",
            "\n",
            "See the caveats in the documentation: https://pandas.pydata.org/pandas-docs/stable/user_guide/indexing.html#returning-a-view-versus-a-copy\n",
            "\n"
          ]
        }
      ],
      "source": [
        "df_filtered[\"Month\"] = df_filtered[\"timestamp\"].dt.strftime(\"%B\")"
      ]
    },
    {
      "cell_type": "code",
      "execution_count": 25,
      "id": "fadac1ea",
      "metadata": {},
      "outputs": [],
      "source": [
        "monthly_counts = df_filtered[df_filtered[\"event\"].isin([1, 3])] \\\n",
        "    .groupby([\"Month\", \"event\"])[\"itemid\"].count().reset_index()"
      ]
    },
    {
      "cell_type": "code",
      "execution_count": 26,
      "id": "67cf1d73",
      "metadata": {},
      "outputs": [],
      "source": [
        "event_map = {1: \"Views\", 3: \"Adds to Cart\"}\n",
        "monthly_counts[\"Event\"] = monthly_counts[\"event\"].map(event_map)\n"
      ]
    },
    {
      "cell_type": "code",
      "execution_count": 27,
      "id": "67a10829",
      "metadata": {},
      "outputs": [],
      "source": [
        "pivot_df = monthly_counts.pivot(index = \"Month\", columns = \"Event\", values = \"itemid\").fillna(0)"
      ]
    },
    {
      "cell_type": "code",
      "execution_count": 28,
      "id": "e1a3df09",
      "metadata": {},
      "outputs": [],
      "source": [
        "pivot_df = pivot_df.loc[[\"July\", \"August\"]]"
      ]
    },
    {
      "cell_type": "code",
      "execution_count": 32,
      "id": "rFAlD7gt7IT3",
      "metadata": {
        "colab": {
          "base_uri": "https://localhost:8080/",
          "height": 542
        },
        "id": "rFAlD7gt7IT3",
        "outputId": "09c88fda-418a-480b-ecda-8640762205fe"
      },
      "outputs": [
        {
          "data": {
            "application/vnd.plotly.v1+json": {
              "config": {
                "plotlyServerURL": "https://plot.ly"
              },
              "data": [
                {
                  "marker": {
                    "color": "#5E936C"
                  },
                  "name": "Views",
                  "text": {
                    "bdata": "AAAAABQ5GUEAAAAAICsUQQ==",
                    "dtype": "f8"
                  },
                  "textfont": {
                    "color": "white"
                  },
                  "textposition": "inside",
                  "type": "bar",
                  "x": [
                    "July",
                    "August"
                  ],
                  "y": {
                    "bdata": "RU4GAMgKBQA=",
                    "dtype": "i4"
                  }
                },
                {
                  "marker": {
                    "color": "#93DA97"
                  },
                  "name": "Adds to Cart",
                  "text": {
                    "bdata": "AAAAAADurkAAAAAAAMqrQA==",
                    "dtype": "f8"
                  },
                  "textfont": {
                    "color": "black"
                  },
                  "textposition": "inside",
                  "type": "bar",
                  "x": [
                    "July",
                    "August"
                  ],
                  "y": {
                    "bdata": "dw/lDQ==",
                    "dtype": "i2"
                  }
                }
              ],
              "layout": {
                "barmode": "group",
                "height": 500,
                "template": {
                  "data": {
                    "bar": [
                      {
                        "error_x": {
                          "color": "#2a3f5f"
                        },
                        "error_y": {
                          "color": "#2a3f5f"
                        },
                        "marker": {
                          "line": {
                            "color": "#E5ECF6",
                            "width": 0.5
                          },
                          "pattern": {
                            "fillmode": "overlay",
                            "size": 10,
                            "solidity": 0.2
                          }
                        },
                        "type": "bar"
                      }
                    ],
                    "barpolar": [
                      {
                        "marker": {
                          "line": {
                            "color": "#E5ECF6",
                            "width": 0.5
                          },
                          "pattern": {
                            "fillmode": "overlay",
                            "size": 10,
                            "solidity": 0.2
                          }
                        },
                        "type": "barpolar"
                      }
                    ],
                    "carpet": [
                      {
                        "aaxis": {
                          "endlinecolor": "#2a3f5f",
                          "gridcolor": "white",
                          "linecolor": "white",
                          "minorgridcolor": "white",
                          "startlinecolor": "#2a3f5f"
                        },
                        "baxis": {
                          "endlinecolor": "#2a3f5f",
                          "gridcolor": "white",
                          "linecolor": "white",
                          "minorgridcolor": "white",
                          "startlinecolor": "#2a3f5f"
                        },
                        "type": "carpet"
                      }
                    ],
                    "choropleth": [
                      {
                        "colorbar": {
                          "outlinewidth": 0,
                          "ticks": ""
                        },
                        "type": "choropleth"
                      }
                    ],
                    "contour": [
                      {
                        "colorbar": {
                          "outlinewidth": 0,
                          "ticks": ""
                        },
                        "colorscale": [
                          [
                            0,
                            "#0d0887"
                          ],
                          [
                            0.1111111111111111,
                            "#46039f"
                          ],
                          [
                            0.2222222222222222,
                            "#7201a8"
                          ],
                          [
                            0.3333333333333333,
                            "#9c179e"
                          ],
                          [
                            0.4444444444444444,
                            "#bd3786"
                          ],
                          [
                            0.5555555555555556,
                            "#d8576b"
                          ],
                          [
                            0.6666666666666666,
                            "#ed7953"
                          ],
                          [
                            0.7777777777777778,
                            "#fb9f3a"
                          ],
                          [
                            0.8888888888888888,
                            "#fdca26"
                          ],
                          [
                            1,
                            "#f0f921"
                          ]
                        ],
                        "type": "contour"
                      }
                    ],
                    "contourcarpet": [
                      {
                        "colorbar": {
                          "outlinewidth": 0,
                          "ticks": ""
                        },
                        "type": "contourcarpet"
                      }
                    ],
                    "heatmap": [
                      {
                        "colorbar": {
                          "outlinewidth": 0,
                          "ticks": ""
                        },
                        "colorscale": [
                          [
                            0,
                            "#0d0887"
                          ],
                          [
                            0.1111111111111111,
                            "#46039f"
                          ],
                          [
                            0.2222222222222222,
                            "#7201a8"
                          ],
                          [
                            0.3333333333333333,
                            "#9c179e"
                          ],
                          [
                            0.4444444444444444,
                            "#bd3786"
                          ],
                          [
                            0.5555555555555556,
                            "#d8576b"
                          ],
                          [
                            0.6666666666666666,
                            "#ed7953"
                          ],
                          [
                            0.7777777777777778,
                            "#fb9f3a"
                          ],
                          [
                            0.8888888888888888,
                            "#fdca26"
                          ],
                          [
                            1,
                            "#f0f921"
                          ]
                        ],
                        "type": "heatmap"
                      }
                    ],
                    "histogram": [
                      {
                        "marker": {
                          "pattern": {
                            "fillmode": "overlay",
                            "size": 10,
                            "solidity": 0.2
                          }
                        },
                        "type": "histogram"
                      }
                    ],
                    "histogram2d": [
                      {
                        "colorbar": {
                          "outlinewidth": 0,
                          "ticks": ""
                        },
                        "colorscale": [
                          [
                            0,
                            "#0d0887"
                          ],
                          [
                            0.1111111111111111,
                            "#46039f"
                          ],
                          [
                            0.2222222222222222,
                            "#7201a8"
                          ],
                          [
                            0.3333333333333333,
                            "#9c179e"
                          ],
                          [
                            0.4444444444444444,
                            "#bd3786"
                          ],
                          [
                            0.5555555555555556,
                            "#d8576b"
                          ],
                          [
                            0.6666666666666666,
                            "#ed7953"
                          ],
                          [
                            0.7777777777777778,
                            "#fb9f3a"
                          ],
                          [
                            0.8888888888888888,
                            "#fdca26"
                          ],
                          [
                            1,
                            "#f0f921"
                          ]
                        ],
                        "type": "histogram2d"
                      }
                    ],
                    "histogram2dcontour": [
                      {
                        "colorbar": {
                          "outlinewidth": 0,
                          "ticks": ""
                        },
                        "colorscale": [
                          [
                            0,
                            "#0d0887"
                          ],
                          [
                            0.1111111111111111,
                            "#46039f"
                          ],
                          [
                            0.2222222222222222,
                            "#7201a8"
                          ],
                          [
                            0.3333333333333333,
                            "#9c179e"
                          ],
                          [
                            0.4444444444444444,
                            "#bd3786"
                          ],
                          [
                            0.5555555555555556,
                            "#d8576b"
                          ],
                          [
                            0.6666666666666666,
                            "#ed7953"
                          ],
                          [
                            0.7777777777777778,
                            "#fb9f3a"
                          ],
                          [
                            0.8888888888888888,
                            "#fdca26"
                          ],
                          [
                            1,
                            "#f0f921"
                          ]
                        ],
                        "type": "histogram2dcontour"
                      }
                    ],
                    "mesh3d": [
                      {
                        "colorbar": {
                          "outlinewidth": 0,
                          "ticks": ""
                        },
                        "type": "mesh3d"
                      }
                    ],
                    "parcoords": [
                      {
                        "line": {
                          "colorbar": {
                            "outlinewidth": 0,
                            "ticks": ""
                          }
                        },
                        "type": "parcoords"
                      }
                    ],
                    "pie": [
                      {
                        "automargin": true,
                        "type": "pie"
                      }
                    ],
                    "scatter": [
                      {
                        "fillpattern": {
                          "fillmode": "overlay",
                          "size": 10,
                          "solidity": 0.2
                        },
                        "type": "scatter"
                      }
                    ],
                    "scatter3d": [
                      {
                        "line": {
                          "colorbar": {
                            "outlinewidth": 0,
                            "ticks": ""
                          }
                        },
                        "marker": {
                          "colorbar": {
                            "outlinewidth": 0,
                            "ticks": ""
                          }
                        },
                        "type": "scatter3d"
                      }
                    ],
                    "scattercarpet": [
                      {
                        "marker": {
                          "colorbar": {
                            "outlinewidth": 0,
                            "ticks": ""
                          }
                        },
                        "type": "scattercarpet"
                      }
                    ],
                    "scattergeo": [
                      {
                        "marker": {
                          "colorbar": {
                            "outlinewidth": 0,
                            "ticks": ""
                          }
                        },
                        "type": "scattergeo"
                      }
                    ],
                    "scattergl": [
                      {
                        "marker": {
                          "colorbar": {
                            "outlinewidth": 0,
                            "ticks": ""
                          }
                        },
                        "type": "scattergl"
                      }
                    ],
                    "scattermap": [
                      {
                        "marker": {
                          "colorbar": {
                            "outlinewidth": 0,
                            "ticks": ""
                          }
                        },
                        "type": "scattermap"
                      }
                    ],
                    "scattermapbox": [
                      {
                        "marker": {
                          "colorbar": {
                            "outlinewidth": 0,
                            "ticks": ""
                          }
                        },
                        "type": "scattermapbox"
                      }
                    ],
                    "scatterpolar": [
                      {
                        "marker": {
                          "colorbar": {
                            "outlinewidth": 0,
                            "ticks": ""
                          }
                        },
                        "type": "scatterpolar"
                      }
                    ],
                    "scatterpolargl": [
                      {
                        "marker": {
                          "colorbar": {
                            "outlinewidth": 0,
                            "ticks": ""
                          }
                        },
                        "type": "scatterpolargl"
                      }
                    ],
                    "scatterternary": [
                      {
                        "marker": {
                          "colorbar": {
                            "outlinewidth": 0,
                            "ticks": ""
                          }
                        },
                        "type": "scatterternary"
                      }
                    ],
                    "surface": [
                      {
                        "colorbar": {
                          "outlinewidth": 0,
                          "ticks": ""
                        },
                        "colorscale": [
                          [
                            0,
                            "#0d0887"
                          ],
                          [
                            0.1111111111111111,
                            "#46039f"
                          ],
                          [
                            0.2222222222222222,
                            "#7201a8"
                          ],
                          [
                            0.3333333333333333,
                            "#9c179e"
                          ],
                          [
                            0.4444444444444444,
                            "#bd3786"
                          ],
                          [
                            0.5555555555555556,
                            "#d8576b"
                          ],
                          [
                            0.6666666666666666,
                            "#ed7953"
                          ],
                          [
                            0.7777777777777778,
                            "#fb9f3a"
                          ],
                          [
                            0.8888888888888888,
                            "#fdca26"
                          ],
                          [
                            1,
                            "#f0f921"
                          ]
                        ],
                        "type": "surface"
                      }
                    ],
                    "table": [
                      {
                        "cells": {
                          "fill": {
                            "color": "#EBF0F8"
                          },
                          "line": {
                            "color": "white"
                          }
                        },
                        "header": {
                          "fill": {
                            "color": "#C8D4E3"
                          },
                          "line": {
                            "color": "white"
                          }
                        },
                        "type": "table"
                      }
                    ]
                  },
                  "layout": {
                    "annotationdefaults": {
                      "arrowcolor": "#2a3f5f",
                      "arrowhead": 0,
                      "arrowwidth": 1
                    },
                    "autotypenumbers": "strict",
                    "coloraxis": {
                      "colorbar": {
                        "outlinewidth": 0,
                        "ticks": ""
                      }
                    },
                    "colorscale": {
                      "diverging": [
                        [
                          0,
                          "#8e0152"
                        ],
                        [
                          0.1,
                          "#c51b7d"
                        ],
                        [
                          0.2,
                          "#de77ae"
                        ],
                        [
                          0.3,
                          "#f1b6da"
                        ],
                        [
                          0.4,
                          "#fde0ef"
                        ],
                        [
                          0.5,
                          "#f7f7f7"
                        ],
                        [
                          0.6,
                          "#e6f5d0"
                        ],
                        [
                          0.7,
                          "#b8e186"
                        ],
                        [
                          0.8,
                          "#7fbc41"
                        ],
                        [
                          0.9,
                          "#4d9221"
                        ],
                        [
                          1,
                          "#276419"
                        ]
                      ],
                      "sequential": [
                        [
                          0,
                          "#0d0887"
                        ],
                        [
                          0.1111111111111111,
                          "#46039f"
                        ],
                        [
                          0.2222222222222222,
                          "#7201a8"
                        ],
                        [
                          0.3333333333333333,
                          "#9c179e"
                        ],
                        [
                          0.4444444444444444,
                          "#bd3786"
                        ],
                        [
                          0.5555555555555556,
                          "#d8576b"
                        ],
                        [
                          0.6666666666666666,
                          "#ed7953"
                        ],
                        [
                          0.7777777777777778,
                          "#fb9f3a"
                        ],
                        [
                          0.8888888888888888,
                          "#fdca26"
                        ],
                        [
                          1,
                          "#f0f921"
                        ]
                      ],
                      "sequentialminus": [
                        [
                          0,
                          "#0d0887"
                        ],
                        [
                          0.1111111111111111,
                          "#46039f"
                        ],
                        [
                          0.2222222222222222,
                          "#7201a8"
                        ],
                        [
                          0.3333333333333333,
                          "#9c179e"
                        ],
                        [
                          0.4444444444444444,
                          "#bd3786"
                        ],
                        [
                          0.5555555555555556,
                          "#d8576b"
                        ],
                        [
                          0.6666666666666666,
                          "#ed7953"
                        ],
                        [
                          0.7777777777777778,
                          "#fb9f3a"
                        ],
                        [
                          0.8888888888888888,
                          "#fdca26"
                        ],
                        [
                          1,
                          "#f0f921"
                        ]
                      ]
                    },
                    "colorway": [
                      "#636efa",
                      "#EF553B",
                      "#00cc96",
                      "#ab63fa",
                      "#FFA15A",
                      "#19d3f3",
                      "#FF6692",
                      "#B6E880",
                      "#FF97FF",
                      "#FECB52"
                    ],
                    "font": {
                      "color": "#2a3f5f"
                    },
                    "geo": {
                      "bgcolor": "white",
                      "lakecolor": "white",
                      "landcolor": "#E5ECF6",
                      "showlakes": true,
                      "showland": true,
                      "subunitcolor": "white"
                    },
                    "hoverlabel": {
                      "align": "left"
                    },
                    "hovermode": "closest",
                    "mapbox": {
                      "style": "light"
                    },
                    "paper_bgcolor": "white",
                    "plot_bgcolor": "#E5ECF6",
                    "polar": {
                      "angularaxis": {
                        "gridcolor": "white",
                        "linecolor": "white",
                        "ticks": ""
                      },
                      "bgcolor": "#E5ECF6",
                      "radialaxis": {
                        "gridcolor": "white",
                        "linecolor": "white",
                        "ticks": ""
                      }
                    },
                    "scene": {
                      "xaxis": {
                        "backgroundcolor": "#E5ECF6",
                        "gridcolor": "white",
                        "gridwidth": 2,
                        "linecolor": "white",
                        "showbackground": true,
                        "ticks": "",
                        "zerolinecolor": "white"
                      },
                      "yaxis": {
                        "backgroundcolor": "#E5ECF6",
                        "gridcolor": "white",
                        "gridwidth": 2,
                        "linecolor": "white",
                        "showbackground": true,
                        "ticks": "",
                        "zerolinecolor": "white"
                      },
                      "zaxis": {
                        "backgroundcolor": "#E5ECF6",
                        "gridcolor": "white",
                        "gridwidth": 2,
                        "linecolor": "white",
                        "showbackground": true,
                        "ticks": "",
                        "zerolinecolor": "white"
                      }
                    },
                    "shapedefaults": {
                      "line": {
                        "color": "#2a3f5f"
                      }
                    },
                    "ternary": {
                      "aaxis": {
                        "gridcolor": "white",
                        "linecolor": "white",
                        "ticks": ""
                      },
                      "baxis": {
                        "gridcolor": "white",
                        "linecolor": "white",
                        "ticks": ""
                      },
                      "bgcolor": "#E5ECF6",
                      "caxis": {
                        "gridcolor": "white",
                        "linecolor": "white",
                        "ticks": ""
                      }
                    },
                    "title": {
                      "x": 0.05
                    },
                    "xaxis": {
                      "automargin": true,
                      "gridcolor": "white",
                      "linecolor": "white",
                      "ticks": "",
                      "title": {
                        "standoff": 15
                      },
                      "zerolinecolor": "white",
                      "zerolinewidth": 2
                    },
                    "yaxis": {
                      "automargin": true,
                      "gridcolor": "white",
                      "linecolor": "white",
                      "ticks": "",
                      "title": {
                        "standoff": 15
                      },
                      "zerolinecolor": "white",
                      "zerolinewidth": 2
                    }
                  }
                },
                "title": {
                  "text": "Views vs Adds to Cart by Month (July & August)"
                },
                "width": 700,
                "xaxis": {
                  "title": {
                    "text": "Month"
                  }
                },
                "yaxis": {
                  "showticklabels": false,
                  "title": {
                    "text": "Count"
                  }
                }
              }
            }
          },
          "metadata": {},
          "output_type": "display_data"
        }
      ],
      "source": [
        "colors = {\n",
        "    \"Views\": \"#5E936C\",       # Dark green\n",
        "    \"Adds to Cart\": \"#93DA97\" # Mint green\n",
        "}\n",
        "\n",
        "# Create bar chart\n",
        "fig = go.Figure()\n",
        "\n",
        "fig.add_trace(go.Bar(\n",
        "    x = pivot_df.index,\n",
        "    y = pivot_df[\"Views\"],\n",
        "    name = \"Views\",\n",
        "    marker_color = colors[\"Views\"],\n",
        "    text = pivot_df[\"Views\"],\n",
        "    textposition ='inside',\n",
        "    textfont = dict(color = 'white')\n",
        "))\n",
        "\n",
        "fig.add_trace(go.Bar(\n",
        "    x = pivot_df.index,\n",
        "    y = pivot_df[\"Adds to Cart\"],\n",
        "    name = \"Adds to Cart\",\n",
        "    marker_color = colors[\"Adds to Cart\"],\n",
        "    text = pivot_df[\"Adds to Cart\"],\n",
        "    textposition =  'inside',\n",
        "    textfont = dict(color='black')\n",
        "))\n",
        "\n",
        "fig.update_layout(\n",
        "    barmode = \"group\",\n",
        "    title = \"Views vs Adds to Cart by Month (July & August)\",\n",
        "    xaxis_title = \"Month\",\n",
        "    yaxis_title = \"Count\",\n",
        "    yaxis = dict(\n",
        "        showticklabels = False\n",
        "    ),\n",
        "    width = 700,\n",
        "    height = 500\n",
        ")\n",
        "\n",
        "fig.show()"
      ]
    },
    {
      "cell_type": "markdown",
      "id": "NeOlJMnvGvBH",
      "metadata": {
        "id": "NeOlJMnvGvBH"
      },
      "source": [
        "Q3\n",
        "- Most frequently interacted items?"
      ]
    },
    {
      "cell_type": "code",
      "execution_count": 119,
      "id": "1jE_x9Ug77li",
      "metadata": {
        "id": "1jE_x9Ug77li"
      },
      "outputs": [],
      "source": [
        "top_items = events_cleaned[\"itemid\"].value_counts().head(3).reset_index()\n",
        "top_items.columns = [\"itemid\", \"event\"]"
      ]
    },
    {
      "cell_type": "code",
      "execution_count": 120,
      "id": "0365552c",
      "metadata": {},
      "outputs": [
        {
          "name": "stdout",
          "output_type": "stream",
          "text": [
            "   itemid  event\n",
            "0  187946   3215\n",
            "1    5411   1975\n",
            "2  370653   1608\n"
          ]
        }
      ],
      "source": [
        "print(top_items)"
      ]
    },
    {
      "cell_type": "code",
      "execution_count": 126,
      "id": "880a9d54",
      "metadata": {},
      "outputs": [],
      "source": [
        "top_items[\"itemid_str\"] = top_items[\"itemid\"].astype(str)"
      ]
    },
    {
      "cell_type": "code",
      "execution_count": 131,
      "id": "e1e2d6f0",
      "metadata": {},
      "outputs": [
        {
          "name": "stdout",
          "output_type": "stream",
          "text": [
            "   itemid  event itemid_str\n",
            "0  187946   3215     187946\n",
            "1    5411   1975       5411\n",
            "2  370653   1608     370653\n"
          ]
        }
      ],
      "source": [
        "print(top_items)"
      ]
    },
    {
      "cell_type": "code",
      "execution_count": null,
      "id": "ail070kBPOiz",
      "metadata": {
        "colab": {
          "base_uri": "https://localhost:8080/",
          "height": 542
        },
        "id": "ail070kBPOiz",
        "outputId": "ca744ac4-af8b-4d2e-d383-da91d95b265b"
      },
      "outputs": [
        {
          "data": {
            "application/vnd.plotly.v1+json": {
              "config": {
                "plotlyServerURL": "https://plot.ly"
              },
              "data": [
                {
                  "hovertemplate": "itemid_str=%{x}<br>event=%{text}<extra></extra>",
                  "legendgroup": "187946",
                  "marker": {
                    "color": "#FEC5F6",
                    "pattern": {
                      "shape": ""
                    }
                  },
                  "name": "187946",
                  "orientation": "v",
                  "showlegend": true,
                  "text": {
                    "bdata": "AAAAAAAeqUA=",
                    "dtype": "f8"
                  },
                  "textposition": "auto",
                  "type": "bar",
                  "x": [
                    "187946"
                  ],
                  "xaxis": "x",
                  "y": {
                    "bdata": "jww=",
                    "dtype": "i2"
                  },
                  "yaxis": "y"
                },
                {
                  "hovertemplate": "itemid_str=%{x}<br>event=%{text}<extra></extra>",
                  "legendgroup": "5411",
                  "marker": {
                    "color": "#DB8DD0",
                    "pattern": {
                      "shape": ""
                    }
                  },
                  "name": "5411",
                  "orientation": "v",
                  "showlegend": true,
                  "text": {
                    "bdata": "AAAAAADcnkA=",
                    "dtype": "f8"
                  },
                  "textposition": "auto",
                  "type": "bar",
                  "x": [
                    "5411"
                  ],
                  "xaxis": "x",
                  "y": {
                    "bdata": "twc=",
                    "dtype": "i2"
                  },
                  "yaxis": "y"
                },
                {
                  "hovertemplate": "itemid_str=%{x}<br>event=%{text}<extra></extra>",
                  "legendgroup": "370653",
                  "marker": {
                    "color": "#C562AF",
                    "pattern": {
                      "shape": ""
                    }
                  },
                  "name": "370653",
                  "orientation": "v",
                  "showlegend": true,
                  "text": {
                    "bdata": "AAAAAAAgmUA=",
                    "dtype": "f8"
                  },
                  "textposition": "auto",
                  "type": "bar",
                  "x": [
                    "370653"
                  ],
                  "xaxis": "x",
                  "y": {
                    "bdata": "SAY=",
                    "dtype": "i2"
                  },
                  "yaxis": "y"
                }
              ],
              "layout": {
                "barmode": "relative",
                "height": 500,
                "legend": {
                  "title": {
                    "text": "Item Id"
                  },
                  "tracegroupgap": 0
                },
                "template": {
                  "data": {
                    "candlestick": [
                      {
                        "decreasing": {
                          "line": {
                            "color": "#000033"
                          }
                        },
                        "increasing": {
                          "line": {
                            "color": "#000032"
                          }
                        },
                        "type": "candlestick"
                      }
                    ],
                    "contour": [
                      {
                        "colorscale": [
                          [
                            0,
                            "#000011"
                          ],
                          [
                            0.1111111111111111,
                            "#000012"
                          ],
                          [
                            0.2222222222222222,
                            "#000013"
                          ],
                          [
                            0.3333333333333333,
                            "#000014"
                          ],
                          [
                            0.4444444444444444,
                            "#000015"
                          ],
                          [
                            0.5555555555555556,
                            "#000016"
                          ],
                          [
                            0.6666666666666666,
                            "#000017"
                          ],
                          [
                            0.7777777777777778,
                            "#000018"
                          ],
                          [
                            0.8888888888888888,
                            "#000019"
                          ],
                          [
                            1,
                            "#000020"
                          ]
                        ],
                        "type": "contour"
                      }
                    ],
                    "contourcarpet": [
                      {
                        "colorscale": [
                          [
                            0,
                            "#000011"
                          ],
                          [
                            0.1111111111111111,
                            "#000012"
                          ],
                          [
                            0.2222222222222222,
                            "#000013"
                          ],
                          [
                            0.3333333333333333,
                            "#000014"
                          ],
                          [
                            0.4444444444444444,
                            "#000015"
                          ],
                          [
                            0.5555555555555556,
                            "#000016"
                          ],
                          [
                            0.6666666666666666,
                            "#000017"
                          ],
                          [
                            0.7777777777777778,
                            "#000018"
                          ],
                          [
                            0.8888888888888888,
                            "#000019"
                          ],
                          [
                            1,
                            "#000020"
                          ]
                        ],
                        "type": "contourcarpet"
                      }
                    ],
                    "heatmap": [
                      {
                        "colorscale": [
                          [
                            0,
                            "#000011"
                          ],
                          [
                            0.1111111111111111,
                            "#000012"
                          ],
                          [
                            0.2222222222222222,
                            "#000013"
                          ],
                          [
                            0.3333333333333333,
                            "#000014"
                          ],
                          [
                            0.4444444444444444,
                            "#000015"
                          ],
                          [
                            0.5555555555555556,
                            "#000016"
                          ],
                          [
                            0.6666666666666666,
                            "#000017"
                          ],
                          [
                            0.7777777777777778,
                            "#000018"
                          ],
                          [
                            0.8888888888888888,
                            "#000019"
                          ],
                          [
                            1,
                            "#000020"
                          ]
                        ],
                        "type": "heatmap"
                      }
                    ],
                    "histogram2d": [
                      {
                        "colorscale": [
                          [
                            0,
                            "#000011"
                          ],
                          [
                            0.1111111111111111,
                            "#000012"
                          ],
                          [
                            0.2222222222222222,
                            "#000013"
                          ],
                          [
                            0.3333333333333333,
                            "#000014"
                          ],
                          [
                            0.4444444444444444,
                            "#000015"
                          ],
                          [
                            0.5555555555555556,
                            "#000016"
                          ],
                          [
                            0.6666666666666666,
                            "#000017"
                          ],
                          [
                            0.7777777777777778,
                            "#000018"
                          ],
                          [
                            0.8888888888888888,
                            "#000019"
                          ],
                          [
                            1,
                            "#000020"
                          ]
                        ],
                        "type": "histogram2d"
                      }
                    ],
                    "icicle": [
                      {
                        "textfont": {
                          "color": "white"
                        },
                        "type": "icicle"
                      }
                    ],
                    "sankey": [
                      {
                        "textfont": {
                          "color": "#000036"
                        },
                        "type": "sankey"
                      }
                    ],
                    "scatter": [
                      {
                        "marker": {
                          "line": {
                            "width": 0
                          }
                        },
                        "type": "scatter"
                      }
                    ],
                    "table": [
                      {
                        "cells": {
                          "fill": {
                            "color": "#000038"
                          },
                          "font": {
                            "color": "#000037"
                          },
                          "line": {
                            "color": "#000039"
                          }
                        },
                        "header": {
                          "fill": {
                            "color": "#000040"
                          },
                          "font": {
                            "color": "#000036"
                          },
                          "line": {
                            "color": "#000039"
                          }
                        },
                        "type": "table"
                      }
                    ],
                    "waterfall": [
                      {
                        "connector": {
                          "line": {
                            "color": "#000036",
                            "width": 2
                          }
                        },
                        "decreasing": {
                          "marker": {
                            "color": "#000033"
                          }
                        },
                        "increasing": {
                          "marker": {
                            "color": "#000032"
                          }
                        },
                        "totals": {
                          "marker": {
                            "color": "#000034"
                          }
                        },
                        "type": "waterfall"
                      }
                    ]
                  },
                  "layout": {
                    "coloraxis": {
                      "colorscale": [
                        [
                          0,
                          "#000011"
                        ],
                        [
                          0.1111111111111111,
                          "#000012"
                        ],
                        [
                          0.2222222222222222,
                          "#000013"
                        ],
                        [
                          0.3333333333333333,
                          "#000014"
                        ],
                        [
                          0.4444444444444444,
                          "#000015"
                        ],
                        [
                          0.5555555555555556,
                          "#000016"
                        ],
                        [
                          0.6666666666666666,
                          "#000017"
                        ],
                        [
                          0.7777777777777778,
                          "#000018"
                        ],
                        [
                          0.8888888888888888,
                          "#000019"
                        ],
                        [
                          1,
                          "#000020"
                        ]
                      ]
                    },
                    "colorscale": {
                      "diverging": [
                        [
                          0,
                          "#000021"
                        ],
                        [
                          0.1,
                          "#000022"
                        ],
                        [
                          0.2,
                          "#000023"
                        ],
                        [
                          0.3,
                          "#000024"
                        ],
                        [
                          0.4,
                          "#000025"
                        ],
                        [
                          0.5,
                          "#000026"
                        ],
                        [
                          0.6,
                          "#000027"
                        ],
                        [
                          0.7,
                          "#000028"
                        ],
                        [
                          0.8,
                          "#000029"
                        ],
                        [
                          0.9,
                          "#000030"
                        ],
                        [
                          1,
                          "#000031"
                        ]
                      ],
                      "sequential": [
                        [
                          0,
                          "#000011"
                        ],
                        [
                          0.1111111111111111,
                          "#000012"
                        ],
                        [
                          0.2222222222222222,
                          "#000013"
                        ],
                        [
                          0.3333333333333333,
                          "#000014"
                        ],
                        [
                          0.4444444444444444,
                          "#000015"
                        ],
                        [
                          0.5555555555555556,
                          "#000016"
                        ],
                        [
                          0.6666666666666666,
                          "#000017"
                        ],
                        [
                          0.7777777777777778,
                          "#000018"
                        ],
                        [
                          0.8888888888888888,
                          "#000019"
                        ],
                        [
                          1,
                          "#000020"
                        ]
                      ],
                      "sequentialminus": [
                        [
                          0,
                          "#000011"
                        ],
                        [
                          0.1111111111111111,
                          "#000012"
                        ],
                        [
                          0.2222222222222222,
                          "#000013"
                        ],
                        [
                          0.3333333333333333,
                          "#000014"
                        ],
                        [
                          0.4444444444444444,
                          "#000015"
                        ],
                        [
                          0.5555555555555556,
                          "#000016"
                        ],
                        [
                          0.6666666666666666,
                          "#000017"
                        ],
                        [
                          0.7777777777777778,
                          "#000018"
                        ],
                        [
                          0.8888888888888888,
                          "#000019"
                        ],
                        [
                          1,
                          "#000020"
                        ]
                      ]
                    },
                    "colorway": [
                      "#000001",
                      "#000002",
                      "#000003",
                      "#000004",
                      "#000005",
                      "#000006",
                      "#000007",
                      "#000008",
                      "#000009",
                      "#000010"
                    ]
                  }
                },
                "title": {
                  "text": "Top 3 Most Interacted Items"
                },
                "width": 700,
                "xaxis": {
                  "anchor": "y",
                  "categoryarray": [
                    "187946",
                    "5411",
                    "370653"
                  ],
                  "categoryorder": "array",
                  "domain": [
                    0,
                    1
                  ],
                  "tickmode": "array",
                  "ticktext": [
                    "187946",
                    "5411",
                    "370653"
                  ],
                  "tickvals": [
                    "187946",
                    "5411",
                    "370653"
                  ],
                  "title": {
                    "text": "Item Id"
                  }
                },
                "yaxis": {
                  "anchor": "x",
                  "domain": [
                    0,
                    1
                  ],
                  "showticklabels": false,
                  "title": {
                    "text": "Events"
                  }
                }
              }
            }
          },
          "metadata": {},
          "output_type": "display_data"
        }
      ],
      "source": [
        "color_list = [\"#FEC5F6\", \"#DB8DD0\", \"#C562AF\"]\n",
        "\n",
        "color_map = {str(item): color for item, color in zip(top_items[\"itemid\"], color_list)}\n",
        "\n",
        "fig = px.bar(top_items, \n",
        "    x = \"itemid_str\", \n",
        "    y =\"event\",\n",
        "    title = \"Top 3 Most Interacted Items\",\n",
        "    text = \"event\",\n",
        "    color = \"itemid_str\",\n",
        "    color_discrete_map = color_map\n",
        "    \n",
        ")\n",
        "\n",
        "fig.update_layout(\n",
        "    legend_title_text = \"Item Id\",\n",
        "    xaxis_title = \"Item Id\",\n",
        "    yaxis_title=\"Events\",\n",
        "        xaxis = dict(\n",
        "        tickmode=\"array\",\n",
        "        tickvals=top_items[\"itemid_str\"],\n",
        "        ticktext=top_items[\"itemid_str\"]\n",
        "    ),\n",
        "    yaxis = dict(\n",
        "        showticklabels = False\n",
        "    ),\n",
        "    width = 700,\n",
        "    height = 500\n",
        ")\n",
        "fig.show()"
      ]
    },
    {
      "cell_type": "markdown",
      "id": "anpbv3xmG8Ip",
      "metadata": {
        "id": "anpbv3xmG8Ip"
      },
      "source": [
        "Q4\n",
        "- Top five properties?"
      ]
    },
    {
      "cell_type": "code",
      "execution_count": null,
      "id": "d1ab84dd",
      "metadata": {},
      "outputs": [],
      "source": [
        "top_props = df_items[\"property\"].value_counts().head(5)"
      ]
    },
    {
      "cell_type": "code",
      "execution_count": null,
      "id": "bfcbe272",
      "metadata": {},
      "outputs": [],
      "source": [
        "print(top_props)"
      ]
    },
    {
      "cell_type": "code",
      "execution_count": null,
      "id": "Yp95ygtDS6gS",
      "metadata": {
        "colab": {
          "base_uri": "https://localhost:8080/",
          "height": 425
        },
        "id": "Yp95ygtDS6gS",
        "outputId": "bf6d128c-9afd-4619-a833-de003abdb371"
      },
      "outputs": [
        {
          "name": "stderr",
          "output_type": "stream",
          "text": [
            "c:\\Users\\Law\\AppData\\Local\\Programs\\Python\\Python311\\Lib\\site-packages\\seaborn\\_oldcore.py:1498: FutureWarning:\n",
            "\n",
            "is_categorical_dtype is deprecated and will be removed in a future version. Use isinstance(dtype, CategoricalDtype) instead\n",
            "\n",
            "c:\\Users\\Law\\AppData\\Local\\Programs\\Python\\Python311\\Lib\\site-packages\\seaborn\\_oldcore.py:1498: FutureWarning:\n",
            "\n",
            "is_categorical_dtype is deprecated and will be removed in a future version. Use isinstance(dtype, CategoricalDtype) instead\n",
            "\n"
          ]
        },
        {
          "data": {
            "image/png": "[encoded data removed]",
            "text/plain": [
              "<Figure size 800x400 with 1 Axes>"
            ]
          },
          "metadata": {},
          "output_type": "display_data"
        }
      ],
      "source": [
        "custom_colors = [\"#B2B0E8\", \"#7A85C1\", \"#3B38A0\", \"#1A2A80\", \"#1A2A80\"]\n",
        "\n",
        "\n",
        "plt.figure(figsize = (8, 4))\n",
        "plt.xticks(rotation = 45)\n",
        "sns.barplot(\n",
        "    x = top_props.index,\n",
        "    y = top_props.values,\n",
        "    order = top_props.index,\n",
        "    palette = custom_colors\n",
        ")\n",
        "plt.title(\"Top 5 Item Properties\")\n",
        "plt.xlabel(\"Property\")\n",
        "plt.ylabel(\"Count\")\n",
        "plt.show()"
      ]
    },
    {
      "cell_type": "markdown",
      "id": "EsekGa4kHFGV",
      "metadata": {
        "id": "EsekGa4kHFGV"
      },
      "source": [
        "Q5\n",
        "- Top three most interacted items in May and June."
      ]
    },
    {
      "cell_type": "code",
      "execution_count": 49,
      "id": "433ab03d",
      "metadata": {},
      "outputs": [],
      "source": [
        "events_cleaned[\"timestamp\"] = pd.to_datetime(events_cleaned[\"timestamp\"])"
      ]
    },
    {
      "cell_type": "code",
      "execution_count": 50,
      "id": "9afedb8d",
      "metadata": {},
      "outputs": [],
      "source": [
        "df_filtered = events_cleaned[\n",
        "    (events_cleaned[\"timestamp\"] >= \"2015-06-01\") &\n",
        "    (events_cleaned[\"timestamp\"] <= \"2015-07-31\")\n",
        "]"
      ]
    },
    {
      "cell_type": "code",
      "execution_count": 51,
      "id": "56344bf0",
      "metadata": {},
      "outputs": [
        {
          "name": "stderr",
          "output_type": "stream",
          "text": [
            "C:\\Users\\Law\\AppData\\Local\\Temp\\ipykernel_18428\\599921581.py:1: SettingWithCopyWarning:\n",
            "\n",
            "\n",
            "A value is trying to be set on a copy of a slice from a DataFrame.\n",
            "Try using .loc[row_indexer,col_indexer] = value instead\n",
            "\n",
            "See the caveats in the documentation: https://pandas.pydata.org/pandas-docs/stable/user_guide/indexing.html#returning-a-view-versus-a-copy\n",
            "\n"
          ]
        }
      ],
      "source": [
        "df_filtered[\"Month\"] = df_filtered[\"timestamp\"].dt.strftime(\"%B\")"
      ]
    },
    {
      "cell_type": "code",
      "execution_count": 52,
      "id": "6844c095",
      "metadata": {},
      "outputs": [],
      "source": [
        "item_interaction_counts = df_filtered[\"itemid\"].value_counts()"
      ]
    },
    {
      "cell_type": "code",
      "execution_count": 53,
      "id": "553b2094",
      "metadata": {},
      "outputs": [],
      "source": [
        "top_3_items = item_interaction_counts.head(2).index"
      ]
    },
    {
      "cell_type": "code",
      "execution_count": 54,
      "id": "a1256b22",
      "metadata": {},
      "outputs": [],
      "source": [
        "top_items_df = df_filtered[df_filtered[\"itemid\"].isin(top_3_items)]"
      ]
    },
    {
      "cell_type": "code",
      "execution_count": 55,
      "id": "5a1388ae",
      "metadata": {},
      "outputs": [],
      "source": [
        "grouped = top_items_df.groupby([\"itemid\", \"Month\"]).size().reset_index(name = \"Count\")"
      ]
    },
    {
      "cell_type": "code",
      "execution_count": 44,
      "id": "1b30cc7c",
      "metadata": {},
      "outputs": [],
      "source": [
        "grouped = grouped.sort_values([\"itemid\", \"Month\"])"
      ]
    },
    {
      "cell_type": "code",
      "execution_count": 57,
      "id": "be02f504",
      "metadata": {},
      "outputs": [
        {
          "data": {
            "application/vnd.plotly.v1+json": {
              "config": {
                "plotlyServerURL": "https://plot.ly"
              },
              "data": [
                {
                  "marker": {
                    "color": "#282929"
                  },
                  "name": "June",
                  "text": {
                    "bdata": "AAAAAADAjkAAAAAAAAB4QA==",
                    "dtype": "f8"
                  },
                  "textfont": {
                    "color": "white"
                  },
                  "textposition": "inside",
                  "type": "bar",
                  "x": [
                    "5411 (June)",
                    "370653 (June)"
                  ],
                  "y": {
                    "bdata": "2AOAAQ==",
                    "dtype": "i2"
                  }
                },
                {
                  "marker": {
                    "color": "#757575"
                  },
                  "name": "July",
                  "text": {
                    "bdata": "AAAAAACYgUAAAAAAAGBwQA==",
                    "dtype": "f8"
                  },
                  "textfont": {
                    "color": "black"
                  },
                  "textposition": "inside",
                  "type": "bar",
                  "x": [
                    "5411 (July)",
                    "370653 (July)"
                  ],
                  "y": {
                    "bdata": "MwIGAQ==",
                    "dtype": "i2"
                  }
                }
              ],
              "layout": {
                "barmode": "group",
                "height": 500,
                "template": {
                  "data": {
                    "bar": [
                      {
                        "error_x": {
                          "color": "#2a3f5f"
                        },
                        "error_y": {
                          "color": "#2a3f5f"
                        },
                        "marker": {
                          "line": {
                            "color": "#E5ECF6",
                            "width": 0.5
                          },
                          "pattern": {
                            "fillmode": "overlay",
                            "size": 10,
                            "solidity": 0.2
                          }
                        },
                        "type": "bar"
                      }
                    ],
                    "barpolar": [
                      {
                        "marker": {
                          "line": {
                            "color": "#E5ECF6",
                            "width": 0.5
                          },
                          "pattern": {
                            "fillmode": "overlay",
                            "size": 10,
                            "solidity": 0.2
                          }
                        },
                        "type": "barpolar"
                      }
                    ],
                    "carpet": [
                      {
                        "aaxis": {
                          "endlinecolor": "#2a3f5f",
                          "gridcolor": "white",
                          "linecolor": "white",
                          "minorgridcolor": "white",
                          "startlinecolor": "#2a3f5f"
                        },
                        "baxis": {
                          "endlinecolor": "#2a3f5f",
                          "gridcolor": "white",
                          "linecolor": "white",
                          "minorgridcolor": "white",
                          "startlinecolor": "#2a3f5f"
                        },
                        "type": "carpet"
                      }
                    ],
                    "choropleth": [
                      {
                        "colorbar": {
                          "outlinewidth": 0,
                          "ticks": ""
                        },
                        "type": "choropleth"
                      }
                    ],
                    "contour": [
                      {
                        "colorbar": {
                          "outlinewidth": 0,
                          "ticks": ""
                        },
                        "colorscale": [
                          [
                            0,
                            "#0d0887"
                          ],
                          [
                            0.1111111111111111,
                            "#46039f"
                          ],
                          [
                            0.2222222222222222,
                            "#7201a8"
                          ],
                          [
                            0.3333333333333333,
                            "#9c179e"
                          ],
                          [
                            0.4444444444444444,
                            "#bd3786"
                          ],
                          [
                            0.5555555555555556,
                            "#d8576b"
                          ],
                          [
                            0.6666666666666666,
                            "#ed7953"
                          ],
                          [
                            0.7777777777777778,
                            "#fb9f3a"
                          ],
                          [
                            0.8888888888888888,
                            "#fdca26"
                          ],
                          [
                            1,
                            "#f0f921"
                          ]
                        ],
                        "type": "contour"
                      }
                    ],
                    "contourcarpet": [
                      {
                        "colorbar": {
                          "outlinewidth": 0,
                          "ticks": ""
                        },
                        "type": "contourcarpet"
                      }
                    ],
                    "heatmap": [
                      {
                        "colorbar": {
                          "outlinewidth": 0,
                          "ticks": ""
                        },
                        "colorscale": [
                          [
                            0,
                            "#0d0887"
                          ],
                          [
                            0.1111111111111111,
                            "#46039f"
                          ],
                          [
                            0.2222222222222222,
                            "#7201a8"
                          ],
                          [
                            0.3333333333333333,
                            "#9c179e"
                          ],
                          [
                            0.4444444444444444,
                            "#bd3786"
                          ],
                          [
                            0.5555555555555556,
                            "#d8576b"
                          ],
                          [
                            0.6666666666666666,
                            "#ed7953"
                          ],
                          [
                            0.7777777777777778,
                            "#fb9f3a"
                          ],
                          [
                            0.8888888888888888,
                            "#fdca26"
                          ],
                          [
                            1,
                            "#f0f921"
                          ]
                        ],
                        "type": "heatmap"
                      }
                    ],
                    "histogram": [
                      {
                        "marker": {
                          "pattern": {
                            "fillmode": "overlay",
                            "size": 10,
                            "solidity": 0.2
                          }
                        },
                        "type": "histogram"
                      }
                    ],
                    "histogram2d": [
                      {
                        "colorbar": {
                          "outlinewidth": 0,
                          "ticks": ""
                        },
                        "colorscale": [
                          [
                            0,
                            "#0d0887"
                          ],
                          [
                            0.1111111111111111,
                            "#46039f"
                          ],
                          [
                            0.2222222222222222,
                            "#7201a8"
                          ],
                          [
                            0.3333333333333333,
                            "#9c179e"
                          ],
                          [
                            0.4444444444444444,
                            "#bd3786"
                          ],
                          [
                            0.5555555555555556,
                            "#d8576b"
                          ],
                          [
                            0.6666666666666666,
                            "#ed7953"
                          ],
                          [
                            0.7777777777777778,
                            "#fb9f3a"
                          ],
                          [
                            0.8888888888888888,
                            "#fdca26"
                          ],
                          [
                            1,
                            "#f0f921"
                          ]
                        ],
                        "type": "histogram2d"
                      }
                    ],
                    "histogram2dcontour": [
                      {
                        "colorbar": {
                          "outlinewidth": 0,
                          "ticks": ""
                        },
                        "colorscale": [
                          [
                            0,
                            "#0d0887"
                          ],
                          [
                            0.1111111111111111,
                            "#46039f"
                          ],
                          [
                            0.2222222222222222,
                            "#7201a8"
                          ],
                          [
                            0.3333333333333333,
                            "#9c179e"
                          ],
                          [
                            0.4444444444444444,
                            "#bd3786"
                          ],
                          [
                            0.5555555555555556,
                            "#d8576b"
                          ],
                          [
                            0.6666666666666666,
                            "#ed7953"
                          ],
                          [
                            0.7777777777777778,
                            "#fb9f3a"
                          ],
                          [
                            0.8888888888888888,
                            "#fdca26"
                          ],
                          [
                            1,
                            "#f0f921"
                          ]
                        ],
                        "type": "histogram2dcontour"
                      }
                    ],
                    "mesh3d": [
                      {
                        "colorbar": {
                          "outlinewidth": 0,
                          "ticks": ""
                        },
                        "type": "mesh3d"
                      }
                    ],
                    "parcoords": [
                      {
                        "line": {
                          "colorbar": {
                            "outlinewidth": 0,
                            "ticks": ""
                          }
                        },
                        "type": "parcoords"
                      }
                    ],
                    "pie": [
                      {
                        "automargin": true,
                        "type": "pie"
                      }
                    ],
                    "scatter": [
                      {
                        "fillpattern": {
                          "fillmode": "overlay",
                          "size": 10,
                          "solidity": 0.2
                        },
                        "type": "scatter"
                      }
                    ],
                    "scatter3d": [
                      {
                        "line": {
                          "colorbar": {
                            "outlinewidth": 0,
                            "ticks": ""
                          }
                        },
                        "marker": {
                          "colorbar": {
                            "outlinewidth": 0,
                            "ticks": ""
                          }
                        },
                        "type": "scatter3d"
                      }
                    ],
                    "scattercarpet": [
                      {
                        "marker": {
                          "colorbar": {
                            "outlinewidth": 0,
                            "ticks": ""
                          }
                        },
                        "type": "scattercarpet"
                      }
                    ],
                    "scattergeo": [
                      {
                        "marker": {
                          "colorbar": {
                            "outlinewidth": 0,
                            "ticks": ""
                          }
                        },
                        "type": "scattergeo"
                      }
                    ],
                    "scattergl": [
                      {
                        "marker": {
                          "colorbar": {
                            "outlinewidth": 0,
                            "ticks": ""
                          }
                        },
                        "type": "scattergl"
                      }
                    ],
                    "scattermap": [
                      {
                        "marker": {
                          "colorbar": {
                            "outlinewidth": 0,
                            "ticks": ""
                          }
                        },
                        "type": "scattermap"
                      }
                    ],
                    "scattermapbox": [
                      {
                        "marker": {
                          "colorbar": {
                            "outlinewidth": 0,
                            "ticks": ""
                          }
                        },
                        "type": "scattermapbox"
                      }
                    ],
                    "scatterpolar": [
                      {
                        "marker": {
                          "colorbar": {
                            "outlinewidth": 0,
                            "ticks": ""
                          }
                        },
                        "type": "scatterpolar"
                      }
                    ],
                    "scatterpolargl": [
                      {
                        "marker": {
                          "colorbar": {
                            "outlinewidth": 0,
                            "ticks": ""
                          }
                        },
                        "type": "scatterpolargl"
                      }
                    ],
                    "scatterternary": [
                      {
                        "marker": {
                          "colorbar": {
                            "outlinewidth": 0,
                            "ticks": ""
                          }
                        },
                        "type": "scatterternary"
                      }
                    ],
                    "surface": [
                      {
                        "colorbar": {
                          "outlinewidth": 0,
                          "ticks": ""
                        },
                        "colorscale": [
                          [
                            0,
                            "#0d0887"
                          ],
                          [
                            0.1111111111111111,
                            "#46039f"
                          ],
                          [
                            0.2222222222222222,
                            "#7201a8"
                          ],
                          [
                            0.3333333333333333,
                            "#9c179e"
                          ],
                          [
                            0.4444444444444444,
                            "#bd3786"
                          ],
                          [
                            0.5555555555555556,
                            "#d8576b"
                          ],
                          [
                            0.6666666666666666,
                            "#ed7953"
                          ],
                          [
                            0.7777777777777778,
                            "#fb9f3a"
                          ],
                          [
                            0.8888888888888888,
                            "#fdca26"
                          ],
                          [
                            1,
                            "#f0f921"
                          ]
                        ],
                        "type": "surface"
                      }
                    ],
                    "table": [
                      {
                        "cells": {
                          "fill": {
                            "color": "#EBF0F8"
                          },
                          "line": {
                            "color": "white"
                          }
                        },
                        "header": {
                          "fill": {
                            "color": "#C8D4E3"
                          },
                          "line": {
                            "color": "white"
                          }
                        },
                        "type": "table"
                      }
                    ]
                  },
                  "layout": {
                    "annotationdefaults": {
                      "arrowcolor": "#2a3f5f",
                      "arrowhead": 0,
                      "arrowwidth": 1
                    },
                    "autotypenumbers": "strict",
                    "coloraxis": {
                      "colorbar": {
                        "outlinewidth": 0,
                        "ticks": ""
                      }
                    },
                    "colorscale": {
                      "diverging": [
                        [
                          0,
                          "#8e0152"
                        ],
                        [
                          0.1,
                          "#c51b7d"
                        ],
                        [
                          0.2,
                          "#de77ae"
                        ],
                        [
                          0.3,
                          "#f1b6da"
                        ],
                        [
                          0.4,
                          "#fde0ef"
                        ],
                        [
                          0.5,
                          "#f7f7f7"
                        ],
                        [
                          0.6,
                          "#e6f5d0"
                        ],
                        [
                          0.7,
                          "#b8e186"
                        ],
                        [
                          0.8,
                          "#7fbc41"
                        ],
                        [
                          0.9,
                          "#4d9221"
                        ],
                        [
                          1,
                          "#276419"
                        ]
                      ],
                      "sequential": [
                        [
                          0,
                          "#0d0887"
                        ],
                        [
                          0.1111111111111111,
                          "#46039f"
                        ],
                        [
                          0.2222222222222222,
                          "#7201a8"
                        ],
                        [
                          0.3333333333333333,
                          "#9c179e"
                        ],
                        [
                          0.4444444444444444,
                          "#bd3786"
                        ],
                        [
                          0.5555555555555556,
                          "#d8576b"
                        ],
                        [
                          0.6666666666666666,
                          "#ed7953"
                        ],
                        [
                          0.7777777777777778,
                          "#fb9f3a"
                        ],
                        [
                          0.8888888888888888,
                          "#fdca26"
                        ],
                        [
                          1,
                          "#f0f921"
                        ]
                      ],
                      "sequentialminus": [
                        [
                          0,
                          "#0d0887"
                        ],
                        [
                          0.1111111111111111,
                          "#46039f"
                        ],
                        [
                          0.2222222222222222,
                          "#7201a8"
                        ],
                        [
                          0.3333333333333333,
                          "#9c179e"
                        ],
                        [
                          0.4444444444444444,
                          "#bd3786"
                        ],
                        [
                          0.5555555555555556,
                          "#d8576b"
                        ],
                        [
                          0.6666666666666666,
                          "#ed7953"
                        ],
                        [
                          0.7777777777777778,
                          "#fb9f3a"
                        ],
                        [
                          0.8888888888888888,
                          "#fdca26"
                        ],
                        [
                          1,
                          "#f0f921"
                        ]
                      ]
                    },
                    "colorway": [
                      "#636efa",
                      "#EF553B",
                      "#00cc96",
                      "#ab63fa",
                      "#FFA15A",
                      "#19d3f3",
                      "#FF6692",
                      "#B6E880",
                      "#FF97FF",
                      "#FECB52"
                    ],
                    "font": {
                      "color": "#2a3f5f"
                    },
                    "geo": {
                      "bgcolor": "white",
                      "lakecolor": "white",
                      "landcolor": "#E5ECF6",
                      "showlakes": true,
                      "showland": true,
                      "subunitcolor": "white"
                    },
                    "hoverlabel": {
                      "align": "left"
                    },
                    "hovermode": "closest",
                    "mapbox": {
                      "style": "light"
                    },
                    "paper_bgcolor": "white",
                    "plot_bgcolor": "#E5ECF6",
                    "polar": {
                      "angularaxis": {
                        "gridcolor": "white",
                        "linecolor": "white",
                        "ticks": ""
                      },
                      "bgcolor": "#E5ECF6",
                      "radialaxis": {
                        "gridcolor": "white",
                        "linecolor": "white",
                        "ticks": ""
                      }
                    },
                    "scene": {
                      "xaxis": {
                        "backgroundcolor": "#E5ECF6",
                        "gridcolor": "white",
                        "gridwidth": 2,
                        "linecolor": "white",
                        "showbackground": true,
                        "ticks": "",
                        "zerolinecolor": "white"
                      },
                      "yaxis": {
                        "backgroundcolor": "#E5ECF6",
                        "gridcolor": "white",
                        "gridwidth": 2,
                        "linecolor": "white",
                        "showbackground": true,
                        "ticks": "",
                        "zerolinecolor": "white"
                      },
                      "zaxis": {
                        "backgroundcolor": "#E5ECF6",
                        "gridcolor": "white",
                        "gridwidth": 2,
                        "linecolor": "white",
                        "showbackground": true,
                        "ticks": "",
                        "zerolinecolor": "white"
                      }
                    },
                    "shapedefaults": {
                      "line": {
                        "color": "#2a3f5f"
                      }
                    },
                    "ternary": {
                      "aaxis": {
                        "gridcolor": "white",
                        "linecolor": "white",
                        "ticks": ""
                      },
                      "baxis": {
                        "gridcolor": "white",
                        "linecolor": "white",
                        "ticks": ""
                      },
                      "bgcolor": "#E5ECF6",
                      "caxis": {
                        "gridcolor": "white",
                        "linecolor": "white",
                        "ticks": ""
                      }
                    },
                    "title": {
                      "x": 0.05
                    },
                    "xaxis": {
                      "automargin": true,
                      "gridcolor": "white",
                      "linecolor": "white",
                      "ticks": "",
                      "title": {
                        "standoff": 15
                      },
                      "zerolinecolor": "white",
                      "zerolinewidth": 2
                    },
                    "yaxis": {
                      "automargin": true,
                      "gridcolor": "white",
                      "linecolor": "white",
                      "ticks": "",
                      "title": {
                        "standoff": 15
                      },
                      "zerolinecolor": "white",
                      "zerolinewidth": 2
                    }
                  }
                },
                "title": {
                  "text": "Top 2 Items by Month (July & August)"
                },
                "width": 700,
                "xaxis": {
                  "title": {
                    "text": "Item ID (Month)"
                  }
                },
                "yaxis": {
                  "showticklabels": false,
                  "title": {
                    "text": "Interaction Count"
                  }
                }
              }
            }
          },
          "metadata": {},
          "output_type": "display_data"
        }
      ],
      "source": [
        "colors = {\"June\": \"#282929\", \"July\": \"#757575\"}\n",
        "\n",
        "# Create Figure\n",
        "fig = go.Figure()\n",
        "\n",
        "for month in [\"June\", \"July\"]:\n",
        "    month_data = grouped[grouped[\"Month\"] == month]\n",
        "    fig.add_trace(go.Bar(\n",
        "        x = month_data[\"itemid\"].astype(str) + \" (\" + month + \")\",\n",
        "        y = month_data[\"Count\"],\n",
        "        name = month,\n",
        "        marker_color = colors[month],\n",
        "        text = month_data[\"Count\"],\n",
        "        textposition = \"inside\",\n",
        "        textfont = dict(color = \"white\" if month == \"June\" else \"black\")\n",
        "    ))\n",
        "\n",
        "fig.update_layout(\n",
        "    barmode = \"group\",\n",
        "    title = \"Top 2 Items by Month (July & August)\",\n",
        "    xaxis_title = \"Item ID (Month)\",\n",
        "    yaxis_title = \"Interaction Count\",\n",
        "     yaxis = dict(\n",
        "        showticklabels = False\n",
        "    ),\n",
        "    width = 700,\n",
        "    height = 500\n",
        ")\n",
        "\n",
        "fig.show()"
      ]
    },
    {
      "cell_type": "markdown",
      "id": "bCQR9IjtHKvv",
      "metadata": {
        "id": "bCQR9IjtHKvv"
      },
      "source": [
        "Q6\n",
        "- least Interacted items"
      ]
    },
    {
      "cell_type": "code",
      "execution_count": 4,
      "id": "94329106",
      "metadata": {},
      "outputs": [],
      "source": [
        "least_items = events_cleaned[\"itemid\"].value_counts().tail(3).reset_index()\n",
        "least_items.columns = [\"itemid\", \"event\"]"
      ]
    },
    {
      "cell_type": "code",
      "execution_count": 5,
      "id": "e305e8e0",
      "metadata": {},
      "outputs": [],
      "source": [
        "least_items[\"itemid_str\"] = least_items[\"itemid\"].astype(str)"
      ]
    },
    {
      "cell_type": "code",
      "execution_count": 8,
      "id": "4c4b75ec",
      "metadata": {},
      "outputs": [
        {
          "data": {
            "application/vnd.plotly.v1+json": {
              "config": {
                "plotlyServerURL": "https://plot.ly"
              },
              "data": [
                {
                  "hovertemplate": "itemid_str=%{x}<br>event=%{text}<extra></extra>",
                  "legendgroup": "197000",
                  "marker": {
                    "color": "#FEC5F6",
                    "pattern": {
                      "shape": ""
                    }
                  },
                  "name": "197000",
                  "orientation": "v",
                  "showlegend": true,
                  "text": {
                    "bdata": "AAAAAAAA8D8=",
                    "dtype": "f8"
                  },
                  "textposition": "auto",
                  "type": "bar",
                  "x": [
                    "197000"
                  ],
                  "xaxis": "x",
                  "y": {
                    "bdata": "AQ==",
                    "dtype": "i1"
                  },
                  "yaxis": "y"
                },
                {
                  "hovertemplate": "itemid_str=%{x}<br>event=%{text}<extra></extra>",
                  "legendgroup": "213183",
                  "marker": {
                    "color": "#DB8DD0",
                    "pattern": {
                      "shape": ""
                    }
                  },
                  "name": "213183",
                  "orientation": "v",
                  "showlegend": true,
                  "text": {
                    "bdata": "AAAAAAAA8D8=",
                    "dtype": "f8"
                  },
                  "textposition": "auto",
                  "type": "bar",
                  "x": [
                    "213183"
                  ],
                  "xaxis": "x",
                  "y": {
                    "bdata": "AQ==",
                    "dtype": "i1"
                  },
                  "yaxis": "y"
                },
                {
                  "hovertemplate": "itemid_str=%{x}<br>event=%{text}<extra></extra>",
                  "legendgroup": "22591",
                  "marker": {
                    "color": "#C562AF",
                    "pattern": {
                      "shape": ""
                    }
                  },
                  "name": "22591",
                  "orientation": "v",
                  "showlegend": true,
                  "text": {
                    "bdata": "AAAAAAAA8D8=",
                    "dtype": "f8"
                  },
                  "textposition": "auto",
                  "type": "bar",
                  "x": [
                    "22591"
                  ],
                  "xaxis": "x",
                  "y": {
                    "bdata": "AQ==",
                    "dtype": "i1"
                  },
                  "yaxis": "y"
                }
              ],
              "layout": {
                "barmode": "relative",
                "height": 500,
                "legend": {
                  "title": {
                    "text": "Item Id"
                  },
                  "tracegroupgap": 0
                },
                "template": {
                  "data": {
                    "bar": [
                      {
                        "error_x": {
                          "color": "#2a3f5f"
                        },
                        "error_y": {
                          "color": "#2a3f5f"
                        },
                        "marker": {
                          "line": {
                            "color": "#E5ECF6",
                            "width": 0.5
                          },
                          "pattern": {
                            "fillmode": "overlay",
                            "size": 10,
                            "solidity": 0.2
                          }
                        },
                        "type": "bar"
                      }
                    ],
                    "barpolar": [
                      {
                        "marker": {
                          "line": {
                            "color": "#E5ECF6",
                            "width": 0.5
                          },
                          "pattern": {
                            "fillmode": "overlay",
                            "size": 10,
                            "solidity": 0.2
                          }
                        },
                        "type": "barpolar"
                      }
                    ],
                    "carpet": [
                      {
                        "aaxis": {
                          "endlinecolor": "#2a3f5f",
                          "gridcolor": "white",
                          "linecolor": "white",
                          "minorgridcolor": "white",
                          "startlinecolor": "#2a3f5f"
                        },
                        "baxis": {
                          "endlinecolor": "#2a3f5f",
                          "gridcolor": "white",
                          "linecolor": "white",
                          "minorgridcolor": "white",
                          "startlinecolor": "#2a3f5f"
                        },
                        "type": "carpet"
                      }
                    ],
                    "choropleth": [
                      {
                        "colorbar": {
                          "outlinewidth": 0,
                          "ticks": ""
                        },
                        "type": "choropleth"
                      }
                    ],
                    "contour": [
                      {
                        "colorbar": {
                          "outlinewidth": 0,
                          "ticks": ""
                        },
                        "colorscale": [
                          [
                            0,
                            "#0d0887"
                          ],
                          [
                            0.1111111111111111,
                            "#46039f"
                          ],
                          [
                            0.2222222222222222,
                            "#7201a8"
                          ],
                          [
                            0.3333333333333333,
                            "#9c179e"
                          ],
                          [
                            0.4444444444444444,
                            "#bd3786"
                          ],
                          [
                            0.5555555555555556,
                            "#d8576b"
                          ],
                          [
                            0.6666666666666666,
                            "#ed7953"
                          ],
                          [
                            0.7777777777777778,
                            "#fb9f3a"
                          ],
                          [
                            0.8888888888888888,
                            "#fdca26"
                          ],
                          [
                            1,
                            "#f0f921"
                          ]
                        ],
                        "type": "contour"
                      }
                    ],
                    "contourcarpet": [
                      {
                        "colorbar": {
                          "outlinewidth": 0,
                          "ticks": ""
                        },
                        "type": "contourcarpet"
                      }
                    ],
                    "heatmap": [
                      {
                        "colorbar": {
                          "outlinewidth": 0,
                          "ticks": ""
                        },
                        "colorscale": [
                          [
                            0,
                            "#0d0887"
                          ],
                          [
                            0.1111111111111111,
                            "#46039f"
                          ],
                          [
                            0.2222222222222222,
                            "#7201a8"
                          ],
                          [
                            0.3333333333333333,
                            "#9c179e"
                          ],
                          [
                            0.4444444444444444,
                            "#bd3786"
                          ],
                          [
                            0.5555555555555556,
                            "#d8576b"
                          ],
                          [
                            0.6666666666666666,
                            "#ed7953"
                          ],
                          [
                            0.7777777777777778,
                            "#fb9f3a"
                          ],
                          [
                            0.8888888888888888,
                            "#fdca26"
                          ],
                          [
                            1,
                            "#f0f921"
                          ]
                        ],
                        "type": "heatmap"
                      }
                    ],
                    "histogram": [
                      {
                        "marker": {
                          "pattern": {
                            "fillmode": "overlay",
                            "size": 10,
                            "solidity": 0.2
                          }
                        },
                        "type": "histogram"
                      }
                    ],
                    "histogram2d": [
                      {
                        "colorbar": {
                          "outlinewidth": 0,
                          "ticks": ""
                        },
                        "colorscale": [
                          [
                            0,
                            "#0d0887"
                          ],
                          [
                            0.1111111111111111,
                            "#46039f"
                          ],
                          [
                            0.2222222222222222,
                            "#7201a8"
                          ],
                          [
                            0.3333333333333333,
                            "#9c179e"
                          ],
                          [
                            0.4444444444444444,
                            "#bd3786"
                          ],
                          [
                            0.5555555555555556,
                            "#d8576b"
                          ],
                          [
                            0.6666666666666666,
                            "#ed7953"
                          ],
                          [
                            0.7777777777777778,
                            "#fb9f3a"
                          ],
                          [
                            0.8888888888888888,
                            "#fdca26"
                          ],
                          [
                            1,
                            "#f0f921"
                          ]
                        ],
                        "type": "histogram2d"
                      }
                    ],
                    "histogram2dcontour": [
                      {
                        "colorbar": {
                          "outlinewidth": 0,
                          "ticks": ""
                        },
                        "colorscale": [
                          [
                            0,
                            "#0d0887"
                          ],
                          [
                            0.1111111111111111,
                            "#46039f"
                          ],
                          [
                            0.2222222222222222,
                            "#7201a8"
                          ],
                          [
                            0.3333333333333333,
                            "#9c179e"
                          ],
                          [
                            0.4444444444444444,
                            "#bd3786"
                          ],
                          [
                            0.5555555555555556,
                            "#d8576b"
                          ],
                          [
                            0.6666666666666666,
                            "#ed7953"
                          ],
                          [
                            0.7777777777777778,
                            "#fb9f3a"
                          ],
                          [
                            0.8888888888888888,
                            "#fdca26"
                          ],
                          [
                            1,
                            "#f0f921"
                          ]
                        ],
                        "type": "histogram2dcontour"
                      }
                    ],
                    "mesh3d": [
                      {
                        "colorbar": {
                          "outlinewidth": 0,
                          "ticks": ""
                        },
                        "type": "mesh3d"
                      }
                    ],
                    "parcoords": [
                      {
                        "line": {
                          "colorbar": {
                            "outlinewidth": 0,
                            "ticks": ""
                          }
                        },
                        "type": "parcoords"
                      }
                    ],
                    "pie": [
                      {
                        "automargin": true,
                        "type": "pie"
                      }
                    ],
                    "scatter": [
                      {
                        "fillpattern": {
                          "fillmode": "overlay",
                          "size": 10,
                          "solidity": 0.2
                        },
                        "type": "scatter"
                      }
                    ],
                    "scatter3d": [
                      {
                        "line": {
                          "colorbar": {
                            "outlinewidth": 0,
                            "ticks": ""
                          }
                        },
                        "marker": {
                          "colorbar": {
                            "outlinewidth": 0,
                            "ticks": ""
                          }
                        },
                        "type": "scatter3d"
                      }
                    ],
                    "scattercarpet": [
                      {
                        "marker": {
                          "colorbar": {
                            "outlinewidth": 0,
                            "ticks": ""
                          }
                        },
                        "type": "scattercarpet"
                      }
                    ],
                    "scattergeo": [
                      {
                        "marker": {
                          "colorbar": {
                            "outlinewidth": 0,
                            "ticks": ""
                          }
                        },
                        "type": "scattergeo"
                      }
                    ],
                    "scattergl": [
                      {
                        "marker": {
                          "colorbar": {
                            "outlinewidth": 0,
                            "ticks": ""
                          }
                        },
                        "type": "scattergl"
                      }
                    ],
                    "scattermap": [
                      {
                        "marker": {
                          "colorbar": {
                            "outlinewidth": 0,
                            "ticks": ""
                          }
                        },
                        "type": "scattermap"
                      }
                    ],
                    "scattermapbox": [
                      {
                        "marker": {
                          "colorbar": {
                            "outlinewidth": 0,
                            "ticks": ""
                          }
                        },
                        "type": "scattermapbox"
                      }
                    ],
                    "scatterpolar": [
                      {
                        "marker": {
                          "colorbar": {
                            "outlinewidth": 0,
                            "ticks": ""
                          }
                        },
                        "type": "scatterpolar"
                      }
                    ],
                    "scatterpolargl": [
                      {
                        "marker": {
                          "colorbar": {
                            "outlinewidth": 0,
                            "ticks": ""
                          }
                        },
                        "type": "scatterpolargl"
                      }
                    ],
                    "scatterternary": [
                      {
                        "marker": {
                          "colorbar": {
                            "outlinewidth": 0,
                            "ticks": ""
                          }
                        },
                        "type": "scatterternary"
                      }
                    ],
                    "surface": [
                      {
                        "colorbar": {
                          "outlinewidth": 0,
                          "ticks": ""
                        },
                        "colorscale": [
                          [
                            0,
                            "#0d0887"
                          ],
                          [
                            0.1111111111111111,
                            "#46039f"
                          ],
                          [
                            0.2222222222222222,
                            "#7201a8"
                          ],
                          [
                            0.3333333333333333,
                            "#9c179e"
                          ],
                          [
                            0.4444444444444444,
                            "#bd3786"
                          ],
                          [
                            0.5555555555555556,
                            "#d8576b"
                          ],
                          [
                            0.6666666666666666,
                            "#ed7953"
                          ],
                          [
                            0.7777777777777778,
                            "#fb9f3a"
                          ],
                          [
                            0.8888888888888888,
                            "#fdca26"
                          ],
                          [
                            1,
                            "#f0f921"
                          ]
                        ],
                        "type": "surface"
                      }
                    ],
                    "table": [
                      {
                        "cells": {
                          "fill": {
                            "color": "#EBF0F8"
                          },
                          "line": {
                            "color": "white"
                          }
                        },
                        "header": {
                          "fill": {
                            "color": "#C8D4E3"
                          },
                          "line": {
                            "color": "white"
                          }
                        },
                        "type": "table"
                      }
                    ]
                  },
                  "layout": {
                    "annotationdefaults": {
                      "arrowcolor": "#2a3f5f",
                      "arrowhead": 0,
                      "arrowwidth": 1
                    },
                    "autotypenumbers": "strict",
                    "coloraxis": {
                      "colorbar": {
                        "outlinewidth": 0,
                        "ticks": ""
                      }
                    },
                    "colorscale": {
                      "diverging": [
                        [
                          0,
                          "#8e0152"
                        ],
                        [
                          0.1,
                          "#c51b7d"
                        ],
                        [
                          0.2,
                          "#de77ae"
                        ],
                        [
                          0.3,
                          "#f1b6da"
                        ],
                        [
                          0.4,
                          "#fde0ef"
                        ],
                        [
                          0.5,
                          "#f7f7f7"
                        ],
                        [
                          0.6,
                          "#e6f5d0"
                        ],
                        [
                          0.7,
                          "#b8e186"
                        ],
                        [
                          0.8,
                          "#7fbc41"
                        ],
                        [
                          0.9,
                          "#4d9221"
                        ],
                        [
                          1,
                          "#276419"
                        ]
                      ],
                      "sequential": [
                        [
                          0,
                          "#0d0887"
                        ],
                        [
                          0.1111111111111111,
                          "#46039f"
                        ],
                        [
                          0.2222222222222222,
                          "#7201a8"
                        ],
                        [
                          0.3333333333333333,
                          "#9c179e"
                        ],
                        [
                          0.4444444444444444,
                          "#bd3786"
                        ],
                        [
                          0.5555555555555556,
                          "#d8576b"
                        ],
                        [
                          0.6666666666666666,
                          "#ed7953"
                        ],
                        [
                          0.7777777777777778,
                          "#fb9f3a"
                        ],
                        [
                          0.8888888888888888,
                          "#fdca26"
                        ],
                        [
                          1,
                          "#f0f921"
                        ]
                      ],
                      "sequentialminus": [
                        [
                          0,
                          "#0d0887"
                        ],
                        [
                          0.1111111111111111,
                          "#46039f"
                        ],
                        [
                          0.2222222222222222,
                          "#7201a8"
                        ],
                        [
                          0.3333333333333333,
                          "#9c179e"
                        ],
                        [
                          0.4444444444444444,
                          "#bd3786"
                        ],
                        [
                          0.5555555555555556,
                          "#d8576b"
                        ],
                        [
                          0.6666666666666666,
                          "#ed7953"
                        ],
                        [
                          0.7777777777777778,
                          "#fb9f3a"
                        ],
                        [
                          0.8888888888888888,
                          "#fdca26"
                        ],
                        [
                          1,
                          "#f0f921"
                        ]
                      ]
                    },
                    "colorway": [
                      "#636efa",
                      "#EF553B",
                      "#00cc96",
                      "#ab63fa",
                      "#FFA15A",
                      "#19d3f3",
                      "#FF6692",
                      "#B6E880",
                      "#FF97FF",
                      "#FECB52"
                    ],
                    "font": {
                      "color": "#2a3f5f"
                    },
                    "geo": {
                      "bgcolor": "white",
                      "lakecolor": "white",
                      "landcolor": "#E5ECF6",
                      "showlakes": true,
                      "showland": true,
                      "subunitcolor": "white"
                    },
                    "hoverlabel": {
                      "align": "left"
                    },
                    "hovermode": "closest",
                    "mapbox": {
                      "style": "light"
                    },
                    "paper_bgcolor": "white",
                    "plot_bgcolor": "#E5ECF6",
                    "polar": {
                      "angularaxis": {
                        "gridcolor": "white",
                        "linecolor": "white",
                        "ticks": ""
                      },
                      "bgcolor": "#E5ECF6",
                      "radialaxis": {
                        "gridcolor": "white",
                        "linecolor": "white",
                        "ticks": ""
                      }
                    },
                    "scene": {
                      "xaxis": {
                        "backgroundcolor": "#E5ECF6",
                        "gridcolor": "white",
                        "gridwidth": 2,
                        "linecolor": "white",
                        "showbackground": true,
                        "ticks": "",
                        "zerolinecolor": "white"
                      },
                      "yaxis": {
                        "backgroundcolor": "#E5ECF6",
                        "gridcolor": "white",
                        "gridwidth": 2,
                        "linecolor": "white",
                        "showbackground": true,
                        "ticks": "",
                        "zerolinecolor": "white"
                      },
                      "zaxis": {
                        "backgroundcolor": "#E5ECF6",
                        "gridcolor": "white",
                        "gridwidth": 2,
                        "linecolor": "white",
                        "showbackground": true,
                        "ticks": "",
                        "zerolinecolor": "white"
                      }
                    },
                    "shapedefaults": {
                      "line": {
                        "color": "#2a3f5f"
                      }
                    },
                    "ternary": {
                      "aaxis": {
                        "gridcolor": "white",
                        "linecolor": "white",
                        "ticks": ""
                      },
                      "baxis": {
                        "gridcolor": "white",
                        "linecolor": "white",
                        "ticks": ""
                      },
                      "bgcolor": "#E5ECF6",
                      "caxis": {
                        "gridcolor": "white",
                        "linecolor": "white",
                        "ticks": ""
                      }
                    },
                    "title": {
                      "x": 0.05
                    },
                    "xaxis": {
                      "automargin": true,
                      "gridcolor": "white",
                      "linecolor": "white",
                      "ticks": "",
                      "title": {
                        "standoff": 15
                      },
                      "zerolinecolor": "white",
                      "zerolinewidth": 2
                    },
                    "yaxis": {
                      "automargin": true,
                      "gridcolor": "white",
                      "linecolor": "white",
                      "ticks": "",
                      "title": {
                        "standoff": 15
                      },
                      "zerolinecolor": "white",
                      "zerolinewidth": 2
                    }
                  }
                },
                "title": {
                  "text": "Three Least Interacted Items"
                },
                "width": 700,
                "xaxis": {
                  "anchor": "y",
                  "categoryarray": [
                    "197000",
                    "213183",
                    "22591"
                  ],
                  "categoryorder": "array",
                  "domain": [
                    0,
                    1
                  ],
                  "tickmode": "array",
                  "ticktext": [
                    "197000",
                    "213183",
                    "22591"
                  ],
                  "tickvals": [
                    "197000",
                    "213183",
                    "22591"
                  ],
                  "title": {
                    "text": "Item Id"
                  }
                },
                "yaxis": {
                  "anchor": "x",
                  "domain": [
                    0,
                    1
                  ],
                  "showticklabels": false,
                  "title": {
                    "text": "Events"
                  }
                }
              }
            }
          },
          "metadata": {},
          "output_type": "display_data"
        }
      ],
      "source": [
        "color_list = [\"#FEC5F6\", \"#DB8DD0\", \"#C562AF\"]\n",
        "\n",
        "color_map = {str(item): color for item, color in zip(least_items[\"itemid\"], color_list)}\n",
        "\n",
        "fig = px.bar(least_items, \n",
        "    x = \"itemid_str\", \n",
        "    y =\"event\",\n",
        "    title = \"Three Least Interacted Items\",\n",
        "    text = \"event\",\n",
        "    color = \"itemid_str\",\n",
        "    color_discrete_map = color_map\n",
        "    \n",
        ")\n",
        "\n",
        "fig.update_layout(\n",
        "    legend_title_text = \"Item Id\",\n",
        "    xaxis_title = \"Item Id\",\n",
        "    yaxis_title=\"Events\",\n",
        "        xaxis = dict(\n",
        "        tickmode = \"array\",\n",
        "        tickvals = least_items[\"itemid_str\"],\n",
        "        ticktext = least_items[\"itemid_str\"]\n",
        "    ),\n",
        "    yaxis = dict(\n",
        "        showticklabels = False\n",
        "    ),\n",
        "    width = 700,\n",
        "    height = 500\n",
        ")\n",
        "fig.show()"
      ]
    },
    {
      "cell_type": "markdown",
      "id": "a7fEWnD3HOlz",
      "metadata": {
        "id": "a7fEWnD3HOlz"
      },
      "source": [
        "Q7\n",
        "- Total events types."
      ]
    },
    {
      "cell_type": "code",
      "execution_count": 126,
      "id": "qpBx_zEHHkcO",
      "metadata": {
        "id": "qpBx_zEHHkcO"
      },
      "outputs": [],
      "source": [
        "event_counts = events_cleaned[\"event\"].value_counts().reset_index()\n",
        "event_counts.columns = [\"event\", \"count\"]"
      ]
    },
    {
      "cell_type": "code",
      "execution_count": 127,
      "id": "44d7f2b3",
      "metadata": {},
      "outputs": [],
      "source": [
        "event_counts[\"event\"] = event_counts[\"event\"].astype(str)"
      ]
    },
    {
      "cell_type": "code",
      "execution_count": 128,
      "id": "dBUZRBVPU2ac",
      "metadata": {
        "colab": {
          "base_uri": "https://localhost:8080/",
          "height": 542
        },
        "id": "dBUZRBVPU2ac",
        "outputId": "467460d2-6760-4f77-b56e-1c2ea36ae45c"
      },
      "outputs": [
        {
          "data": {
            "application/vnd.plotly.v1+json": {
              "config": {
                "plotlyServerURL": "https://plot.ly"
              },
              "data": [
                {
                  "customdata": [
                    [
                      "1"
                    ],
                    [
                      "3"
                    ],
                    [
                      "5"
                    ]
                  ],
                  "domain": {
                    "x": [
                      0,
                      1
                    ],
                    "y": [
                      0,
                      1
                    ]
                  },
                  "hovertemplate": "event=%{customdata[0]}<br>count=%{value}<extra></extra>",
                  "labels": [
                    "1",
                    "3",
                    "5"
                  ],
                  "legendgroup": "",
                  "marker": {
                    "colors": [
                      "#F564A9",
                      "#98A1BC",
                      "#DED3C4"
                    ]
                  },
                  "name": "",
                  "showlegend": true,
                  "type": "pie",
                  "values": {
                    "bdata": "ku0YAOE+AAApCgAA",
                    "dtype": "i4"
                  }
                }
              ],
              "layout": {
                "legend": {
                  "title": {
                    "text": "event"
                  },
                  "tracegroupgap": 0
                },
                "template": {
                  "data": {
                    "bar": [
                      {
                        "error_x": {
                          "color": "#2a3f5f"
                        },
                        "error_y": {
                          "color": "#2a3f5f"
                        },
                        "marker": {
                          "line": {
                            "color": "#E5ECF6",
                            "width": 0.5
                          },
                          "pattern": {
                            "fillmode": "overlay",
                            "size": 10,
                            "solidity": 0.2
                          }
                        },
                        "type": "bar"
                      }
                    ],
                    "barpolar": [
                      {
                        "marker": {
                          "line": {
                            "color": "#E5ECF6",
                            "width": 0.5
                          },
                          "pattern": {
                            "fillmode": "overlay",
                            "size": 10,
                            "solidity": 0.2
                          }
                        },
                        "type": "barpolar"
                      }
                    ],
                    "carpet": [
                      {
                        "aaxis": {
                          "endlinecolor": "#2a3f5f",
                          "gridcolor": "white",
                          "linecolor": "white",
                          "minorgridcolor": "white",
                          "startlinecolor": "#2a3f5f"
                        },
                        "baxis": {
                          "endlinecolor": "#2a3f5f",
                          "gridcolor": "white",
                          "linecolor": "white",
                          "minorgridcolor": "white",
                          "startlinecolor": "#2a3f5f"
                        },
                        "type": "carpet"
                      }
                    ],
                    "choropleth": [
                      {
                        "colorbar": {
                          "outlinewidth": 0,
                          "ticks": ""
                        },
                        "type": "choropleth"
                      }
                    ],
                    "contour": [
                      {
                        "colorbar": {
                          "outlinewidth": 0,
                          "ticks": ""
                        },
                        "colorscale": [
                          [
                            0,
                            "#0d0887"
                          ],
                          [
                            0.1111111111111111,
                            "#46039f"
                          ],
                          [
                            0.2222222222222222,
                            "#7201a8"
                          ],
                          [
                            0.3333333333333333,
                            "#9c179e"
                          ],
                          [
                            0.4444444444444444,
                            "#bd3786"
                          ],
                          [
                            0.5555555555555556,
                            "#d8576b"
                          ],
                          [
                            0.6666666666666666,
                            "#ed7953"
                          ],
                          [
                            0.7777777777777778,
                            "#fb9f3a"
                          ],
                          [
                            0.8888888888888888,
                            "#fdca26"
                          ],
                          [
                            1,
                            "#f0f921"
                          ]
                        ],
                        "type": "contour"
                      }
                    ],
                    "contourcarpet": [
                      {
                        "colorbar": {
                          "outlinewidth": 0,
                          "ticks": ""
                        },
                        "type": "contourcarpet"
                      }
                    ],
                    "heatmap": [
                      {
                        "colorbar": {
                          "outlinewidth": 0,
                          "ticks": ""
                        },
                        "colorscale": [
                          [
                            0,
                            "#0d0887"
                          ],
                          [
                            0.1111111111111111,
                            "#46039f"
                          ],
                          [
                            0.2222222222222222,
                            "#7201a8"
                          ],
                          [
                            0.3333333333333333,
                            "#9c179e"
                          ],
                          [
                            0.4444444444444444,
                            "#bd3786"
                          ],
                          [
                            0.5555555555555556,
                            "#d8576b"
                          ],
                          [
                            0.6666666666666666,
                            "#ed7953"
                          ],
                          [
                            0.7777777777777778,
                            "#fb9f3a"
                          ],
                          [
                            0.8888888888888888,
                            "#fdca26"
                          ],
                          [
                            1,
                            "#f0f921"
                          ]
                        ],
                        "type": "heatmap"
                      }
                    ],
                    "histogram": [
                      {
                        "marker": {
                          "pattern": {
                            "fillmode": "overlay",
                            "size": 10,
                            "solidity": 0.2
                          }
                        },
                        "type": "histogram"
                      }
                    ],
                    "histogram2d": [
                      {
                        "colorbar": {
                          "outlinewidth": 0,
                          "ticks": ""
                        },
                        "colorscale": [
                          [
                            0,
                            "#0d0887"
                          ],
                          [
                            0.1111111111111111,
                            "#46039f"
                          ],
                          [
                            0.2222222222222222,
                            "#7201a8"
                          ],
                          [
                            0.3333333333333333,
                            "#9c179e"
                          ],
                          [
                            0.4444444444444444,
                            "#bd3786"
                          ],
                          [
                            0.5555555555555556,
                            "#d8576b"
                          ],
                          [
                            0.6666666666666666,
                            "#ed7953"
                          ],
                          [
                            0.7777777777777778,
                            "#fb9f3a"
                          ],
                          [
                            0.8888888888888888,
                            "#fdca26"
                          ],
                          [
                            1,
                            "#f0f921"
                          ]
                        ],
                        "type": "histogram2d"
                      }
                    ],
                    "histogram2dcontour": [
                      {
                        "colorbar": {
                          "outlinewidth": 0,
                          "ticks": ""
                        },
                        "colorscale": [
                          [
                            0,
                            "#0d0887"
                          ],
                          [
                            0.1111111111111111,
                            "#46039f"
                          ],
                          [
                            0.2222222222222222,
                            "#7201a8"
                          ],
                          [
                            0.3333333333333333,
                            "#9c179e"
                          ],
                          [
                            0.4444444444444444,
                            "#bd3786"
                          ],
                          [
                            0.5555555555555556,
                            "#d8576b"
                          ],
                          [
                            0.6666666666666666,
                            "#ed7953"
                          ],
                          [
                            0.7777777777777778,
                            "#fb9f3a"
                          ],
                          [
                            0.8888888888888888,
                            "#fdca26"
                          ],
                          [
                            1,
                            "#f0f921"
                          ]
                        ],
                        "type": "histogram2dcontour"
                      }
                    ],
                    "mesh3d": [
                      {
                        "colorbar": {
                          "outlinewidth": 0,
                          "ticks": ""
                        },
                        "type": "mesh3d"
                      }
                    ],
                    "parcoords": [
                      {
                        "line": {
                          "colorbar": {
                            "outlinewidth": 0,
                            "ticks": ""
                          }
                        },
                        "type": "parcoords"
                      }
                    ],
                    "pie": [
                      {
                        "automargin": true,
                        "type": "pie"
                      }
                    ],
                    "scatter": [
                      {
                        "fillpattern": {
                          "fillmode": "overlay",
                          "size": 10,
                          "solidity": 0.2
                        },
                        "type": "scatter"
                      }
                    ],
                    "scatter3d": [
                      {
                        "line": {
                          "colorbar": {
                            "outlinewidth": 0,
                            "ticks": ""
                          }
                        },
                        "marker": {
                          "colorbar": {
                            "outlinewidth": 0,
                            "ticks": ""
                          }
                        },
                        "type": "scatter3d"
                      }
                    ],
                    "scattercarpet": [
                      {
                        "marker": {
                          "colorbar": {
                            "outlinewidth": 0,
                            "ticks": ""
                          }
                        },
                        "type": "scattercarpet"
                      }
                    ],
                    "scattergeo": [
                      {
                        "marker": {
                          "colorbar": {
                            "outlinewidth": 0,
                            "ticks": ""
                          }
                        },
                        "type": "scattergeo"
                      }
                    ],
                    "scattergl": [
                      {
                        "marker": {
                          "colorbar": {
                            "outlinewidth": 0,
                            "ticks": ""
                          }
                        },
                        "type": "scattergl"
                      }
                    ],
                    "scattermap": [
                      {
                        "marker": {
                          "colorbar": {
                            "outlinewidth": 0,
                            "ticks": ""
                          }
                        },
                        "type": "scattermap"
                      }
                    ],
                    "scattermapbox": [
                      {
                        "marker": {
                          "colorbar": {
                            "outlinewidth": 0,
                            "ticks": ""
                          }
                        },
                        "type": "scattermapbox"
                      }
                    ],
                    "scatterpolar": [
                      {
                        "marker": {
                          "colorbar": {
                            "outlinewidth": 0,
                            "ticks": ""
                          }
                        },
                        "type": "scatterpolar"
                      }
                    ],
                    "scatterpolargl": [
                      {
                        "marker": {
                          "colorbar": {
                            "outlinewidth": 0,
                            "ticks": ""
                          }
                        },
                        "type": "scatterpolargl"
                      }
                    ],
                    "scatterternary": [
                      {
                        "marker": {
                          "colorbar": {
                            "outlinewidth": 0,
                            "ticks": ""
                          }
                        },
                        "type": "scatterternary"
                      }
                    ],
                    "surface": [
                      {
                        "colorbar": {
                          "outlinewidth": 0,
                          "ticks": ""
                        },
                        "colorscale": [
                          [
                            0,
                            "#0d0887"
                          ],
                          [
                            0.1111111111111111,
                            "#46039f"
                          ],
                          [
                            0.2222222222222222,
                            "#7201a8"
                          ],
                          [
                            0.3333333333333333,
                            "#9c179e"
                          ],
                          [
                            0.4444444444444444,
                            "#bd3786"
                          ],
                          [
                            0.5555555555555556,
                            "#d8576b"
                          ],
                          [
                            0.6666666666666666,
                            "#ed7953"
                          ],
                          [
                            0.7777777777777778,
                            "#fb9f3a"
                          ],
                          [
                            0.8888888888888888,
                            "#fdca26"
                          ],
                          [
                            1,
                            "#f0f921"
                          ]
                        ],
                        "type": "surface"
                      }
                    ],
                    "table": [
                      {
                        "cells": {
                          "fill": {
                            "color": "#EBF0F8"
                          },
                          "line": {
                            "color": "white"
                          }
                        },
                        "header": {
                          "fill": {
                            "color": "#C8D4E3"
                          },
                          "line": {
                            "color": "white"
                          }
                        },
                        "type": "table"
                      }
                    ]
                  },
                  "layout": {
                    "annotationdefaults": {
                      "arrowcolor": "#2a3f5f",
                      "arrowhead": 0,
                      "arrowwidth": 1
                    },
                    "autotypenumbers": "strict",
                    "coloraxis": {
                      "colorbar": {
                        "outlinewidth": 0,
                        "ticks": ""
                      }
                    },
                    "colorscale": {
                      "diverging": [
                        [
                          0,
                          "#8e0152"
                        ],
                        [
                          0.1,
                          "#c51b7d"
                        ],
                        [
                          0.2,
                          "#de77ae"
                        ],
                        [
                          0.3,
                          "#f1b6da"
                        ],
                        [
                          0.4,
                          "#fde0ef"
                        ],
                        [
                          0.5,
                          "#f7f7f7"
                        ],
                        [
                          0.6,
                          "#e6f5d0"
                        ],
                        [
                          0.7,
                          "#b8e186"
                        ],
                        [
                          0.8,
                          "#7fbc41"
                        ],
                        [
                          0.9,
                          "#4d9221"
                        ],
                        [
                          1,
                          "#276419"
                        ]
                      ],
                      "sequential": [
                        [
                          0,
                          "#0d0887"
                        ],
                        [
                          0.1111111111111111,
                          "#46039f"
                        ],
                        [
                          0.2222222222222222,
                          "#7201a8"
                        ],
                        [
                          0.3333333333333333,
                          "#9c179e"
                        ],
                        [
                          0.4444444444444444,
                          "#bd3786"
                        ],
                        [
                          0.5555555555555556,
                          "#d8576b"
                        ],
                        [
                          0.6666666666666666,
                          "#ed7953"
                        ],
                        [
                          0.7777777777777778,
                          "#fb9f3a"
                        ],
                        [
                          0.8888888888888888,
                          "#fdca26"
                        ],
                        [
                          1,
                          "#f0f921"
                        ]
                      ],
                      "sequentialminus": [
                        [
                          0,
                          "#0d0887"
                        ],
                        [
                          0.1111111111111111,
                          "#46039f"
                        ],
                        [
                          0.2222222222222222,
                          "#7201a8"
                        ],
                        [
                          0.3333333333333333,
                          "#9c179e"
                        ],
                        [
                          0.4444444444444444,
                          "#bd3786"
                        ],
                        [
                          0.5555555555555556,
                          "#d8576b"
                        ],
                        [
                          0.6666666666666666,
                          "#ed7953"
                        ],
                        [
                          0.7777777777777778,
                          "#fb9f3a"
                        ],
                        [
                          0.8888888888888888,
                          "#fdca26"
                        ],
                        [
                          1,
                          "#f0f921"
                        ]
                      ]
                    },
                    "colorway": [
                      "#636efa",
                      "#EF553B",
                      "#00cc96",
                      "#ab63fa",
                      "#FFA15A",
                      "#19d3f3",
                      "#FF6692",
                      "#B6E880",
                      "#FF97FF",
                      "#FECB52"
                    ],
                    "font": {
                      "color": "#2a3f5f"
                    },
                    "geo": {
                      "bgcolor": "white",
                      "lakecolor": "white",
                      "landcolor": "#E5ECF6",
                      "showlakes": true,
                      "showland": true,
                      "subunitcolor": "white"
                    },
                    "hoverlabel": {
                      "align": "left"
                    },
                    "hovermode": "closest",
                    "mapbox": {
                      "style": "light"
                    },
                    "paper_bgcolor": "white",
                    "plot_bgcolor": "#E5ECF6",
                    "polar": {
                      "angularaxis": {
                        "gridcolor": "white",
                        "linecolor": "white",
                        "ticks": ""
                      },
                      "bgcolor": "#E5ECF6",
                      "radialaxis": {
                        "gridcolor": "white",
                        "linecolor": "white",
                        "ticks": ""
                      }
                    },
                    "scene": {
                      "xaxis": {
                        "backgroundcolor": "#E5ECF6",
                        "gridcolor": "white",
                        "gridwidth": 2,
                        "linecolor": "white",
                        "showbackground": true,
                        "ticks": "",
                        "zerolinecolor": "white"
                      },
                      "yaxis": {
                        "backgroundcolor": "#E5ECF6",
                        "gridcolor": "white",
                        "gridwidth": 2,
                        "linecolor": "white",
                        "showbackground": true,
                        "ticks": "",
                        "zerolinecolor": "white"
                      },
                      "zaxis": {
                        "backgroundcolor": "#E5ECF6",
                        "gridcolor": "white",
                        "gridwidth": 2,
                        "linecolor": "white",
                        "showbackground": true,
                        "ticks": "",
                        "zerolinecolor": "white"
                      }
                    },
                    "shapedefaults": {
                      "line": {
                        "color": "#2a3f5f"
                      }
                    },
                    "ternary": {
                      "aaxis": {
                        "gridcolor": "white",
                        "linecolor": "white",
                        "ticks": ""
                      },
                      "baxis": {
                        "gridcolor": "white",
                        "linecolor": "white",
                        "ticks": ""
                      },
                      "bgcolor": "#E5ECF6",
                      "caxis": {
                        "gridcolor": "white",
                        "linecolor": "white",
                        "ticks": ""
                      }
                    },
                    "title": {
                      "x": 0.05
                    },
                    "xaxis": {
                      "automargin": true,
                      "gridcolor": "white",
                      "linecolor": "white",
                      "ticks": "",
                      "title": {
                        "standoff": 15
                      },
                      "zerolinecolor": "white",
                      "zerolinewidth": 2
                    },
                    "yaxis": {
                      "automargin": true,
                      "gridcolor": "white",
                      "linecolor": "white",
                      "ticks": "",
                      "title": {
                        "standoff": 15
                      },
                      "zerolinecolor": "white",
                      "zerolinewidth": 2
                    }
                  }
                },
                "title": {
                  "text": "Distribution of Event Types"
                }
              }
            }
          },
          "metadata": {},
          "output_type": "display_data"
        }
      ],
      "source": [
        "color_map = {\n",
        "    \"1\": \"#F564A9\",\n",
        "    \"3\": \"#98A1BC\",\n",
        "    \"5\": \"#DED3C4\",\n",
        "}\n",
        "\n",
        "fig = px.pie(\n",
        "    event_counts, \n",
        "    names = \"event\", \n",
        "    values = \"count\",\n",
        "    title = \"Distribution of Event Types\",\n",
        "    color = \"event\",\n",
        "    color_discrete_map = color_map\n",
        ")\n",
        "\n",
        "fig.update_layout(\n",
        "    legend_title_text = \"event\",\n",
        ")\n",
        "fig.show()"
      ]
    },
    {
      "cell_type": "code",
      "execution_count": 94,
      "id": "865fd459",
      "metadata": {},
      "outputs": [
        {
          "name": "stderr",
          "output_type": "stream",
          "text": [
            "c:\\Users\\Law\\AppData\\Local\\Programs\\Python\\Python311\\Lib\\site-packages\\keras\\src\\engine\\training.py:3000: UserWarning:\n",
            "\n",
            "You are saving your model as an HDF5 file via `model.save()`. This file format is considered legacy. We recommend using instead the native Keras format, e.g. `model.save('my_model.keras')`.\n",
            "\n"
          ]
        }
      ],
      "source": [
        "model.save(\"hybrid_model.h5\")"
      ]
    }
  ],
  "metadata": {
    "colab": {
      "gpuType": "T4",
      "provenance": []
    },
    "kernelspec": {
      "display_name": ".venv-1 (3.11.9)",
      "language": "python",
      "name": "python3"
    },
    "language_info": {
      "codemirror_mode": {
        "name": "ipython",
        "version": 3
      },
      "file_extension": ".py",
      "mimetype": "text/x-python",
      "name": "python",
      "nbconvert_exporter": "python",
      "pygments_lexer": "ipython3",
      "version": "3.11.9"
    }
  },
  "nbformat": 4,
  "nbformat_minor": 5
}
