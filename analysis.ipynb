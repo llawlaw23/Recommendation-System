{
  "cells": [
    {
      "cell_type": "markdown",
      "metadata": {
        "id": "view-in-github",
        "colab_type": "text"
      },
      "source": [
        "<a href=\"https://colab.research.google.com/github/llawlaw23/Recommendation-System/blob/main/analysis.ipynb\" target=\"_parent\"><img src=\"https://colab.research.google.com/assets/colab-badge.svg\" alt=\"Open In Colab\"/></a>"
      ]
    },
    {
      "cell_type": "markdown",
      "id": "689858c3",
      "metadata": {
        "id": "689858c3"
      },
      "source": []
    },
    {
      "cell_type": "code",
      "execution_count": null,
      "id": "a87c7254",
      "metadata": {
        "id": "a87c7254"
      },
      "outputs": [],
      "source": [
        "import dask.dataframe as dd\n",
        "import os\n",
        "import gc\n",
        "import re"
      ]
    },
    {
      "cell_type": "code",
      "execution_count": null,
      "id": "b5efb880",
      "metadata": {
        "id": "b5efb880"
      },
      "outputs": [],
      "source": [
        "os.makedirs(\"cleaned\", exist_ok = True)"
      ]
    },
    {
      "cell_type": "code",
      "execution_count": null,
      "id": "d03110de",
      "metadata": {
        "id": "d03110de"
      },
      "outputs": [],
      "source": [
        "dtype_spec = {\"property\": \"object\"}"
      ]
    },
    {
      "cell_type": "code",
      "execution_count": null,
      "id": "2f7f4c9b",
      "metadata": {
        "colab": {
          "base_uri": "https://localhost:8080/",
          "height": 176
        },
        "id": "2f7f4c9b",
        "outputId": "64a0e2c4-2a17-4a41-d695-c1975cb14704"
      },
      "outputs": [
        {
          "output_type": "error",
          "ename": "NameError",
          "evalue": "name 'dtype_spec' is not defined",
          "traceback": [
            "\u001b[0;31m---------------------------------------------------------------------------\u001b[0m",
            "\u001b[0;31mNameError\u001b[0m                                 Traceback (most recent call last)",
            "\u001b[0;32m/tmp/ipython-input-3341986041.py\u001b[0m in \u001b[0;36m<cell line: 0>\u001b[0;34m()\u001b[0m\n\u001b[0;32m----> 1\u001b[0;31m \u001b[0mprops1\u001b[0m \u001b[0;34m=\u001b[0m \u001b[0mpd\u001b[0m\u001b[0;34m.\u001b[0m\u001b[0mread_csv\u001b[0m\u001b[0;34m(\u001b[0m\u001b[0;34m\"Datasets/item_properties_part1.1.csv\"\u001b[0m\u001b[0;34m,\u001b[0m \u001b[0mdtype\u001b[0m \u001b[0;34m=\u001b[0m \u001b[0mdtype_spec\u001b[0m\u001b[0;34m)\u001b[0m\u001b[0;34m\u001b[0m\u001b[0;34m\u001b[0m\u001b[0m\n\u001b[0m\u001b[1;32m      2\u001b[0m \u001b[0mprops2\u001b[0m \u001b[0;34m=\u001b[0m \u001b[0mpd\u001b[0m\u001b[0;34m.\u001b[0m\u001b[0mread_csv\u001b[0m\u001b[0;34m(\u001b[0m\u001b[0;34m\"Datasets/item_properties_part2.csv\"\u001b[0m\u001b[0;34m,\u001b[0m \u001b[0mdtype\u001b[0m \u001b[0;34m=\u001b[0m \u001b[0mdtype_spec\u001b[0m\u001b[0;34m)\u001b[0m\u001b[0;34m\u001b[0m\u001b[0;34m\u001b[0m\u001b[0m\n\u001b[1;32m      3\u001b[0m \u001b[0mprops\u001b[0m \u001b[0;34m=\u001b[0m \u001b[0mpd\u001b[0m\u001b[0;34m.\u001b[0m\u001b[0mconcat\u001b[0m\u001b[0;34m(\u001b[0m\u001b[0;34m[\u001b[0m\u001b[0mprops1\u001b[0m\u001b[0;34m,\u001b[0m \u001b[0mprops2\u001b[0m\u001b[0;34m]\u001b[0m\u001b[0;34m)\u001b[0m\u001b[0;34m\u001b[0m\u001b[0;34m\u001b[0m\u001b[0m\n",
            "\u001b[0;31mNameError\u001b[0m: name 'dtype_spec' is not defined"
          ]
        }
      ],
      "source": [
        "props1 = pd.read_csv(\"Datasets/item_properties_part1.1.csv\")\n",
        "props2 = pd.read_csv(\"Datasets/item_properties_part2.csv\")\n",
        "props = pd.concat([props1, props2])"
      ]
    },
    {
      "cell_type": "code",
      "execution_count": null,
      "id": "c31ffb70",
      "metadata": {
        "id": "c31ffb70"
      },
      "outputs": [],
      "source": [
        "props.head()"
      ]
    },
    {
      "cell_type": "code",
      "execution_count": null,
      "id": "8d8274fe",
      "metadata": {
        "id": "8d8274fe"
      },
      "outputs": [],
      "source": [
        "events = dd.read_csv(\"Datasets/events.csv\")\n",
        "cats = dd.read_csv(\"Datasets/category_tree.csv\")"
      ]
    },
    {
      "cell_type": "markdown",
      "id": "b7a177cb",
      "metadata": {
        "id": "b7a177cb"
      },
      "source": [
        "### Data Understanding & Preprocessing\n",
        "\n",
        "#### 1. Data Overview\n",
        "- Brief description of the dataset ( size, number of features, number of columns and rows, and observations)\n",
        "- Types of variables (numerical, categorical, datetime, etc.)\n",
        "- Initial observations about the data (e.g., imbalance, missing data, outliers)\n",
        "\n",
        "#### 2. Data Quality Checks\n",
        "- Check for missing values and filling or dropping them.\n",
        "- dropping columns.\n",
        "- checking for outliers."
      ]
    },
    {
      "cell_type": "code",
      "execution_count": null,
      "id": "0035f946",
      "metadata": {
        "id": "0035f946"
      },
      "outputs": [],
      "source": [
        "events[\"timestamp\"] = dd.to_datetime(events[\"timestamp\"], unit = \"ms\")\n",
        "props[\"timestamp\"] = dd.to_datetime(props[\"timestamp\"], unit = \"ms\")"
      ]
    },
    {
      "cell_type": "code",
      "execution_count": null,
      "id": "e0362a69",
      "metadata": {
        "id": "e0362a69"
      },
      "outputs": [],
      "source": [
        "num_rows = events.shape[0].compute()\n",
        "num_cols = events.shape[1]\n",
        "\n",
        "print(num_rows, num_cols)"
      ]
    },
    {
      "cell_type": "code",
      "execution_count": null,
      "id": "5be904fb",
      "metadata": {
        "id": "5be904fb"
      },
      "outputs": [],
      "source": [
        "events.isnull().sum().compute()"
      ]
    },
    {
      "cell_type": "code",
      "execution_count": null,
      "id": "543ddd4c",
      "metadata": {
        "id": "543ddd4c"
      },
      "outputs": [],
      "source": [
        "events = events.drop(columns = [\"transactionid\"])"
      ]
    },
    {
      "cell_type": "code",
      "execution_count": null,
      "id": "15b5b4a8",
      "metadata": {
        "id": "15b5b4a8"
      },
      "outputs": [],
      "source": [
        "events.head()"
      ]
    },
    {
      "cell_type": "code",
      "execution_count": null,
      "id": "13bba4d2",
      "metadata": {
        "id": "13bba4d2"
      },
      "outputs": [],
      "source": [
        "visitor_event = events.groupby(\"visitorid\")[\"event\"].count()"
      ]
    },
    {
      "cell_type": "code",
      "execution_count": null,
      "id": "84e8939a",
      "metadata": {
        "id": "84e8939a"
      },
      "outputs": [],
      "source": [
        "Q1 = visitor_event.quantile(0.25)\n",
        "Q3 = visitor_event.quantile(0.75)\n",
        "IQR = Q3 - Q1"
      ]
    },
    {
      "cell_type": "code",
      "execution_count": null,
      "id": "50da5b86",
      "metadata": {
        "id": "50da5b86"
      },
      "outputs": [],
      "source": [
        "lower_bound = Q1 - 1.5 * IQR\n",
        "upper_bound = Q3 + 1.5 * IQR"
      ]
    },
    {
      "cell_type": "code",
      "execution_count": null,
      "id": "54d9fcfd",
      "metadata": {
        "id": "54d9fcfd"
      },
      "outputs": [],
      "source": [
        "outlier_visitor_ids = visitor_event[(visitor_event < lower_bound) | (visitor_event > upper_bound)].index.compute()"
      ]
    },
    {
      "cell_type": "code",
      "execution_count": null,
      "id": "6de201c8",
      "metadata": {
        "id": "6de201c8"
      },
      "outputs": [],
      "source": [
        "is_outlier = events[\"visitorid\"].isin(outlier_visitor_ids)"
      ]
    },
    {
      "cell_type": "code",
      "execution_count": null,
      "id": "a544b145",
      "metadata": {
        "id": "a544b145"
      },
      "outputs": [],
      "source": [
        "events_F = events[~is_outlier]"
      ]
    },
    {
      "cell_type": "code",
      "execution_count": null,
      "id": "3a43f5f3",
      "metadata": {
        "id": "3a43f5f3"
      },
      "outputs": [],
      "source": [
        "print(events_F.head())"
      ]
    },
    {
      "cell_type": "code",
      "execution_count": null,
      "id": "62dc50a3",
      "metadata": {
        "id": "62dc50a3"
      },
      "outputs": [],
      "source": [
        "props.head()"
      ]
    },
    {
      "cell_type": "code",
      "execution_count": null,
      "id": "28c15d02",
      "metadata": {
        "id": "28c15d02"
      },
      "outputs": [],
      "source": [
        "def sum_n_values(text):\n",
        "    nums = re.findall(r\"n([\\d\\.]+)\", str(text))\n",
        "    nums = [float(x) for x in nums]\n",
        "    return sum(nums) if nums else None\n",
        "\n",
        "props[\"value_n\"] = props[\"value\"].apply(sum_n_values, meta=(\"n_sum\", \"float64\"))"
      ]
    },
    {
      "cell_type": "code",
      "execution_count": null,
      "id": "d8f1d627",
      "metadata": {
        "id": "d8f1d627"
      },
      "outputs": [],
      "source": [
        "props = props.drop(columns = [\"value\"])"
      ]
    },
    {
      "cell_type": "code",
      "execution_count": null,
      "id": "ec4088bb",
      "metadata": {
        "id": "ec4088bb"
      },
      "outputs": [],
      "source": [
        "props.head()"
      ]
    },
    {
      "cell_type": "code",
      "execution_count": null,
      "id": "ec22cac2",
      "metadata": {
        "id": "ec22cac2"
      },
      "outputs": [],
      "source": [
        "props = props.dropna()"
      ]
    },
    {
      "cell_type": "code",
      "execution_count": null,
      "id": "aeb02770",
      "metadata": {
        "id": "aeb02770"
      },
      "outputs": [],
      "source": [
        "props.head()"
      ]
    },
    {
      "cell_type": "code",
      "execution_count": null,
      "id": "05426194",
      "metadata": {
        "id": "05426194"
      },
      "outputs": [],
      "source": [
        "cats.isnull().sum().compute()"
      ]
    },
    {
      "cell_type": "code",
      "execution_count": null,
      "id": "56d3be01",
      "metadata": {
        "id": "56d3be01"
      },
      "outputs": [],
      "source": [
        "cats = cats.dropna()"
      ]
    },
    {
      "cell_type": "code",
      "execution_count": null,
      "id": "7e10383d",
      "metadata": {
        "id": "7e10383d"
      },
      "outputs": [],
      "source": [
        "props = props.repartition(npartitions = 1)\n",
        "props.to_parquet(\"cleaned/props.parquet\", engine = \"pyarrow\", compression = \"snappy\")\n",
        "del props; gc.collect()"
      ]
    },
    {
      "cell_type": "code",
      "execution_count": null,
      "id": "6d277547",
      "metadata": {
        "id": "6d277547"
      },
      "outputs": [],
      "source": [
        "events_F = events_F.repartition(npartitions = 1)\n",
        "events_F.to_parquet(\"cleaned/events.parquet\", engine = \"pyarrow\", compression = \"snappy\")\n",
        "del events_F; gc.collect()"
      ]
    },
    {
      "cell_type": "code",
      "execution_count": null,
      "id": "f8572f44",
      "metadata": {
        "id": "f8572f44"
      },
      "outputs": [],
      "source": [
        "cats = cats.repartition(npartitions = 1)\n",
        "cats.to_parquet(\"cleaned/cats.parquet\", engine = \"pyarrow\", compression = \"snappy\")\n",
        "del cats; gc.collect()"
      ]
    },
    {
      "cell_type": "code",
      "execution_count": null,
      "id": "f60c840d",
      "metadata": {
        "colab": {
          "base_uri": "https://localhost:8080/",
          "height": 425
        },
        "id": "f60c840d",
        "outputId": "b2af4334-e9dd-4519-9a16-7fa27ae1c03f"
      },
      "outputs": [
        {
          "output_type": "error",
          "ename": "FileNotFoundError",
          "evalue": "An error occurred while calling the read_parquet method registered to the pandas backend.\nOriginal Message: /content/cats.parquet",
          "traceback": [
            "\u001b[0;31m---------------------------------------------------------------------------\u001b[0m",
            "\u001b[0;31mFileNotFoundError\u001b[0m                         Traceback (most recent call last)",
            "\u001b[0;32m/usr/local/lib/python3.11/dist-packages/dask/backends.py\u001b[0m in \u001b[0;36mwrapper\u001b[0;34m(*args, **kwargs)\u001b[0m\n\u001b[1;32m    139\u001b[0m                 \u001b[0;32mtry\u001b[0m\u001b[0;34m:\u001b[0m\u001b[0;34m\u001b[0m\u001b[0;34m\u001b[0m\u001b[0m\n\u001b[0;32m--> 140\u001b[0;31m                     \u001b[0;32mreturn\u001b[0m \u001b[0mfunc\u001b[0m\u001b[0;34m(\u001b[0m\u001b[0;34m*\u001b[0m\u001b[0margs\u001b[0m\u001b[0;34m,\u001b[0m \u001b[0;34m**\u001b[0m\u001b[0mkwargs\u001b[0m\u001b[0;34m)\u001b[0m\u001b[0;34m\u001b[0m\u001b[0;34m\u001b[0m\u001b[0m\n\u001b[0m\u001b[1;32m    141\u001b[0m                 \u001b[0;32mexcept\u001b[0m \u001b[0mException\u001b[0m \u001b[0;32mas\u001b[0m \u001b[0me\u001b[0m\u001b[0;34m:\u001b[0m\u001b[0;34m\u001b[0m\u001b[0;34m\u001b[0m\u001b[0m\n",
            "\u001b[0;32m/usr/local/lib/python3.11/dist-packages/dask/dataframe/dask_expr/_collection.py\u001b[0m in \u001b[0;36mread_parquet\u001b[0;34m(path, columns, filters, categories, index, storage_options, dtype_backend, calculate_divisions, ignore_metadata_file, metadata_task_size, split_row_groups, blocksize, aggregate_files, parquet_file_extension, filesystem, engine, arrow_to_pandas, **kwargs)\u001b[0m\n\u001b[1;32m   5373\u001b[0m     return new_collection(\n\u001b[0;32m-> 5374\u001b[0;31m         ReadParquetFSSpec(\n\u001b[0m\u001b[1;32m   5375\u001b[0m             \u001b[0mpath\u001b[0m\u001b[0;34m,\u001b[0m\u001b[0;34m\u001b[0m\u001b[0;34m\u001b[0m\u001b[0m\n",
            "\u001b[0;32m/usr/local/lib/python3.11/dist-packages/dask/_expr.py\u001b[0m in \u001b[0;36m__new__\u001b[0;34m(cls, _determ_token, *args, **kwargs)\u001b[0m\n\u001b[1;32m    874\u001b[0m             \u001b[0mcls\u001b[0m\u001b[0;34m.\u001b[0m\u001b[0m_instances\u001b[0m \u001b[0;34m=\u001b[0m \u001b[0mweakref\u001b[0m\u001b[0;34m.\u001b[0m\u001b[0mWeakValueDictionary\u001b[0m\u001b[0;34m(\u001b[0m\u001b[0;34m)\u001b[0m\u001b[0;34m\u001b[0m\u001b[0;34m\u001b[0m\u001b[0m\n\u001b[0;32m--> 875\u001b[0;31m         \u001b[0minst\u001b[0m \u001b[0;34m=\u001b[0m \u001b[0msuper\u001b[0m\u001b[0;34m(\u001b[0m\u001b[0;34m)\u001b[0m\u001b[0;34m.\u001b[0m\u001b[0m__new__\u001b[0m\u001b[0;34m(\u001b[0m\u001b[0mcls\u001b[0m\u001b[0;34m,\u001b[0m \u001b[0;34m*\u001b[0m\u001b[0margs\u001b[0m\u001b[0;34m,\u001b[0m \u001b[0m_determ_token\u001b[0m\u001b[0;34m=\u001b[0m\u001b[0m_determ_token\u001b[0m\u001b[0;34m,\u001b[0m \u001b[0;34m**\u001b[0m\u001b[0mkwargs\u001b[0m\u001b[0;34m)\u001b[0m\u001b[0;34m\u001b[0m\u001b[0;34m\u001b[0m\u001b[0m\n\u001b[0m\u001b[1;32m    876\u001b[0m         \u001b[0m_name\u001b[0m \u001b[0;34m=\u001b[0m \u001b[0minst\u001b[0m\u001b[0;34m.\u001b[0m\u001b[0m_name\u001b[0m\u001b[0;34m\u001b[0m\u001b[0;34m\u001b[0m\u001b[0m\n",
            "\u001b[0;32m/usr/local/lib/python3.11/dist-packages/dask/_expr.py\u001b[0m in \u001b[0;36m__new__\u001b[0;34m(cls, _determ_token, *args, **kwargs)\u001b[0m\n\u001b[1;32m     71\u001b[0m         \u001b[0;31m# it once\u001b[0m\u001b[0;34m\u001b[0m\u001b[0;34m\u001b[0m\u001b[0m\n\u001b[0;32m---> 72\u001b[0;31m         \u001b[0minst\u001b[0m\u001b[0;34m.\u001b[0m\u001b[0m_name\u001b[0m\u001b[0;34m\u001b[0m\u001b[0;34m\u001b[0m\u001b[0m\n\u001b[0m\u001b[1;32m     73\u001b[0m         \u001b[0;32mreturn\u001b[0m \u001b[0minst\u001b[0m\u001b[0;34m\u001b[0m\u001b[0;34m\u001b[0m\u001b[0m\n",
            "\u001b[0;32m/usr/lib/python3.11/functools.py\u001b[0m in \u001b[0;36m__get__\u001b[0;34m(self, instance, owner)\u001b[0m\n\u001b[1;32m   1000\u001b[0m                 \u001b[0;32mif\u001b[0m \u001b[0mval\u001b[0m \u001b[0;32mis\u001b[0m \u001b[0m_NOT_FOUND\u001b[0m\u001b[0;34m:\u001b[0m\u001b[0;34m\u001b[0m\u001b[0;34m\u001b[0m\u001b[0m\n\u001b[0;32m-> 1001\u001b[0;31m                     \u001b[0mval\u001b[0m \u001b[0;34m=\u001b[0m \u001b[0mself\u001b[0m\u001b[0;34m.\u001b[0m\u001b[0mfunc\u001b[0m\u001b[0;34m(\u001b[0m\u001b[0minstance\u001b[0m\u001b[0;34m)\u001b[0m\u001b[0;34m\u001b[0m\u001b[0;34m\u001b[0m\u001b[0m\n\u001b[0m\u001b[1;32m   1002\u001b[0m                     \u001b[0;32mtry\u001b[0m\u001b[0;34m:\u001b[0m\u001b[0;34m\u001b[0m\u001b[0;34m\u001b[0m\u001b[0m\n",
            "\u001b[0;32m/usr/local/lib/python3.11/dist-packages/dask/dataframe/dask_expr/io/parquet.py\u001b[0m in \u001b[0;36m_name\u001b[0;34m(self)\u001b[0m\n\u001b[1;32m    789\u001b[0m     \u001b[0;32mdef\u001b[0m \u001b[0m_name\u001b[0m\u001b[0;34m(\u001b[0m\u001b[0mself\u001b[0m\u001b[0;34m)\u001b[0m\u001b[0;34m:\u001b[0m\u001b[0;34m\u001b[0m\u001b[0;34m\u001b[0m\u001b[0m\n\u001b[0;32m--> 790\u001b[0;31m         \u001b[0;32mreturn\u001b[0m \u001b[0mself\u001b[0m\u001b[0;34m.\u001b[0m\u001b[0m_funcname\u001b[0m \u001b[0;34m+\u001b[0m \u001b[0;34m\"-\"\u001b[0m \u001b[0;34m+\u001b[0m \u001b[0mself\u001b[0m\u001b[0;34m.\u001b[0m\u001b[0mdeterministic_token\u001b[0m\u001b[0;34m\u001b[0m\u001b[0;34m\u001b[0m\u001b[0m\n\u001b[0m\u001b[1;32m    791\u001b[0m \u001b[0;34m\u001b[0m\u001b[0m\n",
            "\u001b[0;32m/usr/local/lib/python3.11/dist-packages/dask/_expr.py\u001b[0m in \u001b[0;36mdeterministic_token\u001b[0;34m(self)\u001b[0m\n\u001b[1;32m    537\u001b[0m             \u001b[0;31m# Note how this differs to the implementation of __dask_tokenize__\u001b[0m\u001b[0;34m\u001b[0m\u001b[0;34m\u001b[0m\u001b[0m\n\u001b[0;32m--> 538\u001b[0;31m             \u001b[0mself\u001b[0m\u001b[0;34m.\u001b[0m\u001b[0m_determ_token\u001b[0m \u001b[0;34m=\u001b[0m \u001b[0mself\u001b[0m\u001b[0;34m.\u001b[0m\u001b[0m__dask_tokenize__\u001b[0m\u001b[0;34m(\u001b[0m\u001b[0;34m)\u001b[0m\u001b[0;34m\u001b[0m\u001b[0;34m\u001b[0m\u001b[0m\n\u001b[0m\u001b[1;32m    539\u001b[0m         \u001b[0;32mreturn\u001b[0m \u001b[0mself\u001b[0m\u001b[0;34m.\u001b[0m\u001b[0m_determ_token\u001b[0m\u001b[0;34m\u001b[0m\u001b[0;34m\u001b[0m\u001b[0m\n",
            "\u001b[0;32m/usr/local/lib/python3.11/dist-packages/dask/dataframe/dask_expr/io/parquet.py\u001b[0m in \u001b[0;36m__dask_tokenize__\u001b[0;34m(self)\u001b[0m\n\u001b[1;32m    783\u001b[0m             self._determ_token = _tokenize_deterministic(\n\u001b[0;32m--> 784\u001b[0;31m                 \u001b[0mfuncname\u001b[0m\u001b[0;34m(\u001b[0m\u001b[0mtype\u001b[0m\u001b[0;34m(\u001b[0m\u001b[0mself\u001b[0m\u001b[0;34m)\u001b[0m\u001b[0;34m)\u001b[0m\u001b[0;34m,\u001b[0m \u001b[0mself\u001b[0m\u001b[0;34m.\u001b[0m\u001b[0mchecksum\u001b[0m\u001b[0;34m,\u001b[0m \u001b[0;34m*\u001b[0m\u001b[0mself\u001b[0m\u001b[0;34m.\u001b[0m\u001b[0moperands\u001b[0m\u001b[0;34m[\u001b[0m\u001b[0;34m:\u001b[0m\u001b[0;34m-\u001b[0m\u001b[0;36m1\u001b[0m\u001b[0;34m]\u001b[0m\u001b[0;34m\u001b[0m\u001b[0;34m\u001b[0m\u001b[0m\n\u001b[0m\u001b[1;32m    785\u001b[0m             )\n",
            "\u001b[0;32m/usr/local/lib/python3.11/dist-packages/dask/dataframe/dask_expr/io/parquet.py\u001b[0m in \u001b[0;36mchecksum\u001b[0;34m(self)\u001b[0m\n\u001b[1;32m    793\u001b[0m     \u001b[0;32mdef\u001b[0m \u001b[0mchecksum\u001b[0m\u001b[0;34m(\u001b[0m\u001b[0mself\u001b[0m\u001b[0;34m)\u001b[0m\u001b[0;34m:\u001b[0m\u001b[0;34m\u001b[0m\u001b[0;34m\u001b[0m\u001b[0m\n\u001b[0;32m--> 794\u001b[0;31m         \u001b[0;32mreturn\u001b[0m \u001b[0mself\u001b[0m\u001b[0;34m.\u001b[0m\u001b[0m_dataset_info\u001b[0m\u001b[0;34m[\u001b[0m\u001b[0;34m\"checksum\"\u001b[0m\u001b[0;34m]\u001b[0m\u001b[0;34m\u001b[0m\u001b[0;34m\u001b[0m\u001b[0m\n\u001b[0m\u001b[1;32m    795\u001b[0m \u001b[0;34m\u001b[0m\u001b[0m\n",
            "\u001b[0;32m/usr/local/lib/python3.11/dist-packages/dask/dataframe/dask_expr/io/parquet.py\u001b[0m in \u001b[0;36m_dataset_info\u001b[0;34m(self)\u001b[0m\n\u001b[1;32m   1376\u001b[0m         )\n\u001b[0;32m-> 1377\u001b[0;31m         \u001b[0mdataset_info\u001b[0m \u001b[0;34m=\u001b[0m \u001b[0mself\u001b[0m\u001b[0;34m.\u001b[0m\u001b[0mengine\u001b[0m\u001b[0;34m.\u001b[0m\u001b[0m_collect_dataset_info\u001b[0m\u001b[0;34m(\u001b[0m\u001b[0;34m*\u001b[0m\u001b[0margs\u001b[0m\u001b[0;34m)\u001b[0m\u001b[0;34m\u001b[0m\u001b[0;34m\u001b[0m\u001b[0m\n\u001b[0m\u001b[1;32m   1378\u001b[0m         \u001b[0mchecksum\u001b[0m \u001b[0;34m=\u001b[0m \u001b[0;34m[\u001b[0m\u001b[0;34m]\u001b[0m\u001b[0;34m\u001b[0m\u001b[0;34m\u001b[0m\u001b[0m\n",
            "\u001b[0;32m/usr/local/lib/python3.11/dist-packages/dask/dataframe/io/parquet/arrow.py\u001b[0m in \u001b[0;36m_collect_dataset_info\u001b[0;34m(cls, paths, fs, categories, index, gather_statistics, filters, split_row_groups, blocksize, aggregate_files, ignore_metadata_file, metadata_task_size, parquet_file_extension, kwargs)\u001b[0m\n\u001b[1;32m    991\u001b[0m         \u001b[0;32mif\u001b[0m \u001b[0mds\u001b[0m \u001b[0;32mis\u001b[0m \u001b[0;32mNone\u001b[0m\u001b[0;34m:\u001b[0m\u001b[0;34m\u001b[0m\u001b[0;34m\u001b[0m\u001b[0m\n\u001b[0;32m--> 992\u001b[0;31m             ds = pa_ds.dataset(\n\u001b[0m\u001b[1;32m    993\u001b[0m                 \u001b[0mpaths\u001b[0m\u001b[0;34m,\u001b[0m\u001b[0;34m\u001b[0m\u001b[0;34m\u001b[0m\u001b[0m\n",
            "\u001b[0;32m/usr/local/lib/python3.11/dist-packages/pyarrow/dataset.py\u001b[0m in \u001b[0;36mdataset\u001b[0;34m(source, schema, format, filesystem, partitioning, partition_base_dir, exclude_invalid_files, ignore_prefixes)\u001b[0m\n\u001b[1;32m    796\u001b[0m         \u001b[0;32mif\u001b[0m \u001b[0mall\u001b[0m\u001b[0;34m(\u001b[0m\u001b[0m_is_path_like\u001b[0m\u001b[0;34m(\u001b[0m\u001b[0melem\u001b[0m\u001b[0;34m)\u001b[0m \u001b[0;32mor\u001b[0m \u001b[0misinstance\u001b[0m\u001b[0;34m(\u001b[0m\u001b[0melem\u001b[0m\u001b[0;34m,\u001b[0m \u001b[0mFileInfo\u001b[0m\u001b[0;34m)\u001b[0m \u001b[0;32mfor\u001b[0m \u001b[0melem\u001b[0m \u001b[0;32min\u001b[0m \u001b[0msource\u001b[0m\u001b[0;34m)\u001b[0m\u001b[0;34m:\u001b[0m\u001b[0;34m\u001b[0m\u001b[0;34m\u001b[0m\u001b[0m\n\u001b[0;32m--> 797\u001b[0;31m             \u001b[0;32mreturn\u001b[0m \u001b[0m_filesystem_dataset\u001b[0m\u001b[0;34m(\u001b[0m\u001b[0msource\u001b[0m\u001b[0;34m,\u001b[0m \u001b[0;34m**\u001b[0m\u001b[0mkwargs\u001b[0m\u001b[0;34m)\u001b[0m\u001b[0;34m\u001b[0m\u001b[0;34m\u001b[0m\u001b[0m\n\u001b[0m\u001b[1;32m    798\u001b[0m         \u001b[0;32melif\u001b[0m \u001b[0mall\u001b[0m\u001b[0;34m(\u001b[0m\u001b[0misinstance\u001b[0m\u001b[0;34m(\u001b[0m\u001b[0melem\u001b[0m\u001b[0;34m,\u001b[0m \u001b[0mDataset\u001b[0m\u001b[0;34m)\u001b[0m \u001b[0;32mfor\u001b[0m \u001b[0melem\u001b[0m \u001b[0;32min\u001b[0m \u001b[0msource\u001b[0m\u001b[0;34m)\u001b[0m\u001b[0;34m:\u001b[0m\u001b[0;34m\u001b[0m\u001b[0;34m\u001b[0m\u001b[0m\n",
            "\u001b[0;32m/usr/local/lib/python3.11/dist-packages/pyarrow/dataset.py\u001b[0m in \u001b[0;36m_filesystem_dataset\u001b[0;34m(source, schema, filesystem, partitioning, format, partition_base_dir, exclude_invalid_files, selector_ignore_prefixes)\u001b[0m\n\u001b[1;32m    473\u001b[0m         \u001b[0;32melse\u001b[0m\u001b[0;34m:\u001b[0m\u001b[0;34m\u001b[0m\u001b[0;34m\u001b[0m\u001b[0m\n\u001b[0;32m--> 474\u001b[0;31m             \u001b[0mfs\u001b[0m\u001b[0;34m,\u001b[0m \u001b[0mpaths_or_selector\u001b[0m \u001b[0;34m=\u001b[0m \u001b[0m_ensure_multiple_sources\u001b[0m\u001b[0;34m(\u001b[0m\u001b[0msource\u001b[0m\u001b[0;34m,\u001b[0m \u001b[0mfilesystem\u001b[0m\u001b[0;34m)\u001b[0m\u001b[0;34m\u001b[0m\u001b[0;34m\u001b[0m\u001b[0m\n\u001b[0m\u001b[1;32m    475\u001b[0m     \u001b[0;32melse\u001b[0m\u001b[0;34m:\u001b[0m\u001b[0;34m\u001b[0m\u001b[0;34m\u001b[0m\u001b[0m\n",
            "\u001b[0;32m/usr/local/lib/python3.11/dist-packages/pyarrow/dataset.py\u001b[0m in \u001b[0;36m_ensure_multiple_sources\u001b[0;34m(paths, filesystem)\u001b[0m\n\u001b[1;32m    381\u001b[0m             \u001b[0;32melif\u001b[0m \u001b[0mfile_type\u001b[0m \u001b[0;34m==\u001b[0m \u001b[0mFileType\u001b[0m\u001b[0;34m.\u001b[0m\u001b[0mNotFound\u001b[0m\u001b[0;34m:\u001b[0m\u001b[0;34m\u001b[0m\u001b[0;34m\u001b[0m\u001b[0m\n\u001b[0;32m--> 382\u001b[0;31m                 \u001b[0;32mraise\u001b[0m \u001b[0mFileNotFoundError\u001b[0m\u001b[0;34m(\u001b[0m\u001b[0minfo\u001b[0m\u001b[0;34m.\u001b[0m\u001b[0mpath\u001b[0m\u001b[0;34m)\u001b[0m\u001b[0;34m\u001b[0m\u001b[0;34m\u001b[0m\u001b[0m\n\u001b[0m\u001b[1;32m    383\u001b[0m             \u001b[0;32melif\u001b[0m \u001b[0mfile_type\u001b[0m \u001b[0;34m==\u001b[0m \u001b[0mFileType\u001b[0m\u001b[0;34m.\u001b[0m\u001b[0mDirectory\u001b[0m\u001b[0;34m:\u001b[0m\u001b[0;34m\u001b[0m\u001b[0;34m\u001b[0m\u001b[0m\n",
            "\u001b[0;31mFileNotFoundError\u001b[0m: /content/cats.parquet",
            "\nThe above exception was the direct cause of the following exception:\n",
            "\u001b[0;31mFileNotFoundError\u001b[0m                         Traceback (most recent call last)",
            "\u001b[0;32m/tmp/ipython-input-2298179847.py\u001b[0m in \u001b[0;36m<cell line: 0>\u001b[0;34m()\u001b[0m\n\u001b[1;32m      3\u001b[0m \u001b[0;31m# events_F = dd.read_parquet(\"events.parquet\", engine=\"pyarrow\")\u001b[0m\u001b[0;34m\u001b[0m\u001b[0;34m\u001b[0m\u001b[0m\n\u001b[1;32m      4\u001b[0m \u001b[0;34m\u001b[0m\u001b[0m\n\u001b[0;32m----> 5\u001b[0;31m \u001b[0mcats\u001b[0m \u001b[0;34m=\u001b[0m \u001b[0mdd\u001b[0m\u001b[0;34m.\u001b[0m\u001b[0mread_parquet\u001b[0m\u001b[0;34m(\u001b[0m\u001b[0;34m\"cats.parquet\"\u001b[0m\u001b[0;34m,\u001b[0m \u001b[0mengine\u001b[0m\u001b[0;34m=\u001b[0m\u001b[0;34m\"pyarrow\"\u001b[0m\u001b[0;34m)\u001b[0m\u001b[0;34m\u001b[0m\u001b[0;34m\u001b[0m\u001b[0m\n\u001b[0m",
            "\u001b[0;32m/usr/local/lib/python3.11/dist-packages/dask/backends.py\u001b[0m in \u001b[0;36mwrapper\u001b[0;34m(*args, **kwargs)\u001b[0m\n\u001b[1;32m    149\u001b[0m                         \u001b[0;32mraise\u001b[0m \u001b[0me\u001b[0m\u001b[0;34m\u001b[0m\u001b[0;34m\u001b[0m\u001b[0m\n\u001b[1;32m    150\u001b[0m                     \u001b[0;32melse\u001b[0m\u001b[0;34m:\u001b[0m\u001b[0;34m\u001b[0m\u001b[0;34m\u001b[0m\u001b[0m\n\u001b[0;32m--> 151\u001b[0;31m                         \u001b[0;32mraise\u001b[0m \u001b[0mexc\u001b[0m \u001b[0;32mfrom\u001b[0m \u001b[0me\u001b[0m\u001b[0;34m\u001b[0m\u001b[0;34m\u001b[0m\u001b[0m\n\u001b[0m\u001b[1;32m    152\u001b[0m \u001b[0;34m\u001b[0m\u001b[0m\n\u001b[1;32m    153\u001b[0m             \u001b[0mwrapper\u001b[0m\u001b[0;34m.\u001b[0m\u001b[0m__name__\u001b[0m \u001b[0;34m=\u001b[0m \u001b[0mdispatch_name\u001b[0m\u001b[0;34m\u001b[0m\u001b[0;34m\u001b[0m\u001b[0m\n",
            "\u001b[0;31mFileNotFoundError\u001b[0m: An error occurred while calling the read_parquet method registered to the pandas backend.\nOriginal Message: /content/cats.parquet"
          ]
        }
      ],
      "source": [
        "# props = dd.read_parquet(\"props.parquet\", engine=\"pyarrow\")\n",
        "\n",
        "# events_F = dd.read_parquet(\"events.parquet\", engine=\"pyarrow\")\n",
        "\n",
        "cats = dd.read_parquet(\"cats.parquet\", engine=\"pyarrow\")"
      ]
    },
    {
      "cell_type": "markdown",
      "id": "c6f3fe04",
      "metadata": {
        "id": "c6f3fe04"
      },
      "source": [
        "Creating My user-item matric and item feature Matrix"
      ]
    },
    {
      "cell_type": "code",
      "execution_count": null,
      "id": "9ad2f4e3",
      "metadata": {
        "id": "9ad2f4e3"
      },
      "outputs": [],
      "source": [
        "from scipy.sparse import csr_matrix\n",
        "import pandas as pd\n",
        "# from implicit.als import AlternatingLeastSquares\n",
        "from scipy.sparse import coo_matrix\n",
        "import numpy as np"
      ]
    },
    {
      "cell_type": "code",
      "execution_count": null,
      "id": "c31af5ef",
      "metadata": {
        "id": "c31af5ef",
        "outputId": "0025a1c2-1382-4567-c21b-b938dc43da0c"
      },
      "outputs": [
        {
          "data": {
            "application/vnd.microsoft.datawrangler.viewer.v0+json": {
              "columns": [
                {
                  "name": "index",
                  "rawType": "int64",
                  "type": "integer"
                },
                {
                  "name": "timestamp",
                  "rawType": "datetime64[ns]",
                  "type": "datetime"
                },
                {
                  "name": "visitorid",
                  "rawType": "float64",
                  "type": "float"
                },
                {
                  "name": "event",
                  "rawType": "string",
                  "type": "string"
                },
                {
                  "name": "itemid",
                  "rawType": "category",
                  "type": "unknown"
                },
                {
                  "name": "interaction_strength",
                  "rawType": "int64",
                  "type": "integer"
                }
              ],
              "ref": "0b0b8362-5024-4d85-842f-4c4a61800fc6",
              "rows": [
                [
                  "0",
                  "2015-06-02 05:02:12.117000",
                  "257597.0",
                  "view",
                  "355908.0",
                  "1"
                ],
                [
                  "2",
                  "2015-06-02 05:13:19.827000",
                  "111016.0",
                  "view",
                  "318965.0",
                  "1"
                ],
                [
                  "3",
                  "2015-06-02 05:12:35.914000",
                  "483717.0",
                  "view",
                  "253185.0",
                  "1"
                ],
                [
                  "4",
                  "2015-06-02 05:02:17.106000",
                  "951259.0",
                  "view",
                  "367447.0",
                  "1"
                ],
                [
                  "5",
                  "2015-06-02 05:48:06.234000",
                  "972639.0",
                  "view",
                  "22556.0",
                  "1"
                ]
              ],
              "shape": {
                "columns": 5,
                "rows": 5
              }
            },
            "text/html": [
              "<div>\n",
              "<style scoped>\n",
              "    .dataframe tbody tr th:only-of-type {\n",
              "        vertical-align: middle;\n",
              "    }\n",
              "\n",
              "    .dataframe tbody tr th {\n",
              "        vertical-align: top;\n",
              "    }\n",
              "\n",
              "    .dataframe thead th {\n",
              "        text-align: right;\n",
              "    }\n",
              "</style>\n",
              "<table border=\"1\" class=\"dataframe\">\n",
              "  <thead>\n",
              "    <tr style=\"text-align: right;\">\n",
              "      <th></th>\n",
              "      <th>timestamp</th>\n",
              "      <th>visitorid</th>\n",
              "      <th>event</th>\n",
              "      <th>itemid</th>\n",
              "      <th>interaction_strength</th>\n",
              "    </tr>\n",
              "  </thead>\n",
              "  <tbody>\n",
              "    <tr>\n",
              "      <th>0</th>\n",
              "      <td>2015-06-02 05:02:12.117</td>\n",
              "      <td>257597.0</td>\n",
              "      <td>view</td>\n",
              "      <td>355908.0</td>\n",
              "      <td>1</td>\n",
              "    </tr>\n",
              "    <tr>\n",
              "      <th>2</th>\n",
              "      <td>2015-06-02 05:13:19.827</td>\n",
              "      <td>111016.0</td>\n",
              "      <td>view</td>\n",
              "      <td>318965.0</td>\n",
              "      <td>1</td>\n",
              "    </tr>\n",
              "    <tr>\n",
              "      <th>3</th>\n",
              "      <td>2015-06-02 05:12:35.914</td>\n",
              "      <td>483717.0</td>\n",
              "      <td>view</td>\n",
              "      <td>253185.0</td>\n",
              "      <td>1</td>\n",
              "    </tr>\n",
              "    <tr>\n",
              "      <th>4</th>\n",
              "      <td>2015-06-02 05:02:17.106</td>\n",
              "      <td>951259.0</td>\n",
              "      <td>view</td>\n",
              "      <td>367447.0</td>\n",
              "      <td>1</td>\n",
              "    </tr>\n",
              "    <tr>\n",
              "      <th>5</th>\n",
              "      <td>2015-06-02 05:48:06.234</td>\n",
              "      <td>972639.0</td>\n",
              "      <td>view</td>\n",
              "      <td>22556.0</td>\n",
              "      <td>1</td>\n",
              "    </tr>\n",
              "  </tbody>\n",
              "</table>\n",
              "</div>"
            ],
            "text/plain": [
              "                timestamp  visitorid event    itemid  interaction_strength\n",
              "0 2015-06-02 05:02:12.117   257597.0  view  355908.0                     1\n",
              "2 2015-06-02 05:13:19.827   111016.0  view  318965.0                     1\n",
              "3 2015-06-02 05:12:35.914   483717.0  view  253185.0                     1\n",
              "4 2015-06-02 05:02:17.106   951259.0  view  367447.0                     1\n",
              "5 2015-06-02 05:48:06.234   972639.0  view   22556.0                     1"
            ]
          },
          "execution_count": 18,
          "metadata": {},
          "output_type": "execute_result"
        }
      ],
      "source": [
        "events_F.head()"
      ]
    },
    {
      "cell_type": "code",
      "execution_count": null,
      "id": "202632ab",
      "metadata": {
        "id": "202632ab"
      },
      "outputs": [],
      "source": [
        "event_weights = {\"view\": 1, \"addtocart\": 3, \"transaction\": 5}\n",
        "\n",
        "events_F[\"interaction_strength\"] = events_F[\"event\"].map(\n",
        "    event_weights,\n",
        "    meta = (\"interaction_strength\", \"int64\")\n",
        ")"
      ]
    },
    {
      "cell_type": "code",
      "execution_count": null,
      "id": "a632eb86",
      "metadata": {
        "id": "a632eb86",
        "outputId": "67845360-6784-493c-c33a-079bd0961541"
      },
      "outputs": [
        {
          "name": "stdout",
          "output_type": "stream",
          "text": [
            "The 'interaction_strength' column has been created.\n",
            "                timestamp  visitorid event    itemid  interaction_strength\n",
            "0 2015-06-02 05:02:12.117   257597.0  view  355908.0                     1\n",
            "2 2015-06-02 05:13:19.827   111016.0  view  318965.0                     1\n",
            "3 2015-06-02 05:12:35.914   483717.0  view  253185.0                     1\n",
            "4 2015-06-02 05:02:17.106   951259.0  view  367447.0                     1\n",
            "5 2015-06-02 05:48:06.234   972639.0  view   22556.0                     1\n"
          ]
        }
      ],
      "source": [
        "print(\"The 'interaction_strength' column has been created.\")\n",
        "print(events_F.head())"
      ]
    },
    {
      "cell_type": "code",
      "execution_count": null,
      "id": "82d352f3",
      "metadata": {
        "id": "82d352f3"
      },
      "outputs": [],
      "source": [
        "visitor_ids = events_F[\"visitorid\"].unique()\n",
        "item_ids = events_F[\"itemid\"].unique()"
      ]
    },
    {
      "cell_type": "code",
      "execution_count": null,
      "id": "d54a0b15",
      "metadata": {
        "id": "d54a0b15"
      },
      "outputs": [],
      "source": [
        "visitor_map = {visitor_id: i for i, visitor_id in enumerate(visitor_ids)}\n",
        "item_map = {item_id: i for i, item_id in enumerate(item_ids)}"
      ]
    },
    {
      "cell_type": "code",
      "execution_count": null,
      "id": "d35d3314",
      "metadata": {
        "id": "d35d3314"
      },
      "outputs": [],
      "source": [
        "events_F[\"visitor_idx\"] = events_F[\"visitorid\"].map(\n",
        "    visitor_map,\n",
        "     meta = (\"visitor_idx\", \"int64\")\n",
        ")\n",
        "events_F[\"item_idx\"] = events_F[\"itemid\"].map(\n",
        "    item_map,\n",
        "    meta = (\"item_idx\", \"int64\")\n",
        ")"
      ]
    },
    {
      "cell_type": "code",
      "execution_count": null,
      "id": "7e8c08c3",
      "metadata": {
        "id": "7e8c08c3"
      },
      "outputs": [],
      "source": [
        "events_computed_agg = events_F.groupby([\"visitor_idx\", \"item_idx\"])[\"interaction_strength\"].sum().reset_index()"
      ]
    },
    {
      "cell_type": "code",
      "execution_count": null,
      "id": "0b6eab41",
      "metadata": {
        "id": "0b6eab41"
      },
      "outputs": [],
      "source": [
        "events_computed = events_computed_agg.compute()"
      ]
    },
    {
      "cell_type": "code",
      "execution_count": null,
      "id": "3fbddf96",
      "metadata": {
        "id": "3fbddf96"
      },
      "outputs": [],
      "source": [
        "rows = events_computed[\"visitor_idx\"].values\n",
        "cols = events_computed[\"item_idx\"].values\n",
        "data = events_computed[\"interaction_strength\"].values"
      ]
    },
    {
      "cell_type": "code",
      "execution_count": null,
      "id": "462f7fa0",
      "metadata": {
        "id": "462f7fa0"
      },
      "outputs": [],
      "source": [
        "user_item_matrix = csr_matrix((data, (rows, cols)), shape=(len(visitor_map), len(item_map)))"
      ]
    },
    {
      "cell_type": "code",
      "execution_count": null,
      "id": "7ba244c2",
      "metadata": {
        "id": "7ba244c2",
        "outputId": "48e5bde3-ad18-4419-ec5a-c637b1365f56"
      },
      "outputs": [
        {
          "name": "stdout",
          "output_type": "stream",
          "text": [
            "Shape of the user-item interaction matrix: (1287164, 210443)\n"
          ]
        }
      ],
      "source": [
        "print(f\"Shape of the user-item interaction matrix: {user_item_matrix.shape}\")"
      ]
    },
    {
      "cell_type": "code",
      "execution_count": null,
      "id": "2c37b050",
      "metadata": {
        "id": "2c37b050"
      },
      "outputs": [],
      "source": [
        "categories = props[\"property\"].unique().compute().tolist()"
      ]
    },
    {
      "cell_type": "code",
      "execution_count": null,
      "id": "335a26ca",
      "metadata": {
        "id": "335a26ca"
      },
      "outputs": [],
      "source": [
        "props[\"property\"] = props[\"property\"].astype(pd.CategoricalDtype(categories = categories))"
      ]
    },
    {
      "cell_type": "code",
      "execution_count": null,
      "id": "319c0721",
      "metadata": {
        "id": "319c0721"
      },
      "outputs": [],
      "source": [
        "item_feature_matrix = props.pivot_table(\n",
        "    index = \"itemid\",\n",
        "    columns = \"property\",\n",
        "    values = \"value_n\",\n",
        "    aggfunc = \"first\"\n",
        ")"
      ]
    },
    {
      "cell_type": "code",
      "execution_count": null,
      "id": "f4279802",
      "metadata": {
        "id": "f4279802",
        "outputId": "7ff404b0-2881-4a52-f1c3-52b4f83d64cc"
      },
      "outputs": [
        {
          "name": "stdout",
          "output_type": "stream",
          "text": [
            "Dask DataFrame Structure:\n",
            "                   888      400      790      451        0      566      134       19      881      188      663      619       60      917      202      719      964      681      810      175      631     1075      720      689      314      784      807      671      931      283      891      726      607      544      942      758     1083      225      987      204      569     1058     1066      141      884      761      674     1054      389      104      441      452      221      976      456      423      281      468      470      319      749      994      900      603      805      981      102      307      909      669      771      465      586      546      275      495      638      685      206      768      372      120       96      936       69      841      594      611      562      961      966      654      373      542       42      419      795       30      734      953      645      277      803       98      140      220       11      978      796     1041      969     1097     1008      675      996      575      945      622     1068      842      710      992      116      438      397      997      198      515     1025      222        6     1056      464      536      279      893      475      963     1080      249      439      496      233     1059      813      186      333      379      901     1004      177      529      555       40      139      698      271      595      887      246      297      553     1084     1006     1060      161      125      524     1001      806      153      723      344      299      754      658      401      241      794      690      928      298      642      895      268      506      265      313      684       14      296      773      348      324      320      466      748       90       17      107      809      730      848      927      564      949      478      869      332      889      257      804      316      538      639      481      219      356      292      367      646      518      189      920      192      508     1081      660      880      236      943      483     1037      745      851      829      415      740      317      227      714       32       13       70     1096      207      637      597      196      467      929      211       73     1093     1042      184      896      369       71      762      574      526      510      845     1035     1016      699       72      201        8      130     1064       66      832      821      295      991      128      585      738      306      377      818      164     1095      259      965      393      610      902      328      359      620      258      432       55      291      199      155      706      709      780      797      686      912      724      447      977      839     1086      678      733      933      426      331      488      548      944      404      870      824       37      380     1053      482      411       86     1044      558      860      361       23      200      641      743      817      358      158      613      422      947      787      903      756      533      904      713       24     1003      460      600      115      418      413      766      455      668      448      492       12      559      203      512      156      255      679      914      656     1070     1021       31      857      208      653      395      463      428      959      390      370     1009      667      657      191      850     1050     1098      677      593      625      167       29      347      878      717      517       65     1020     1100      861      479      232     1063      168      778      212      571     1072      325      877      342      216      589     1026      381      862       81      998     1087      288     1062      628       63      459       94      111      267      143      560     1047      162      109      137      150      383      514      122      172      446      874      127      913      323      779      429      873      614      702      485     1018      808      443      394     1032      282      144     1074     1103      948      486      986      958      916       74      375      269       18      644      345     1036       28      499      975      142      828        2      700       75       22      835      599      970      190      695      151      886      489      650      286     1082      301      923      436      568      218      910       89      183      384      434      160      171      431      527      626      791      632      633      666      831      941      118      578     1005      261     1061      312     1039      673      926      859      967      570     1102      528      289       97      523      532      670      915     1094       91      371      676      606      871       68      235      469      385      615      782      691      811     1033      173      425       26      800      290      239      696      680       64        4      579      215      755       15      703      770      816      149      163      169      664       38      922      897       93      132      971      243      461      252      826      598      827      531      244      424     1007       59     1028      847      882      955     1055      951      472      561      729      736      113      387      649     1079      427       76     1091        9\n",
            "npartitions=1                                                                                                                                                                                                                                                                                                                                                                                                                                                                                                                                                                                                                                                                                                                                                                                                                                                                                                                                                                                                                                                                                                                                                                                                                                                                                                                                                                                                                                                                                                                                                                                                                                                                                                                                                                                                                                                                                                                                                                                                                                                                                                                                                                                                                                                                                                                                                                                                                                                                                                                                                                                                                                                                                                                                                                                                                                                                                                                                                                                                                                                                                                                                                                                                                                                                                                                                                                                                                                                                                                                                                                                                                                                                                                                                                                                                                                                                                                                                                                                                                                                                                                                                                                                                                                                                                                                                                                                                                                                                                                                                                                                                                                                                                                                                                                                                                                                                                                                                                                                                                                                                                                                                                                                                                                                                                                                                                                                                                                                                                                                                                                                                                                          \n",
            "               float64  float64  float64  float64  float64  float64  float64  float64  float64  float64  float64  float64  float64  float64  float64  float64  float64  float64  float64  float64  float64  float64  float64  float64  float64  float64  float64  float64  float64  float64  float64  float64  float64  float64  float64  float64  float64  float64  float64  float64  float64  float64  float64  float64  float64  float64  float64  float64  float64  float64  float64  float64  float64  float64  float64  float64  float64  float64  float64  float64  float64  float64  float64  float64  float64  float64  float64  float64  float64  float64  float64  float64  float64  float64  float64  float64  float64  float64  float64  float64  float64  float64  float64  float64  float64  float64  float64  float64  float64  float64  float64  float64  float64  float64  float64  float64  float64  float64  float64  float64  float64  float64  float64  float64  float64  float64  float64  float64  float64  float64  float64  float64  float64  float64  float64  float64  float64  float64  float64  float64  float64  float64  float64  float64  float64  float64  float64  float64  float64  float64  float64  float64  float64  float64  float64  float64  float64  float64  float64  float64  float64  float64  float64  float64  float64  float64  float64  float64  float64  float64  float64  float64  float64  float64  float64  float64  float64  float64  float64  float64  float64  float64  float64  float64  float64  float64  float64  float64  float64  float64  float64  float64  float64  float64  float64  float64  float64  float64  float64  float64  float64  float64  float64  float64  float64  float64  float64  float64  float64  float64  float64  float64  float64  float64  float64  float64  float64  float64  float64  float64  float64  float64  float64  float64  float64  float64  float64  float64  float64  float64  float64  float64  float64  float64  float64  float64  float64  float64  float64  float64  float64  float64  float64  float64  float64  float64  float64  float64  float64  float64  float64  float64  float64  float64  float64  float64  float64  float64  float64  float64  float64  float64  float64  float64  float64  float64  float64  float64  float64  float64  float64  float64  float64  float64  float64  float64  float64  float64  float64  float64  float64  float64  float64  float64  float64  float64  float64  float64  float64  float64  float64  float64  float64  float64  float64  float64  float64  float64  float64  float64  float64  float64  float64  float64  float64  float64  float64  float64  float64  float64  float64  float64  float64  float64  float64  float64  float64  float64  float64  float64  float64  float64  float64  float64  float64  float64  float64  float64  float64  float64  float64  float64  float64  float64  float64  float64  float64  float64  float64  float64  float64  float64  float64  float64  float64  float64  float64  float64  float64  float64  float64  float64  float64  float64  float64  float64  float64  float64  float64  float64  float64  float64  float64  float64  float64  float64  float64  float64  float64  float64  float64  float64  float64  float64  float64  float64  float64  float64  float64  float64  float64  float64  float64  float64  float64  float64  float64  float64  float64  float64  float64  float64  float64  float64  float64  float64  float64  float64  float64  float64  float64  float64  float64  float64  float64  float64  float64  float64  float64  float64  float64  float64  float64  float64  float64  float64  float64  float64  float64  float64  float64  float64  float64  float64  float64  float64  float64  float64  float64  float64  float64  float64  float64  float64  float64  float64  float64  float64  float64  float64  float64  float64  float64  float64  float64  float64  float64  float64  float64  float64  float64  float64  float64  float64  float64  float64  float64  float64  float64  float64  float64  float64  float64  float64  float64  float64  float64  float64  float64  float64  float64  float64  float64  float64  float64  float64  float64  float64  float64  float64  float64  float64  float64  float64  float64  float64  float64  float64  float64  float64  float64  float64  float64  float64  float64  float64  float64  float64  float64  float64  float64  float64  float64  float64  float64  float64  float64  float64  float64  float64  float64  float64  float64  float64  float64  float64  float64  float64  float64  float64  float64  float64  float64  float64  float64  float64  float64  float64  float64  float64  float64  float64  float64  float64  float64  float64  float64  float64  float64  float64  float64  float64  float64  float64  float64  float64  float64  float64  float64  float64  float64  float64  float64  float64  float64  float64  float64  float64  float64  float64  float64  float64  float64  float64  float64  float64  float64  float64  float64  float64  float64  float64  float64  float64  float64  float64  float64  float64  float64  float64  float64  float64  float64  float64  float64  float64  float64  float64  float64  float64  float64  float64  float64  float64  float64  float64  float64  float64  float64  float64  float64  float64  float64  float64  float64  float64  float64  float64  float64  float64  float64  float64  float64  float64  float64  float64  float64  float64  float64  float64  float64  float64\n",
            "                   ...      ...      ...      ...      ...      ...      ...      ...      ...      ...      ...      ...      ...      ...      ...      ...      ...      ...      ...      ...      ...      ...      ...      ...      ...      ...      ...      ...      ...      ...      ...      ...      ...      ...      ...      ...      ...      ...      ...      ...      ...      ...      ...      ...      ...      ...      ...      ...      ...      ...      ...      ...      ...      ...      ...      ...      ...      ...      ...      ...      ...      ...      ...      ...      ...      ...      ...      ...      ...      ...      ...      ...      ...      ...      ...      ...      ...      ...      ...      ...      ...      ...      ...      ...      ...      ...      ...      ...      ...      ...      ...      ...      ...      ...      ...      ...      ...      ...      ...      ...      ...      ...      ...      ...      ...      ...      ...      ...      ...      ...      ...      ...      ...      ...      ...      ...      ...      ...      ...      ...      ...      ...      ...      ...      ...      ...      ...      ...      ...      ...      ...      ...      ...      ...      ...      ...      ...      ...      ...      ...      ...      ...      ...      ...      ...      ...      ...      ...      ...      ...      ...      ...      ...      ...      ...      ...      ...      ...      ...      ...      ...      ...      ...      ...      ...      ...      ...      ...      ...      ...      ...      ...      ...      ...      ...      ...      ...      ...      ...      ...      ...      ...      ...      ...      ...      ...      ...      ...      ...      ...      ...      ...      ...      ...      ...      ...      ...      ...      ...      ...      ...      ...      ...      ...      ...      ...      ...      ...      ...      ...      ...      ...      ...      ...      ...      ...      ...      ...      ...      ...      ...      ...      ...      ...      ...      ...      ...      ...      ...      ...      ...      ...      ...      ...      ...      ...      ...      ...      ...      ...      ...      ...      ...      ...      ...      ...      ...      ...      ...      ...      ...      ...      ...      ...      ...      ...      ...      ...      ...      ...      ...      ...      ...      ...      ...      ...      ...      ...      ...      ...      ...      ...      ...      ...      ...      ...      ...      ...      ...      ...      ...      ...      ...      ...      ...      ...      ...      ...      ...      ...      ...      ...      ...      ...      ...      ...      ...      ...      ...      ...      ...      ...      ...      ...      ...      ...      ...      ...      ...      ...      ...      ...      ...      ...      ...      ...      ...      ...      ...      ...      ...      ...      ...      ...      ...      ...      ...      ...      ...      ...      ...      ...      ...      ...      ...      ...      ...      ...      ...      ...      ...      ...      ...      ...      ...      ...      ...      ...      ...      ...      ...      ...      ...      ...      ...      ...      ...      ...      ...      ...      ...      ...      ...      ...      ...      ...      ...      ...      ...      ...      ...      ...      ...      ...      ...      ...      ...      ...      ...      ...      ...      ...      ...      ...      ...      ...      ...      ...      ...      ...      ...      ...      ...      ...      ...      ...      ...      ...      ...      ...      ...      ...      ...      ...      ...      ...      ...      ...      ...      ...      ...      ...      ...      ...      ...      ...      ...      ...      ...      ...      ...      ...      ...      ...      ...      ...      ...      ...      ...      ...      ...      ...      ...      ...      ...      ...      ...      ...      ...      ...      ...      ...      ...      ...      ...      ...      ...      ...      ...      ...      ...      ...      ...      ...      ...      ...      ...      ...      ...      ...      ...      ...      ...      ...      ...      ...      ...      ...      ...      ...      ...      ...      ...      ...      ...      ...      ...      ...      ...      ...      ...      ...      ...      ...      ...      ...      ...      ...      ...      ...      ...      ...      ...      ...      ...      ...      ...      ...      ...      ...      ...      ...      ...      ...      ...      ...      ...      ...      ...      ...      ...      ...      ...      ...      ...      ...      ...      ...      ...      ...      ...      ...      ...      ...      ...      ...      ...      ...      ...      ...      ...      ...      ...      ...      ...      ...      ...      ...      ...      ...      ...      ...      ...      ...      ...      ...      ...      ...      ...      ...      ...      ...      ...      ...      ...      ...      ...      ...      ...      ...      ...      ...      ...      ...      ...      ...      ...      ...      ...      ...      ...      ...      ...      ...      ...      ...      ...      ...      ...      ...      ...      ...      ...      ...      ...      ...      ...      ...      ...      ...      ...      ...      ...      ...      ...      ...      ...      ...      ...      ...      ...      ...\n",
            "Dask Name: pivottable, 5 expressions\n",
            "Expr=PivotTable(frame=Assign(frame=ReadParquetFSSpec(02d07fe)), columns='property', index='itemid', values='value_n', aggfunc='first')\n"
          ]
        }
      ],
      "source": [
        "print(item_feature_matrix)"
      ]
    },
    {
      "cell_type": "markdown",
      "id": "a895d337",
      "metadata": {
        "id": "a895d337"
      },
      "source": [
        "Merging With Item properties and categories"
      ]
    },
    {
      "cell_type": "code",
      "execution_count": null,
      "id": "a0d049db",
      "metadata": {
        "id": "a0d049db"
      },
      "outputs": [],
      "source": [
        "coo = user_item_matrix.tocoo()"
      ]
    },
    {
      "cell_type": "code",
      "execution_count": null,
      "id": "a064eb18",
      "metadata": {
        "id": "a064eb18"
      },
      "outputs": [],
      "source": [
        "visitor_ids = events_F[\"visitorid\"].unique().compute()\n",
        "item_ids = events_F[\"itemid\"].unique().compute()"
      ]
    },
    {
      "cell_type": "code",
      "execution_count": null,
      "id": "d564f3f1",
      "metadata": {
        "id": "d564f3f1"
      },
      "outputs": [],
      "source": [
        "visitor2idx = {v: i for i, v in enumerate(visitor_ids)}\n",
        "item2idx = {i: j for j, i in enumerate(item_ids)}"
      ]
    },
    {
      "cell_type": "code",
      "execution_count": null,
      "id": "262d4ccf",
      "metadata": {
        "id": "262d4ccf"
      },
      "outputs": [],
      "source": [
        "events_idx = events_F.compute()\n",
        "events_idx[\"visitor_idx\"] = events_idx[\"visitor_idx\"].astype(\"int32\")\n",
        "events_idx[\"item_idx\"] = events_idx[\"item_idx\"].astype(\"int32\")"
      ]
    },
    {
      "cell_type": "code",
      "execution_count": null,
      "id": "c088b76b",
      "metadata": {
        "id": "c088b76b"
      },
      "outputs": [],
      "source": [
        "events_idx = events_idx.dropna(subset=[\"visitor_idx\", \"item_idx\"])"
      ]
    },
    {
      "cell_type": "code",
      "execution_count": null,
      "id": "4c287247",
      "metadata": {
        "id": "4c287247"
      },
      "outputs": [],
      "source": [
        "coo = coo_matrix(\n",
        "    (events_idx[\"interaction_strength\"],\n",
        "     (events_idx[\"visitor_idx\"], events_idx[\"item_idx\"]))\n",
        ")"
      ]
    },
    {
      "cell_type": "code",
      "execution_count": null,
      "id": "cd570cba",
      "metadata": {
        "id": "cd570cba"
      },
      "outputs": [],
      "source": [
        "df = pd.DataFrame({\n",
        "    \"visitor_idx\": coo.row,\n",
        "    \"item_idx\": coo.col,\n",
        "    \"interaction_strength\": coo.data\n",
        "})"
      ]
    },
    {
      "cell_type": "code",
      "execution_count": null,
      "id": "3a08b328",
      "metadata": {
        "id": "3a08b328"
      },
      "outputs": [],
      "source": [
        "events_idx[\"visitor_idx\"] = events_idx[\"visitorid\"].map(visitor2idx)\n",
        "events_idx[\"item_idx\"] = events_idx[\"itemid\"].map(item2idx)"
      ]
    },
    {
      "cell_type": "code",
      "execution_count": null,
      "id": "e01744a3",
      "metadata": {
        "id": "e01744a3",
        "outputId": "943bbdd2-f454-4ac5-9e3c-a4568f45be74"
      },
      "outputs": [
        {
          "ename": "MemoryError",
          "evalue": "Unable to allocate 1.87 GiB for an array with shape (251065907,) and data type int64",
          "output_type": "error",
          "traceback": [
            "\u001b[1;31m---------------------------------------------------------------------------\u001b[0m",
            "\u001b[1;31mMemoryError\u001b[0m                               Traceback (most recent call last)",
            "Cell \u001b[1;32mIn[37], line 1\u001b[0m\n\u001b[1;32m----> 1\u001b[0m item_feature_matrix_reset \u001b[38;5;241m=\u001b[39m \u001b[43mitem_feature_matrix_reset\u001b[49m\u001b[38;5;241;43m.\u001b[39;49m\u001b[43mcompute\u001b[49m\u001b[43m(\u001b[49m\u001b[43m)\u001b[49m\n\u001b[0;32m      2\u001b[0m user_item_features \u001b[38;5;241m=\u001b[39m df\u001b[38;5;241m.\u001b[39mmerge(\n\u001b[0;32m      3\u001b[0m     item_feature_matrix_reset,\n\u001b[0;32m      4\u001b[0m     on\u001b[38;5;241m=\u001b[39m\u001b[38;5;124m\"\u001b[39m\u001b[38;5;124mitemid\u001b[39m\u001b[38;5;124m\"\u001b[39m,\n\u001b[0;32m      5\u001b[0m     how\u001b[38;5;241m=\u001b[39m\u001b[38;5;124m\"\u001b[39m\u001b[38;5;124mleft\u001b[39m\u001b[38;5;124m\"\u001b[39m\n\u001b[0;32m      6\u001b[0m )\n",
            "File \u001b[1;32mc:\\Users\\Law\\AppData\\Local\\Programs\\Python\\Python311\\Lib\\site-packages\\dask\\base.py:373\u001b[0m, in \u001b[0;36mDaskMethodsMixin.compute\u001b[1;34m(self, **kwargs)\u001b[0m\n\u001b[0;32m    349\u001b[0m \u001b[38;5;28;01mdef\u001b[39;00m \u001b[38;5;21mcompute\u001b[39m(\u001b[38;5;28mself\u001b[39m, \u001b[38;5;241m*\u001b[39m\u001b[38;5;241m*\u001b[39mkwargs):\n\u001b[0;32m    350\u001b[0m \u001b[38;5;250m    \u001b[39m\u001b[38;5;124;03m\"\"\"Compute this dask collection\u001b[39;00m\n\u001b[0;32m    351\u001b[0m \n\u001b[0;32m    352\u001b[0m \u001b[38;5;124;03m    This turns a lazy Dask collection into its in-memory equivalent.\u001b[39;00m\n\u001b[1;32m   (...)\u001b[0m\n\u001b[0;32m    371\u001b[0m \u001b[38;5;124;03m    dask.compute\u001b[39;00m\n\u001b[0;32m    372\u001b[0m \u001b[38;5;124;03m    \"\"\"\u001b[39;00m\n\u001b[1;32m--> 373\u001b[0m     (result,) \u001b[38;5;241m=\u001b[39m \u001b[43mcompute\u001b[49m\u001b[43m(\u001b[49m\u001b[38;5;28;43mself\u001b[39;49m\u001b[43m,\u001b[49m\u001b[43m \u001b[49m\u001b[43mtraverse\u001b[49m\u001b[38;5;241;43m=\u001b[39;49m\u001b[38;5;28;43;01mFalse\u001b[39;49;00m\u001b[43m,\u001b[49m\u001b[43m \u001b[49m\u001b[38;5;241;43m*\u001b[39;49m\u001b[38;5;241;43m*\u001b[39;49m\u001b[43mkwargs\u001b[49m\u001b[43m)\u001b[49m\n\u001b[0;32m    374\u001b[0m     \u001b[38;5;28;01mreturn\u001b[39;00m result\n",
            "File \u001b[1;32mc:\\Users\\Law\\AppData\\Local\\Programs\\Python\\Python311\\Lib\\site-packages\\dask\\base.py:681\u001b[0m, in \u001b[0;36mcompute\u001b[1;34m(traverse, optimize_graph, scheduler, get, *args, **kwargs)\u001b[0m\n\u001b[0;32m    678\u001b[0m     expr \u001b[38;5;241m=\u001b[39m expr\u001b[38;5;241m.\u001b[39moptimize()\n\u001b[0;32m    679\u001b[0m     keys \u001b[38;5;241m=\u001b[39m \u001b[38;5;28mlist\u001b[39m(flatten(expr\u001b[38;5;241m.\u001b[39m__dask_keys__()))\n\u001b[1;32m--> 681\u001b[0m     results \u001b[38;5;241m=\u001b[39m \u001b[43mschedule\u001b[49m\u001b[43m(\u001b[49m\u001b[43mexpr\u001b[49m\u001b[43m,\u001b[49m\u001b[43m \u001b[49m\u001b[43mkeys\u001b[49m\u001b[43m,\u001b[49m\u001b[43m \u001b[49m\u001b[38;5;241;43m*\u001b[39;49m\u001b[38;5;241;43m*\u001b[39;49m\u001b[43mkwargs\u001b[49m\u001b[43m)\u001b[49m\n\u001b[0;32m    683\u001b[0m \u001b[38;5;28;01mreturn\u001b[39;00m repack(results)\n",
            "File \u001b[1;32malgos.pyx:241\u001b[0m, in \u001b[0;36mpandas._libs.algos.groupsort_indexer\u001b[1;34m()\u001b[0m\n",
            "\u001b[1;31mMemoryError\u001b[0m: Unable to allocate 1.87 GiB for an array with shape (251065907,) and data type int64"
          ]
        }
      ],
      "source": [
        "item_feature_matrix = item_feature_matrix.compute()\n",
        "\n",
        "user_item_features = df.merge(\n",
        "    item_feature_matrix,\n",
        "    on=\"itemid\",\n",
        "    how=\"left\"\n",
        ")"
      ]
    },
    {
      "cell_type": "markdown",
      "id": "80971f60",
      "metadata": {
        "id": "80971f60"
      },
      "source": [
        "model fitting"
      ]
    },
    {
      "cell_type": "code",
      "execution_count": null,
      "id": "bff34a4c",
      "metadata": {
        "id": "bff34a4c"
      },
      "outputs": [],
      "source": [
        "from sklearn.model_selection import train_test_split"
      ]
    },
    {
      "cell_type": "code",
      "execution_count": null,
      "id": "37f7bc07",
      "metadata": {
        "id": "37f7bc07"
      },
      "outputs": [],
      "source": [
        "train_df, test_df = train_test_split(\n",
        "    user_item_features,\n",
        "    test_size=0.2,\n",
        "    random_state=42\n",
        ")"
      ]
    },
    {
      "cell_type": "code",
      "execution_count": null,
      "id": "2ff3bde4",
      "metadata": {
        "id": "2ff3bde4"
      },
      "outputs": [],
      "source": [
        "\n",
        "X_train = train_df.drop([\"visitorid\", \"itemid\", \"interaction_strength\"], axis=1)\n",
        "y_train = train_df[\"interaction_strength\"]"
      ]
    },
    {
      "cell_type": "code",
      "execution_count": null,
      "id": "50e1e181",
      "metadata": {
        "id": "50e1e181"
      },
      "outputs": [],
      "source": [
        "X_test = test_df.drop([\"visitorid\", \"itemid\", \"interaction_strength\"], axis=1)\n",
        "y_test = test_df[\"interaction_strength\"]"
      ]
    },
    {
      "cell_type": "code",
      "execution_count": null,
      "id": "5597e127",
      "metadata": {
        "id": "5597e127"
      },
      "outputs": [],
      "source": [
        "als_model = AlternatingLeastSquares(factors = 50, regularization = 0.1, iterations = 20)\n",
        "als_model.fit(user_item_matrix)"
      ]
    },
    {
      "cell_type": "code",
      "execution_count": null,
      "id": "1cd79299",
      "metadata": {
        "id": "1cd79299"
      },
      "outputs": [],
      "source": [
        "user_recs = {}\n",
        "N = 10\n",
        "\n",
        "for user_idx in range(user_item_matrix.shape[0]):\n",
        "    recommended = als_model.recommend(user_idx, user_item_matrix[user_idx], N = N)\n",
        "    user_recs[user_idx] = [(item_idx, score) for item_idx, score in recommended]"
      ]
    },
    {
      "cell_type": "code",
      "execution_count": null,
      "id": "57cc57f0",
      "metadata": {
        "id": "57cc57f0"
      },
      "outputs": [],
      "source": [
        "recs_df = pd.DataFrame(\n",
        "    [(user, item, score) for user, recs in user_recs.items() for item, score in recs],\n",
        "    columns = [\"visitor_idx\", \"item_idx\", \"score\"]\n",
        ")"
      ]
    },
    {
      "cell_type": "markdown",
      "id": "0df88846",
      "metadata": {
        "id": "0df88846"
      },
      "source": [
        "#### Task 1 (Predict Add-to-Cart Properties)"
      ]
    },
    {
      "cell_type": "code",
      "execution_count": null,
      "id": "18163a66",
      "metadata": {
        "id": "18163a66"
      },
      "outputs": [],
      "source": [
        "carts = events[events[\"event\"] == \"addtocart\"]"
      ]
    },
    {
      "cell_type": "markdown",
      "id": "edb1c21d",
      "metadata": {
        "id": "edb1c21d"
      },
      "source": [
        "### Task 2 (Detect Abnormal Users)"
      ]
    },
    {
      "cell_type": "code",
      "execution_count": null,
      "id": "07d4cdd6",
      "metadata": {
        "id": "07d4cdd6"
      },
      "outputs": [],
      "source": [
        "unique_items = events.groupby(\"visitorid\")[\"itemid\"].nunique()"
      ]
    },
    {
      "cell_type": "code",
      "execution_count": null,
      "id": "b18fcef6",
      "metadata": {
        "id": "b18fcef6"
      },
      "outputs": [],
      "source": [
        "event_counts = events.groupby(\"visitorid\")[\"event\"].count()"
      ]
    },
    {
      "cell_type": "code",
      "execution_count": null,
      "id": "b651729d",
      "metadata": {
        "id": "b651729d"
      },
      "outputs": [],
      "source": [
        "user_stats = unique_items.to_frame(\"unique_items\").merge(\n",
        "    event_counts.to_frame(\"total_events\"),\n",
        "    left_index = True,\n",
        "    right_index = True\n",
        ")"
      ]
    },
    {
      "cell_type": "code",
      "execution_count": null,
      "id": "1b196e2a",
      "metadata": {
        "id": "1b196e2a"
      },
      "outputs": [],
      "source": [
        "user_stats = user_stats.compute()\n",
        "\n",
        "print(user_stats.head())"
      ]
    },
    {
      "cell_type": "markdown",
      "id": "862c2144",
      "metadata": {
        "id": "862c2144"
      },
      "source": [
        "### Data Visualization and Analysing Business Question\n",
        "\n",
        "\n",
        "\n",
        "\n",
        "- How do user demographics influence their preferences and interactions?\n",
        "\n",
        "- What products are frequently purchased or viewed together?\n",
        "\n",
        "- How do popularity metrics evolve monthly or seasonally?\n",
        "\n",
        "- Which items frequently co-occur in transactions?\n",
        "\n",
        "- How do preferences differ across age, location, or other demographics?"
      ]
    },
    {
      "cell_type": "code",
      "execution_count": null,
      "id": "78312aa5",
      "metadata": {
        "id": "78312aa5"
      },
      "outputs": [],
      "source": [
        "import matplotlib.pyplot as plt\n",
        "import seaborn as sns\n",
        "import plotly.express as px\n",
        "import plotly.graph_objects as go"
      ]
    },
    {
      "cell_type": "markdown",
      "id": "d23f2966",
      "metadata": {
        "id": "d23f2966"
      },
      "source": [
        "Q1\n",
        "- How many unique visitors per day and week?"
      ]
    },
    {
      "cell_type": "code",
      "execution_count": null,
      "id": "456685c9",
      "metadata": {
        "id": "456685c9"
      },
      "outputs": [],
      "source": [
        "unique_visitors_daily = events.groupby(events[\"timestamp\"].dt.date)[\"visitorid\"].nunique().compute()"
      ]
    },
    {
      "cell_type": "code",
      "execution_count": null,
      "id": "7fad7bd6",
      "metadata": {
        "id": "7fad7bd6"
      },
      "outputs": [],
      "source": [
        "\n",
        "print(unique_visitors_daily.head(10))"
      ]
    },
    {
      "cell_type": "markdown",
      "id": "eba7d012",
      "metadata": {
        "id": "eba7d012"
      },
      "source": [
        "Q2\n",
        "- What patterns exist in user-item interactions over time?"
      ]
    },
    {
      "cell_type": "code",
      "execution_count": null,
      "id": "459621b7",
      "metadata": {
        "id": "459621b7"
      },
      "outputs": [],
      "source": []
    }
  ],
  "metadata": {
    "kernelspec": {
      "display_name": "Python 3",
      "language": "python",
      "name": "python3"
    },
    "language_info": {
      "codemirror_mode": {
        "name": "ipython",
        "version": 3
      },
      "file_extension": ".py",
      "mimetype": "text/x-python",
      "name": "python",
      "nbconvert_exporter": "python",
      "pygments_lexer": "ipython3",
      "version": "3.11.5"
    },
    "colab": {
      "provenance": [],
      "include_colab_link": true
    }
  },
  "nbformat": 4,
  "nbformat_minor": 5
}